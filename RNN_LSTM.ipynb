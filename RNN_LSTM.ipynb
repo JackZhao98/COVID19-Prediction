{
 "cells": [
  {
   "cell_type": "markdown",
   "metadata": {},
   "source": [
    "# 1. Data Preprocessing"
   ]
  },
  {
   "cell_type": "markdown",
   "metadata": {},
   "source": [
    "## 1.1 Import Dependencies"
   ]
  },
  {
   "cell_type": "code",
   "execution_count": 1,
   "metadata": {},
   "outputs": [],
   "source": [
    "import math\n",
    "import matplotlib.pyplot as plt\n",
    "import numpy as np\n",
    "import pandas as pd\n",
    "import os\n",
    "from collections import defaultdict\n",
    "from sklearn.preprocessing import StandardScaler\n",
    "from sklearn.preprocessing import MinMaxScaler"
   ]
  },
  {
   "cell_type": "code",
   "execution_count": 2,
   "metadata": {
    "scrolled": true
   },
   "outputs": [
    {
     "name": "stdout",
     "output_type": "stream",
     "text": [
      "./data/test_round2.csv\n",
      "./data/.DS_Store\n",
      "./data/train_round2.csv\n",
      "./data/graph_round2.csv\n",
      "./data/test.csv\n",
      "./data/graph.csv\n",
      "./data/submission_round2.csv\n",
      "./data/submission.csv\n",
      "./data/train.csv\n",
      "./data/covid-full.csv\n"
     ]
    }
   ],
   "source": [
    "for dirname, _, filenames in os.walk('./data'):\n",
    "    for filename in filenames:\n",
    "        print(os.path.join(dirname, filename))"
   ]
  },
  {
   "cell_type": "markdown",
   "metadata": {},
   "source": [
    "## 1.2 Load Data"
   ]
  },
  {
   "cell_type": "code",
   "execution_count": 3,
   "metadata": {},
   "outputs": [
    {
     "data": {
      "text/html": [
       "<div>\n",
       "<style scoped>\n",
       "    .dataframe tbody tr th:only-of-type {\n",
       "        vertical-align: middle;\n",
       "    }\n",
       "\n",
       "    .dataframe tbody tr th {\n",
       "        vertical-align: top;\n",
       "    }\n",
       "\n",
       "    .dataframe thead th {\n",
       "        text-align: right;\n",
       "    }\n",
       "</style>\n",
       "<table border=\"1\" class=\"dataframe\">\n",
       "  <thead>\n",
       "    <tr style=\"text-align: right;\">\n",
       "      <th></th>\n",
       "      <th>ID</th>\n",
       "      <th>Confirmed</th>\n",
       "      <th>Deaths</th>\n",
       "      <th>Recovered</th>\n",
       "      <th>Active</th>\n",
       "      <th>Incident_Rate</th>\n",
       "      <th>People_Tested</th>\n",
       "      <th>People_Hospitalized</th>\n",
       "      <th>Mortality_Rate</th>\n",
       "      <th>Testing_Rate</th>\n",
       "      <th>Hospitalization_Rate</th>\n",
       "    </tr>\n",
       "  </thead>\n",
       "  <tbody>\n",
       "    <tr>\n",
       "      <th>count</th>\n",
       "      <td>7100.000000</td>\n",
       "      <td>7100.000000</td>\n",
       "      <td>7100.000000</td>\n",
       "      <td>5771.000000</td>\n",
       "      <td>7100.000000</td>\n",
       "      <td>7100.000000</td>\n",
       "      <td>7.100000e+03</td>\n",
       "      <td>5047.000000</td>\n",
       "      <td>7100.000000</td>\n",
       "      <td>7100.000000</td>\n",
       "      <td>5047.000000</td>\n",
       "    </tr>\n",
       "    <tr>\n",
       "      <th>mean</th>\n",
       "      <td>3549.500000</td>\n",
       "      <td>56374.339577</td>\n",
       "      <td>2323.883099</td>\n",
       "      <td>20422.274649</td>\n",
       "      <td>37635.120986</td>\n",
       "      <td>747.273790</td>\n",
       "      <td>6.427069e+05</td>\n",
       "      <td>6250.044185</td>\n",
       "      <td>3.653231</td>\n",
       "      <td>9666.099116</td>\n",
       "      <td>12.197144</td>\n",
       "    </tr>\n",
       "    <tr>\n",
       "      <th>std</th>\n",
       "      <td>2049.737788</td>\n",
       "      <td>95058.665054</td>\n",
       "      <td>4742.274729</td>\n",
       "      <td>39262.213465</td>\n",
       "      <td>79067.101832</td>\n",
       "      <td>637.397470</td>\n",
       "      <td>1.127555e+06</td>\n",
       "      <td>13880.694435</td>\n",
       "      <td>2.074042</td>\n",
       "      <td>7779.560336</td>\n",
       "      <td>5.255183</td>\n",
       "    </tr>\n",
       "    <tr>\n",
       "      <th>min</th>\n",
       "      <td>0.000000</td>\n",
       "      <td>270.000000</td>\n",
       "      <td>0.000000</td>\n",
       "      <td>0.000000</td>\n",
       "      <td>-989.000000</td>\n",
       "      <td>32.771004</td>\n",
       "      <td>5.459000e+03</td>\n",
       "      <td>10.000000</td>\n",
       "      <td>0.000000</td>\n",
       "      <td>460.300152</td>\n",
       "      <td>2.302896</td>\n",
       "    </tr>\n",
       "    <tr>\n",
       "      <th>25%</th>\n",
       "      <td>1774.750000</td>\n",
       "      <td>6097.500000</td>\n",
       "      <td>153.000000</td>\n",
       "      <td>1614.500000</td>\n",
       "      <td>2849.000000</td>\n",
       "      <td>224.815702</td>\n",
       "      <td>1.000775e+05</td>\n",
       "      <td>595.000000</td>\n",
       "      <td>1.928925</td>\n",
       "      <td>3379.288445</td>\n",
       "      <td>8.387037</td>\n",
       "    </tr>\n",
       "    <tr>\n",
       "      <th>50%</th>\n",
       "      <td>3549.500000</td>\n",
       "      <td>22892.000000</td>\n",
       "      <td>681.000000</td>\n",
       "      <td>5881.000000</td>\n",
       "      <td>10409.000000</td>\n",
       "      <td>540.836745</td>\n",
       "      <td>2.643235e+05</td>\n",
       "      <td>2068.000000</td>\n",
       "      <td>3.362027</td>\n",
       "      <td>7842.820591</td>\n",
       "      <td>11.351161</td>\n",
       "    </tr>\n",
       "    <tr>\n",
       "      <th>75%</th>\n",
       "      <td>5324.250000</td>\n",
       "      <td>62959.250000</td>\n",
       "      <td>2334.000000</td>\n",
       "      <td>26103.000000</td>\n",
       "      <td>32106.500000</td>\n",
       "      <td>1126.282666</td>\n",
       "      <td>7.048395e+05</td>\n",
       "      <td>6134.500000</td>\n",
       "      <td>4.797564</td>\n",
       "      <td>14127.521137</td>\n",
       "      <td>15.396088</td>\n",
       "    </tr>\n",
       "    <tr>\n",
       "      <th>max</th>\n",
       "      <td>7099.000000</td>\n",
       "      <td>712475.000000</td>\n",
       "      <td>32957.000000</td>\n",
       "      <td>507499.000000</td>\n",
       "      <td>699453.000000</td>\n",
       "      <td>3187.773001</td>\n",
       "      <td>1.137330e+07</td>\n",
       "      <td>89995.000000</td>\n",
       "      <td>9.741481</td>\n",
       "      <td>49502.860687</td>\n",
       "      <td>38.501190</td>\n",
       "    </tr>\n",
       "  </tbody>\n",
       "</table>\n",
       "</div>"
      ],
      "text/plain": [
       "                ID      Confirmed        Deaths      Recovered         Active  \\\n",
       "count  7100.000000    7100.000000   7100.000000    5771.000000    7100.000000   \n",
       "mean   3549.500000   56374.339577   2323.883099   20422.274649   37635.120986   \n",
       "std    2049.737788   95058.665054   4742.274729   39262.213465   79067.101832   \n",
       "min       0.000000     270.000000      0.000000       0.000000    -989.000000   \n",
       "25%    1774.750000    6097.500000    153.000000    1614.500000    2849.000000   \n",
       "50%    3549.500000   22892.000000    681.000000    5881.000000   10409.000000   \n",
       "75%    5324.250000   62959.250000   2334.000000   26103.000000   32106.500000   \n",
       "max    7099.000000  712475.000000  32957.000000  507499.000000  699453.000000   \n",
       "\n",
       "       Incident_Rate  People_Tested  People_Hospitalized  Mortality_Rate  \\\n",
       "count    7100.000000   7.100000e+03          5047.000000     7100.000000   \n",
       "mean      747.273790   6.427069e+05          6250.044185        3.653231   \n",
       "std       637.397470   1.127555e+06         13880.694435        2.074042   \n",
       "min        32.771004   5.459000e+03            10.000000        0.000000   \n",
       "25%       224.815702   1.000775e+05           595.000000        1.928925   \n",
       "50%       540.836745   2.643235e+05          2068.000000        3.362027   \n",
       "75%      1126.282666   7.048395e+05          6134.500000        4.797564   \n",
       "max      3187.773001   1.137330e+07         89995.000000        9.741481   \n",
       "\n",
       "       Testing_Rate  Hospitalization_Rate  \n",
       "count   7100.000000           5047.000000  \n",
       "mean    9666.099116             12.197144  \n",
       "std     7779.560336              5.255183  \n",
       "min      460.300152              2.302896  \n",
       "25%     3379.288445              8.387037  \n",
       "50%     7842.820591             11.351161  \n",
       "75%    14127.521137             15.396088  \n",
       "max    49502.860687             38.501190  "
      ]
     },
     "execution_count": 3,
     "metadata": {},
     "output_type": "execute_result"
    }
   ],
   "source": [
    "data_dir = 'data'\n",
    "temporal_data_path = os.path.join(data_dir, 'train.csv')\n",
    "mobility_data_path = os.path.join(data_dir, 'graph_round2.csv')\n",
    "\n",
    "temporal_data = pd.read_csv(temporal_data_path)\n",
    "temporal_data.describe()\n",
    "\n",
    "# train.csv 04/12/2020 to 08/31/2020\n",
    "# train_round2.csv 04/12/2020 to 11/22/2020\n",
    "# train_round2-1205.csv 04/12/2020 to 12/05/2020\n",
    "# to predict 12/07/2020 to 12/13/2020, forecast 8 days, take the last 7 days"
   ]
  },
  {
   "cell_type": "code",
   "execution_count": 4,
   "metadata": {},
   "outputs": [],
   "source": [
    "states = list(np.unique(temporal_data['Province_State']))\n",
    "state_cum_temporal_data = dict.fromkeys(states, None)\n",
    "state_temporal_data = dict.fromkeys(states, None)\n",
    "# state_cum_temporal_scaler = defaultdict(StandardScaler)\n",
    "# state_temporal_scaler = defaultdict(StandardScaler)\n",
    "dropped_attr = ['Date',\n",
    "                'Active',\n",
    "                'ID', \n",
    "                'Province_State', \n",
    "                'Incident_Rate', \n",
    "                'Recovered', \n",
    "                'People_Tested', \n",
    "                'People_Hospitalized', \n",
    "                'Mortality_Rate', \n",
    "                'Testing_Rate', \n",
    "                'Hospitalization_Rate']\n",
    "\n",
    "for s in states:\n",
    "    df_filter = temporal_data['Province_State'] == s\n",
    "    state_df = temporal_data[df_filter]\n",
    "    # Daily difference data\n",
    "    state_temporal_data[s] = state_df.drop(dropped_attr, 1)\n",
    "    for col in state_temporal_data[s]:\n",
    "        data = state_temporal_data[s][col].tolist()\n",
    "        diff = [i - j for i, j in zip(data, [*[data[0]], *data[:len(data) - 1]])]\n",
    "        state_temporal_data[s][col] = diff\n",
    "    save_columns = state_temporal_data[s].columns\n",
    "#     state_temporal_data[s] = state_temporal_scaler[s].fit_transform(state_temporal_data[s])\n",
    "    state_temporal_data[s] = pd.DataFrame(state_temporal_data[s], columns=save_columns)\n",
    "    # Daily cumulative data\n",
    "    state_cum_temporal_data[s] = state_df.drop(dropped_attr, 1)\n",
    "    save_columns = state_cum_temporal_data[s].columns\n",
    "#     state_cum_temporal_data[s] = state_cum_temporal_scaler[s].fit_transform(state_cum_temporal_data[s])\n",
    "    state_cum_temporal_data[s] = pd.DataFrame(state_cum_temporal_data[s], columns=save_columns)"
   ]
  },
  {
   "cell_type": "code",
   "execution_count": 5,
   "metadata": {},
   "outputs": [
    {
     "data": {
      "text/plain": [
       "array([[  0,   0],\n",
       "       [138,   0],\n",
       "       [120,   0],\n",
       "       [180,   0],\n",
       "       [143,   1],\n",
       "       [100,   0],\n",
       "       [131,   0],\n",
       "       [ 93,   0],\n",
       "       [ 50,   0],\n",
       "       [ 70,   1],\n",
       "       [103,   1],\n",
       "       [ 98,   0],\n",
       "       [ 84,   1],\n",
       "       [107,   0],\n",
       "       [ 65,   1],\n",
       "       [ 32,   0],\n",
       "       [ 69,   0],\n",
       "       [ 60,   2],\n",
       "       [ 76,   4],\n",
       "       [ 76,   4],\n",
       "       [ 63,   0],\n",
       "       [ 43,   0],\n",
       "       [ 37,   0],\n",
       "       [ 53,   3],\n",
       "       [ 59,   5],\n",
       "       [126,   2],\n",
       "       [239,   0],\n",
       "       [248,   3],\n",
       "       [124,   0],\n",
       "       [ 97,   0],\n",
       "       [ 49,   5],\n",
       "       [ 69,   0],\n",
       "       [ 60,   4],\n",
       "       [ 95,   1],\n",
       "       [ 72,   0],\n",
       "       [ 28,   0],\n",
       "       [ 40,   0],\n",
       "       [ 58,   2],\n",
       "       [ 92,   0],\n",
       "       [  0,   2],\n",
       "       [179,   2],\n",
       "       [108,   0],\n",
       "       [ 99,   0],\n",
       "       [ 23,   0],\n",
       "       [ 67,   0],\n",
       "       [ 57,   4],\n",
       "       [ 83,   0],\n",
       "       [ 73,   5],\n",
       "       [ 94,   3],\n",
       "       [ 33,   0],\n",
       "       [ 41,   0],\n",
       "       [ 33,   0],\n",
       "       [ 95,   0],\n",
       "       [ 85,   2],\n",
       "       [ 30,   0],\n",
       "       [ 90,   1],\n",
       "       [ 71,   0],\n",
       "       [ 33,   0],\n",
       "       [ 52,   3],\n",
       "       [ 81,   1],\n",
       "       [ 61,   4],\n",
       "       [ 77,   1],\n",
       "       [ 91,   1],\n",
       "       [ 65,   0],\n",
       "       [ 30,   0],\n",
       "       [ 38,   2],\n",
       "       [ 84,   1],\n",
       "       [ 59,   0],\n",
       "       [ 49,   3],\n",
       "       [ 67,   0],\n",
       "       [ 72,   0],\n",
       "       [ 29,   0],\n",
       "       [ 27,   2],\n",
       "       [ 66,   1],\n",
       "       [ 60,   3],\n",
       "       [ 56,   1],\n",
       "       [ 91,   3],\n",
       "       [ 55,   0],\n",
       "       [ 35,   0],\n",
       "       [ 48,   0],\n",
       "       [ 62,   2],\n",
       "       [ 67,   4],\n",
       "       [ 85,   0],\n",
       "       [ 50,   0],\n",
       "       [ 35,   0],\n",
       "       [ 42,   0],\n",
       "       [ 58,   1],\n",
       "       [ 79,   0],\n",
       "       [ 94,   3],\n",
       "       [ 65,   6],\n",
       "       [ 53,   2],\n",
       "       [ 45,   0],\n",
       "       [ 25,   0],\n",
       "       [ 48,   0],\n",
       "       [ 80,   2],\n",
       "       [ 42,   4],\n",
       "       [ 95,   1],\n",
       "       [ 73,   0],\n",
       "       [ 44,   2],\n",
       "       [ 37,   0],\n",
       "       [ 76,   0],\n",
       "       [ 58,   1],\n",
       "       [ 66,   2],\n",
       "       [ 57,   1],\n",
       "       [105,   0],\n",
       "       [ 90,   1],\n",
       "       [ 49,   0],\n",
       "       [ 48,   0],\n",
       "       [149,   6],\n",
       "       [ 44,   0],\n",
       "       [ 79,   1],\n",
       "       [103,   4],\n",
       "       [ 88,   1],\n",
       "       [ 65,   0],\n",
       "       [ 59,   1],\n",
       "       [ 89,   1],\n",
       "       [105,   4],\n",
       "       [ 98,   3],\n",
       "       [106,   2],\n",
       "       [128,   0],\n",
       "       [ 58,   0],\n",
       "       [ 50,   0],\n",
       "       [102,   1],\n",
       "       [ 82,   1],\n",
       "       [127,   2],\n",
       "       [ 94,   2],\n",
       "       [156,   1],\n",
       "       [ 86,   0],\n",
       "       [ 81,   1],\n",
       "       [125,   1],\n",
       "       [125,   2],\n",
       "       [193,   2],\n",
       "       [251,   1],\n",
       "       [141,   1],\n",
       "       [149,   0],\n",
       "       [ 80,   0],\n",
       "       [ 66,   1],\n",
       "       [623,   0],\n",
       "       [323,   3],\n",
       "       [425,   2],\n",
       "       [380,   0],\n",
       "       [187,   0]])"
      ]
     },
     "execution_count": 5,
     "metadata": {},
     "output_type": "execute_result"
    }
   ],
   "source": [
    "state_temporal_data['South Dakota'].values"
   ]
  },
  {
   "cell_type": "markdown",
   "metadata": {},
   "source": [
    "## Train a RNN Model with LSTM"
   ]
  },
  {
   "cell_type": "code",
   "execution_count": 6,
   "metadata": {},
   "outputs": [],
   "source": [
    "import tensorflow as tf\n",
    "from tensorflow import keras\n",
    "from tensorflow.keras import layers\n",
    "from tensorflow.keras.layers import Dense, LSTM, Dropout\n",
    "from tensorflow.keras import Sequential\n",
    "from tensorflow.keras import Input\n",
    "from tensorflow.keras.models import Model\n",
    "\n",
    "# window_size is use n days to predict (n+1)th day\n",
    "window_size = 14\n",
    "forecast_days = 26\n",
    "\n",
    "# test model for current_state\n",
    "current_state = 'South Dakota'\n",
    "data_training = state_temporal_data[current_state]"
   ]
  },
  {
   "cell_type": "code",
   "execution_count": 7,
   "metadata": {
    "scrolled": false
   },
   "outputs": [],
   "source": [
    "scaler = MinMaxScaler()\n",
    "# scaler = StandardScaler()\n",
    "data_training = scaler.fit_transform(data_training)"
   ]
  },
  {
   "cell_type": "code",
   "execution_count": 8,
   "metadata": {},
   "outputs": [],
   "source": [
    "X_train = []\n",
    "y_train = []\n",
    "\n",
    "data_training = np.array(data_training)\n",
    "data_training_np = np.array(data_training)\n",
    "\n",
    "for i in range(data_training.shape[0] - window_size):\n",
    "    X_train.append(data_training[i : i + window_size])\n",
    "    y_train.append(data_training_np[i + window_size])\n",
    "    \n",
    "X_train, y_train = np.array(X_train), np.array(y_train)"
   ]
  },
  {
   "cell_type": "code",
   "execution_count": 9,
   "metadata": {},
   "outputs": [
    {
     "data": {
      "text/plain": [
       "(128, 14, 2)"
      ]
     },
     "execution_count": 9,
     "metadata": {},
     "output_type": "execute_result"
    }
   ],
   "source": [
    "X_train.shape"
   ]
  },
  {
   "cell_type": "code",
   "execution_count": 10,
   "metadata": {},
   "outputs": [
    {
     "data": {
      "text/plain": [
       "(128, 2)"
      ]
     },
     "execution_count": 10,
     "metadata": {},
     "output_type": "execute_result"
    }
   ],
   "source": [
    "y_train.shape"
   ]
  },
  {
   "cell_type": "code",
   "execution_count": 11,
   "metadata": {},
   "outputs": [
    {
     "name": "stdout",
     "output_type": "stream",
     "text": [
      "Model: \"sequential\"\n",
      "_________________________________________________________________\n",
      "Layer (type)                 Output Shape              Param #   \n",
      "=================================================================\n",
      "lstm (LSTM)                  (None, 14, 20)            1840      \n",
      "_________________________________________________________________\n",
      "dropout (Dropout)            (None, 14, 20)            0         \n",
      "_________________________________________________________________\n",
      "lstm_1 (LSTM)                (None, 14, 10)            1240      \n",
      "_________________________________________________________________\n",
      "dropout_1 (Dropout)          (None, 14, 10)            0         \n",
      "_________________________________________________________________\n",
      "lstm_2 (LSTM)                (None, 20)                2480      \n",
      "_________________________________________________________________\n",
      "dropout_2 (Dropout)          (None, 20)                0         \n",
      "_________________________________________________________________\n",
      "dense (Dense)                (None, 2)                 42        \n",
      "=================================================================\n",
      "Total params: 5,602\n",
      "Trainable params: 5,602\n",
      "Non-trainable params: 0\n",
      "_________________________________________________________________\n"
     ]
    }
   ],
   "source": [
    "model = keras.Sequential()\n",
    "\n",
    "model.add(LSTM(units=20, activation = 'relu', return_sequences=True, input_shape=(X_train.shape[1], X_train.shape[2])))\n",
    "model.add(Dropout(0.3))\n",
    "\n",
    "model.add(LSTM(units=10, activation = 'relu', return_sequences=True))\n",
    "model.add(Dropout(0.3))\n",
    "\n",
    "model.add(LSTM(units=20, activation = 'relu', return_sequences=False))\n",
    "model.add(Dropout(0.3))\n",
    "model.add(Dense(units = 2))\n",
    "\n",
    "model.summary()"
   ]
  },
  {
   "cell_type": "code",
   "execution_count": 13,
   "metadata": {},
   "outputs": [
    {
     "name": "stdout",
     "output_type": "stream",
     "text": [
      "Train on 128 samples\n",
      "Epoch 1/50\n",
      "128/128 [==============================] - 12s 98ms/sample - loss: 0.0438\n",
      "Epoch 2/50\n",
      "128/128 [==============================] - 1s 4ms/sample - loss: 0.0403\n",
      "Epoch 3/50\n",
      "128/128 [==============================] - 0s 3ms/sample - loss: 0.0367\n",
      "Epoch 4/50\n",
      "128/128 [==============================] - 0s 3ms/sample - loss: 0.0327\n",
      "Epoch 5/50\n",
      "128/128 [==============================] - 0s 3ms/sample - loss: 0.0303\n",
      "Epoch 6/50\n",
      "128/128 [==============================] - 0s 3ms/sample - loss: 0.0287\n",
      "Epoch 7/50\n",
      "128/128 [==============================] - 0s 3ms/sample - loss: 0.0282\n",
      "Epoch 8/50\n",
      "128/128 [==============================] - 0s 3ms/sample - loss: 0.0263\n",
      "Epoch 9/50\n",
      "128/128 [==============================] - 0s 3ms/sample - loss: 0.0277\n",
      "Epoch 10/50\n",
      "128/128 [==============================] - 0s 3ms/sample - loss: 0.0253\n",
      "Epoch 11/50\n",
      "128/128 [==============================] - 0s 3ms/sample - loss: 0.0243\n",
      "Epoch 12/50\n",
      "128/128 [==============================] - 0s 3ms/sample - loss: 0.0246\n",
      "Epoch 13/50\n",
      "128/128 [==============================] - 0s 3ms/sample - loss: 0.0249\n",
      "Epoch 14/50\n",
      "128/128 [==============================] - 0s 3ms/sample - loss: 0.0227\n",
      "Epoch 15/50\n",
      "128/128 [==============================] - 0s 3ms/sample - loss: 0.0238\n",
      "Epoch 16/50\n",
      "128/128 [==============================] - 0s 3ms/sample - loss: 0.0242\n",
      "Epoch 17/50\n",
      "128/128 [==============================] - 0s 3ms/sample - loss: 0.0228\n",
      "Epoch 18/50\n",
      "128/128 [==============================] - 0s 3ms/sample - loss: 0.0238\n",
      "Epoch 19/50\n",
      "128/128 [==============================] - 0s 3ms/sample - loss: 0.0240\n",
      "Epoch 20/50\n",
      "128/128 [==============================] - 0s 3ms/sample - loss: 0.0236\n",
      "Epoch 21/50\n",
      "128/128 [==============================] - 0s 4ms/sample - loss: 0.0240\n",
      "Epoch 22/50\n",
      "128/128 [==============================] - 0s 3ms/sample - loss: 0.0234\n",
      "Epoch 23/50\n",
      "128/128 [==============================] - 0s 3ms/sample - loss: 0.0248\n",
      "Epoch 24/50\n",
      "128/128 [==============================] - 0s 3ms/sample - loss: 0.0237\n",
      "Epoch 25/50\n",
      "128/128 [==============================] - 0s 3ms/sample - loss: 0.0236\n",
      "Epoch 26/50\n",
      "128/128 [==============================] - 0s 3ms/sample - loss: 0.0246\n",
      "Epoch 27/50\n",
      "128/128 [==============================] - 0s 3ms/sample - loss: 0.0241\n",
      "Epoch 28/50\n",
      "128/128 [==============================] - 0s 3ms/sample - loss: 0.0254\n",
      "Epoch 29/50\n",
      "128/128 [==============================] - 0s 3ms/sample - loss: 0.0230\n",
      "Epoch 30/50\n",
      "128/128 [==============================] - 0s 3ms/sample - loss: 0.0245\n",
      "Epoch 31/50\n",
      "128/128 [==============================] - 0s 3ms/sample - loss: 0.0237\n",
      "Epoch 32/50\n",
      "128/128 [==============================] - 0s 3ms/sample - loss: 0.0240\n",
      "Epoch 33/50\n",
      "128/128 [==============================] - 0s 3ms/sample - loss: 0.0235\n",
      "Epoch 34/50\n",
      "128/128 [==============================] - 0s 3ms/sample - loss: 0.0232\n",
      "Epoch 35/50\n",
      "128/128 [==============================] - 0s 3ms/sample - loss: 0.0231\n",
      "Epoch 36/50\n",
      "128/128 [==============================] - 0s 3ms/sample - loss: 0.0232\n",
      "Epoch 37/50\n",
      "128/128 [==============================] - 0s 3ms/sample - loss: 0.0238\n",
      "Epoch 38/50\n",
      "128/128 [==============================] - 0s 3ms/sample - loss: 0.0226\n",
      "Epoch 39/50\n",
      "128/128 [==============================] - 0s 3ms/sample - loss: 0.0246\n",
      "Epoch 40/50\n",
      "128/128 [==============================] - 0s 3ms/sample - loss: 0.0237\n",
      "Epoch 41/50\n",
      "128/128 [==============================] - 0s 3ms/sample - loss: 0.0238\n",
      "Epoch 42/50\n",
      "128/128 [==============================] - 0s 3ms/sample - loss: 0.0223\n",
      "Epoch 43/50\n",
      "128/128 [==============================] - 0s 3ms/sample - loss: 0.0229\n",
      "Epoch 44/50\n",
      "128/128 [==============================] - 0s 3ms/sample - loss: 0.0230\n",
      "Epoch 45/50\n",
      "128/128 [==============================] - 0s 3ms/sample - loss: 0.0239\n",
      "Epoch 46/50\n",
      "128/128 [==============================] - 0s 3ms/sample - loss: 0.0234\n",
      "Epoch 47/50\n",
      "128/128 [==============================] - 0s 3ms/sample - loss: 0.0242\n",
      "Epoch 48/50\n",
      "128/128 [==============================] - 0s 3ms/sample - loss: 0.0226\n",
      "Epoch 49/50\n",
      "128/128 [==============================] - 0s 3ms/sample - loss: 0.0228\n",
      "Epoch 50/50\n",
      "128/128 [==============================] - 0s 3ms/sample - loss: 0.0245\n"
     ]
    },
    {
     "data": {
      "text/plain": [
       "<tensorflow.python.keras.callbacks.History at 0x7fad5a8d5208>"
      ]
     },
     "execution_count": 13,
     "metadata": {},
     "output_type": "execute_result"
    }
   ],
   "source": [
    "model.compile(optimizer='adam', loss = 'mean_squared_logarithmic_error')\n",
    "model.fit(X_train, y_train, epochs=50, batch_size=32, verbose=1)"
   ]
  },
  {
   "cell_type": "code",
   "execution_count": 14,
   "metadata": {},
   "outputs": [
    {
     "data": {
      "text/plain": [
       "array([[[0.13804173, 0.        ],\n",
       "        [0.13001605, 0.16666667],\n",
       "        [0.20064205, 0.16666667],\n",
       "        [0.20064205, 0.33333333],\n",
       "        [0.30979133, 0.33333333],\n",
       "        [0.40288925, 0.16666667],\n",
       "        [0.22632424, 0.16666667],\n",
       "        [0.23916533, 0.        ],\n",
       "        [0.12841091, 0.        ],\n",
       "        [0.105939  , 0.16666667],\n",
       "        [1.        , 0.        ],\n",
       "        [0.51845907, 0.5       ],\n",
       "        [0.68218299, 0.33333333],\n",
       "        [0.60995185, 0.        ]]])"
      ]
     },
     "execution_count": 14,
     "metadata": {},
     "output_type": "execute_result"
    }
   ],
   "source": [
    "prediction_queue = X_train[-1:]\n",
    "prediction_queue = np.array(prediction_queue)\n",
    "prediction_queue"
   ]
  },
  {
   "cell_type": "code",
   "execution_count": 15,
   "metadata": {
    "scrolled": true
   },
   "outputs": [],
   "source": [
    "y_case_forecast = []\n",
    "y_death_forecast = []\n",
    "\n",
    "for i in range(forecast_days):  \n",
    "    y_pred = model.predict(prediction_queue)\n",
    "    y_case_forecast.append(y_pred[0][0])\n",
    "    y_death_forecast.append(y_pred[0][1])\n",
    "    prediction_queue = np.append(prediction_queue, y_pred)\n",
    "    prediction_queue = np.delete(prediction_queue, 0)\n",
    "    prediction_queue = np.delete(prediction_queue, 0)\n",
    "    prediction_queue = prediction_queue.reshape(1,int(prediction_queue.shape[0] / 2),2)\n"
   ]
  },
  {
   "cell_type": "code",
   "execution_count": 16,
   "metadata": {},
   "outputs": [
    {
     "data": {
      "text/plain": [
       "[0.14655918,\n",
       " 0.1492577,\n",
       " 0.15208769,\n",
       " 0.15374026,\n",
       " 0.1550808,\n",
       " 0.15498659,\n",
       " 0.15324968,\n",
       " 0.15238926,\n",
       " 0.15063655,\n",
       " 0.14949316,\n",
       " 0.14874186,\n",
       " 0.14180624,\n",
       " 0.1393598,\n",
       " 0.13587993,\n",
       " 0.13238254,\n",
       " 0.13237335,\n",
       " 0.132336,\n",
       " 0.13227093,\n",
       " 0.13218659,\n",
       " 0.13208279,\n",
       " 0.13196623,\n",
       " 0.1318525,\n",
       " 0.13174048,\n",
       " 0.13163614,\n",
       " 0.1315398,\n",
       " 0.13145022]"
      ]
     },
     "execution_count": 16,
     "metadata": {},
     "output_type": "execute_result"
    }
   ],
   "source": [
    "y_case_forecast"
   ]
  },
  {
   "cell_type": "code",
   "execution_count": 17,
   "metadata": {},
   "outputs": [
    {
     "data": {
      "text/plain": [
       "[0.19343343,\n",
       " 0.1963694,\n",
       " 0.20019878,\n",
       " 0.20275058,\n",
       " 0.2053798,\n",
       " 0.20604958,\n",
       " 0.2040247,\n",
       " 0.2033237,\n",
       " 0.201071,\n",
       " 0.19966875,\n",
       " 0.19907501,\n",
       " 0.18860173,\n",
       " 0.18577138,\n",
       " 0.18075037,\n",
       " 0.17496932,\n",
       " 0.1750572,\n",
       " 0.17514911,\n",
       " 0.17523506,\n",
       " 0.17531028,\n",
       " 0.1753673,\n",
       " 0.17542052,\n",
       " 0.17546085,\n",
       " 0.17548376,\n",
       " 0.17549466,\n",
       " 0.17548037,\n",
       " 0.17545009]"
      ]
     },
     "execution_count": 17,
     "metadata": {},
     "output_type": "execute_result"
    }
   ],
   "source": [
    "y_death_forecast"
   ]
  },
  {
   "cell_type": "code",
   "execution_count": 18,
   "metadata": {},
   "outputs": [],
   "source": [
    "case_scale = 1/scaler.scale_[0]\n",
    "death_scale = 1/scaler.scale_[1]"
   ]
  },
  {
   "cell_type": "code",
   "execution_count": 19,
   "metadata": {},
   "outputs": [],
   "source": [
    "y_case_forecast = [case_scale * i for i in y_case_forecast]\n",
    "y_death_forecast = [death_scale * i for i in y_death_forecast]"
   ]
  },
  {
   "cell_type": "code",
   "execution_count": 20,
   "metadata": {},
   "outputs": [],
   "source": [
    "last_day_case = state_cum_temporal_data[current_state]['Confirmed'].iloc[-1]\n",
    "last_day_death = state_cum_temporal_data[current_state]['Deaths'].iloc[-1]\n",
    "\n",
    "y_cum_case_forecast = []\n",
    "y_cum_death_forecast = []\n",
    "\n",
    "cum_case = last_day_case\n",
    "cum_death = last_day_death\n",
    "for case in y_case_forecast:\n",
    "    cum_case += case\n",
    "    y_cum_case_forecast.append(cum_case)\n",
    "    \n",
    "for death in y_death_forecast:\n",
    "    cum_death += death\n",
    "    y_cum_death_forecast.append(cum_death)"
   ]
  },
  {
   "cell_type": "code",
   "execution_count": 21,
   "metadata": {},
   "outputs": [
    {
     "data": {
      "text/plain": [
       "[13600.306368410587,\n",
       " 13693.293918386102,\n",
       " 13788.044548287988,\n",
       " 13883.824728414416,\n",
       " 13980.440063878894,\n",
       " 14076.996709540486,\n",
       " 14172.471260800958,\n",
       " 14267.409768626094,\n",
       " 14361.25634162128,\n",
       " 14454.390578970313,\n",
       " 14547.056755393744,\n",
       " 14635.402045935392,\n",
       " 14722.223202586174,\n",
       " 14806.876401364803,\n",
       " 14889.350724965334,\n",
       " 14971.819320693612,\n",
       " 15054.26465216279,\n",
       " 15136.669442921877,\n",
       " 15219.021689504385,\n",
       " 15301.309267759323,\n",
       " 15383.52423107624,\n",
       " 15465.668334022164,\n",
       " 15547.742653474212,\n",
       " 15629.751970395446,\n",
       " 15711.701269984245,\n",
       " 15793.594757631421]"
      ]
     },
     "execution_count": 21,
     "metadata": {},
     "output_type": "execute_result"
    }
   ],
   "source": [
    "y_cum_case_forecast"
   ]
  },
  {
   "cell_type": "code",
   "execution_count": 22,
   "metadata": {},
   "outputs": [
    {
     "data": {
      "text/plain": [
       "[168.1606006026268,\n",
       " 169.33881697058678,\n",
       " 170.54000967741013,\n",
       " 171.75651314854622,\n",
       " 172.98879194259644,\n",
       " 174.2250894010067,\n",
       " 175.44923761487007,\n",
       " 176.6691798567772,\n",
       " 177.8756058216095,\n",
       " 179.07361832261086,\n",
       " 180.2680684030056,\n",
       " 181.39967879652977,\n",
       " 182.51430705189705,\n",
       " 183.59880927205086,\n",
       " 184.64862516522408,\n",
       " 185.69896838068962,\n",
       " 186.74986305832863,\n",
       " 187.80127343535423,\n",
       " 188.85313513875008,\n",
       " 189.90533891320229,\n",
       " 190.9578620493412,\n",
       " 192.01062712073326,\n",
       " 193.06352970004082,\n",
       " 194.11649763584137,\n",
       " 195.1693798303604,\n",
       " 196.22208034992218]"
      ]
     },
     "execution_count": 22,
     "metadata": {},
     "output_type": "execute_result"
    }
   ],
   "source": [
    "y_cum_death_forecast"
   ]
  },
  {
   "cell_type": "markdown",
   "metadata": {},
   "source": [
    "# 2. Train a RNN with LSTM for Every State"
   ]
  },
  {
   "cell_type": "markdown",
   "metadata": {},
   "source": [
    "## 2.1 Import Dependencies"
   ]
  },
  {
   "cell_type": "code",
   "execution_count": null,
   "metadata": {},
   "outputs": [],
   "source": [
    "import tensorflow as tf\n",
    "from tensorflow import keras\n",
    "from tensorflow.keras import layers\n",
    "from tensorflow.keras.layers import Dense, LSTM, Dropout\n",
    "from tensorflow.keras import Sequential\n",
    "from tensorflow.keras import Input\n",
    "from tensorflow.keras.models import Model\n",
    "\n",
    "# window_size is use n-1 days to predict nth day\n",
    "window_size = 21\n",
    "forecast_days = 26"
   ]
  },
  {
   "cell_type": "markdown",
   "metadata": {},
   "source": [
    "## 2.2 Helper Functions"
   ]
  },
  {
   "cell_type": "code",
   "execution_count": null,
   "metadata": {},
   "outputs": [],
   "source": [
    "states = state_temporal_data.keys()\n",
    "\n",
    "def get_training_data(state):\n",
    "    state_temporal_train = state_temporal_data[state]\n",
    "    scaler = MinMaxScaler()\n",
    "    state_temporal_train = scaler.fit_transform(state_temporal_train)\n",
    "    \n",
    "    X_train = []\n",
    "    y_train = []\n",
    "\n",
    "    state_temporal_train_np = np.array(state_temporal_train)\n",
    "\n",
    "    for i in range(state_temporal_train.shape[0] - window_size):\n",
    "        X_train.append(state_temporal_train[i : i + window_size])\n",
    "        y_train.append(state_temporal_train_np[i + window_size])\n",
    "\n",
    "    return np.array(X_train), np.array(y_train), scaler\n",
    "    \n",
    "\n",
    "def get_model(X_train):\n",
    "    model = keras.Sequential()\n",
    "\n",
    "    model.add(LSTM(units=20, activation = 'relu', return_sequences=True, input_shape=(X_train.shape[1], X_train.shape[2])))\n",
    "    model.add(Dropout(0.3))\n",
    "\n",
    "    model.add(LSTM(units=10, activation = 'relu', return_sequences=True))\n",
    "    model.add(Dropout(0.3))\n",
    "\n",
    "    model.add(LSTM(units=20, activation = 'relu', return_sequences=False))\n",
    "    model.add(Dropout(0.3))\n",
    "    model.add(Dense(units = 2))\n",
    "    \n",
    "    return model\n",
    "\n",
    "\n",
    "def get_prediction_queue(X_train):\n",
    "    prediction_queue = X_train[-1:]\n",
    "    return np.array(prediction_queue)\n",
    "\n",
    "\n",
    "def predict(model, queue, scaler):\n",
    "    prediction_queue = queue\n",
    "    \n",
    "    for i in range(forecast_days):  \n",
    "        y_pred = model.predict(prediction_queue)\n",
    "        prediction_queue = np.append(prediction_queue, y_pred)\n",
    "        prediction_queue = np.delete(prediction_queue, 0)\n",
    "        prediction_queue = np.delete(prediction_queue, 0)\n",
    "        prediction_queue = prediction_queue.reshape(1, prediction_queue.shape[0] // 2, 2)\n",
    "        \n",
    "    y_case_forecast = []\n",
    "    y_death_forecast = []\n",
    "\n",
    "    for i in range(forecast_days):\n",
    "        y_case_forecast.append(prediction_queue[0][i + window_size - forecast_days][0])\n",
    "        y_death_forecast.append(prediction_queue[0][i + window_size - forecast_days][1])\n",
    "        \n",
    "    case_scale = 1 / scaler.scale_[0]\n",
    "    death_scale = 1 / scaler.scale_[1]\n",
    "    \n",
    "    return [case_scale * i for i in y_case_forecast], [death_scale * i for i in y_death_forecast]\n",
    "\n",
    "\n",
    "def get_cum_forecast(state, y_case_forecast, y_death_forecast):\n",
    "    last_day_case = state_cum_temporal_data[state]['Confirmed'].iloc[-1]\n",
    "    last_day_death = state_cum_temporal_data[state]['Deaths'].iloc[-1]\n",
    "\n",
    "    y_cum_case_forecast = []\n",
    "    y_cum_death_forecast = []\n",
    "\n",
    "    cum_case = last_day_case\n",
    "    cum_death = last_day_death\n",
    "    for case in y_case_forecast:\n",
    "        cum_case += case\n",
    "        y_cum_case_forecast.append(cum_case)\n",
    "\n",
    "    for death in y_death_forecast:\n",
    "        cum_death += death\n",
    "        y_cum_death_forecast.append(cum_death)\n",
    "        \n",
    "    return y_cum_case_forecast, y_cum_death_forecast"
   ]
  },
  {
   "cell_type": "markdown",
   "metadata": {},
   "source": [
    "## 2.3 Train and Predict"
   ]
  },
  {
   "cell_type": "code",
   "execution_count": null,
   "metadata": {},
   "outputs": [],
   "source": [
    "forecasted = {}\n",
    "\n",
    "for state in states:\n",
    "    X_train, y_train, scaler = get_training_data(state)\n",
    "\n",
    "    model = get_model(X_train)\n",
    "    model.compile(optimizer='adam', loss = 'mean_squared_logarithmic_error')\n",
    "    model.fit(X_train, y_train, epochs=50, batch_size=32)\n",
    "    \n",
    "    y_case_forecast, y_death_forecast = predict(model, get_prediction_queue(X_train), scaler)\n",
    "    y_cum_case_forecast, y_cum_death_forecast = get_cum_forecast(state, y_case_forecast, y_death_forecast)\n",
    "    \n",
    "    forecasted[state] = (y_cum_case_forecast, y_cum_death_forecast)"
   ]
  },
  {
   "cell_type": "markdown",
   "metadata": {},
   "source": [
    "## 2.4 Generate Submission File"
   ]
  },
  {
   "cell_type": "code",
   "execution_count": null,
   "metadata": {},
   "outputs": [],
   "source": [
    "forecastID = [x for x in range(forecast_days * 50)]\n",
    "deaths = []\n",
    "confirmed = []\n",
    "\n",
    "for i in range(forecast_days):\n",
    "    for s in states:\n",
    "        print(f\"Day {i+1}/26, {s}\")\n",
    "        confirmed.append(forecasted[s][0][i])\n",
    "        deaths.append(forecasted[s][1][i])\n",
    "        \n",
    "final = pd.DataFrame(list(zip(forecastID, confirmed, deaths)), \n",
    "               columns =['ForecastID', 'Confirmed', 'Deaths']) \n",
    "\n",
    "final.to_csv(\"submission.csv\", index=False)"
   ]
  },
  {
   "cell_type": "code",
   "execution_count": null,
   "metadata": {},
   "outputs": [],
   "source": []
  }
 ],
 "metadata": {
  "kernelspec": {
   "display_name": "Python 3",
   "language": "python",
   "name": "python3"
  },
  "language_info": {
   "codemirror_mode": {
    "name": "ipython",
    "version": 3
   },
   "file_extension": ".py",
   "mimetype": "text/x-python",
   "name": "python",
   "nbconvert_exporter": "python",
   "pygments_lexer": "ipython3",
   "version": "3.6.12"
  }
 },
 "nbformat": 4,
 "nbformat_minor": 4
}
