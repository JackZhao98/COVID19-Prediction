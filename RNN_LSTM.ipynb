{
 "cells": [
  {
   "cell_type": "markdown",
   "metadata": {},
   "source": [
    "# 1. Data Preprocessing"
   ]
  },
  {
   "cell_type": "markdown",
   "metadata": {},
   "source": [
    "## 1.1 Import Dependencies"
   ]
  },
  {
   "cell_type": "code",
   "execution_count": 1,
   "metadata": {},
   "outputs": [],
   "source": [
    "import math\n",
    "import matplotlib.pyplot as plt\n",
    "import numpy as np\n",
    "import pandas as pd\n",
    "import os\n",
    "from collections import defaultdict\n",
    "from sklearn.preprocessing import StandardScaler\n",
    "from sklearn.preprocessing import MinMaxScaler"
   ]
  },
  {
   "cell_type": "code",
   "execution_count": 2,
   "metadata": {
    "scrolled": true
   },
   "outputs": [
    {
     "name": "stdout",
     "output_type": "stream",
     "text": [
      "./data/test_round2.csv\n",
      "./data/.DS_Store\n",
      "./data/train_round2.csv\n",
      "./data/graph_round2.csv\n",
      "./data/test.csv\n",
      "./data/graph.csv\n",
      "./data/submission_round2.csv\n",
      "./data/submission.csv\n",
      "./data/train.csv\n"
     ]
    }
   ],
   "source": [
    "for dirname, _, filenames in os.walk('./data'):\n",
    "    for filename in filenames:\n",
    "        print(os.path.join(dirname, filename))"
   ]
  },
  {
   "cell_type": "markdown",
   "metadata": {},
   "source": [
    "## 1.2 Load Data"
   ]
  },
  {
   "cell_type": "code",
   "execution_count": 3,
   "metadata": {},
   "outputs": [
    {
     "data": {
      "text/html": [
       "<div>\n",
       "<style scoped>\n",
       "    .dataframe tbody tr th:only-of-type {\n",
       "        vertical-align: middle;\n",
       "    }\n",
       "\n",
       "    .dataframe tbody tr th {\n",
       "        vertical-align: top;\n",
       "    }\n",
       "\n",
       "    .dataframe thead th {\n",
       "        text-align: right;\n",
       "    }\n",
       "</style>\n",
       "<table border=\"1\" class=\"dataframe\">\n",
       "  <thead>\n",
       "    <tr style=\"text-align: right;\">\n",
       "      <th></th>\n",
       "      <th>ID</th>\n",
       "      <th>Confirmed</th>\n",
       "      <th>Deaths</th>\n",
       "      <th>Recovered</th>\n",
       "      <th>Active</th>\n",
       "      <th>Incident_Rate</th>\n",
       "      <th>People_Tested</th>\n",
       "      <th>People_Hospitalized</th>\n",
       "      <th>Mortality_Rate</th>\n",
       "      <th>Testing_Rate</th>\n",
       "      <th>Hospitalization_Rate</th>\n",
       "    </tr>\n",
       "  </thead>\n",
       "  <tbody>\n",
       "    <tr>\n",
       "      <th>count</th>\n",
       "      <td>7100.000000</td>\n",
       "      <td>7100.000000</td>\n",
       "      <td>7100.000000</td>\n",
       "      <td>5771.000000</td>\n",
       "      <td>7100.000000</td>\n",
       "      <td>7100.000000</td>\n",
       "      <td>7.100000e+03</td>\n",
       "      <td>5047.000000</td>\n",
       "      <td>7100.000000</td>\n",
       "      <td>7100.000000</td>\n",
       "      <td>5047.000000</td>\n",
       "    </tr>\n",
       "    <tr>\n",
       "      <th>mean</th>\n",
       "      <td>3549.500000</td>\n",
       "      <td>56374.339577</td>\n",
       "      <td>2323.883099</td>\n",
       "      <td>20422.274649</td>\n",
       "      <td>37635.120986</td>\n",
       "      <td>747.273790</td>\n",
       "      <td>6.427069e+05</td>\n",
       "      <td>6250.044185</td>\n",
       "      <td>3.653231</td>\n",
       "      <td>9666.099116</td>\n",
       "      <td>12.197144</td>\n",
       "    </tr>\n",
       "    <tr>\n",
       "      <th>std</th>\n",
       "      <td>2049.737788</td>\n",
       "      <td>95058.665054</td>\n",
       "      <td>4742.274729</td>\n",
       "      <td>39262.213465</td>\n",
       "      <td>79067.101832</td>\n",
       "      <td>637.397470</td>\n",
       "      <td>1.127555e+06</td>\n",
       "      <td>13880.694435</td>\n",
       "      <td>2.074042</td>\n",
       "      <td>7779.560336</td>\n",
       "      <td>5.255183</td>\n",
       "    </tr>\n",
       "    <tr>\n",
       "      <th>min</th>\n",
       "      <td>0.000000</td>\n",
       "      <td>270.000000</td>\n",
       "      <td>0.000000</td>\n",
       "      <td>0.000000</td>\n",
       "      <td>-989.000000</td>\n",
       "      <td>32.771004</td>\n",
       "      <td>5.459000e+03</td>\n",
       "      <td>10.000000</td>\n",
       "      <td>0.000000</td>\n",
       "      <td>460.300152</td>\n",
       "      <td>2.302896</td>\n",
       "    </tr>\n",
       "    <tr>\n",
       "      <th>25%</th>\n",
       "      <td>1774.750000</td>\n",
       "      <td>6097.500000</td>\n",
       "      <td>153.000000</td>\n",
       "      <td>1614.500000</td>\n",
       "      <td>2849.000000</td>\n",
       "      <td>224.815702</td>\n",
       "      <td>1.000775e+05</td>\n",
       "      <td>595.000000</td>\n",
       "      <td>1.928925</td>\n",
       "      <td>3379.288445</td>\n",
       "      <td>8.387037</td>\n",
       "    </tr>\n",
       "    <tr>\n",
       "      <th>50%</th>\n",
       "      <td>3549.500000</td>\n",
       "      <td>22892.000000</td>\n",
       "      <td>681.000000</td>\n",
       "      <td>5881.000000</td>\n",
       "      <td>10409.000000</td>\n",
       "      <td>540.836745</td>\n",
       "      <td>2.643235e+05</td>\n",
       "      <td>2068.000000</td>\n",
       "      <td>3.362027</td>\n",
       "      <td>7842.820591</td>\n",
       "      <td>11.351161</td>\n",
       "    </tr>\n",
       "    <tr>\n",
       "      <th>75%</th>\n",
       "      <td>5324.250000</td>\n",
       "      <td>62959.250000</td>\n",
       "      <td>2334.000000</td>\n",
       "      <td>26103.000000</td>\n",
       "      <td>32106.500000</td>\n",
       "      <td>1126.282666</td>\n",
       "      <td>7.048395e+05</td>\n",
       "      <td>6134.500000</td>\n",
       "      <td>4.797564</td>\n",
       "      <td>14127.521137</td>\n",
       "      <td>15.396088</td>\n",
       "    </tr>\n",
       "    <tr>\n",
       "      <th>max</th>\n",
       "      <td>7099.000000</td>\n",
       "      <td>712475.000000</td>\n",
       "      <td>32957.000000</td>\n",
       "      <td>507499.000000</td>\n",
       "      <td>699453.000000</td>\n",
       "      <td>3187.773001</td>\n",
       "      <td>1.137330e+07</td>\n",
       "      <td>89995.000000</td>\n",
       "      <td>9.741481</td>\n",
       "      <td>49502.860687</td>\n",
       "      <td>38.501190</td>\n",
       "    </tr>\n",
       "  </tbody>\n",
       "</table>\n",
       "</div>"
      ],
      "text/plain": [
       "                ID      Confirmed        Deaths      Recovered         Active  \\\n",
       "count  7100.000000    7100.000000   7100.000000    5771.000000    7100.000000   \n",
       "mean   3549.500000   56374.339577   2323.883099   20422.274649   37635.120986   \n",
       "std    2049.737788   95058.665054   4742.274729   39262.213465   79067.101832   \n",
       "min       0.000000     270.000000      0.000000       0.000000    -989.000000   \n",
       "25%    1774.750000    6097.500000    153.000000    1614.500000    2849.000000   \n",
       "50%    3549.500000   22892.000000    681.000000    5881.000000   10409.000000   \n",
       "75%    5324.250000   62959.250000   2334.000000   26103.000000   32106.500000   \n",
       "max    7099.000000  712475.000000  32957.000000  507499.000000  699453.000000   \n",
       "\n",
       "       Incident_Rate  People_Tested  People_Hospitalized  Mortality_Rate  \\\n",
       "count    7100.000000   7.100000e+03          5047.000000     7100.000000   \n",
       "mean      747.273790   6.427069e+05          6250.044185        3.653231   \n",
       "std       637.397470   1.127555e+06         13880.694435        2.074042   \n",
       "min        32.771004   5.459000e+03            10.000000        0.000000   \n",
       "25%       224.815702   1.000775e+05           595.000000        1.928925   \n",
       "50%       540.836745   2.643235e+05          2068.000000        3.362027   \n",
       "75%      1126.282666   7.048395e+05          6134.500000        4.797564   \n",
       "max      3187.773001   1.137330e+07         89995.000000        9.741481   \n",
       "\n",
       "       Testing_Rate  Hospitalization_Rate  \n",
       "count   7100.000000           5047.000000  \n",
       "mean    9666.099116             12.197144  \n",
       "std     7779.560336              5.255183  \n",
       "min      460.300152              2.302896  \n",
       "25%     3379.288445              8.387037  \n",
       "50%     7842.820591             11.351161  \n",
       "75%    14127.521137             15.396088  \n",
       "max    49502.860687             38.501190  "
      ]
     },
     "execution_count": 3,
     "metadata": {},
     "output_type": "execute_result"
    }
   ],
   "source": [
    "data_dir = 'data'\n",
    "temporal_data_path = os.path.join(data_dir, 'train.csv')\n",
    "mobility_data_path = os.path.join(data_dir, 'graph_round2.csv')\n",
    "\n",
    "temporal_data = pd.read_csv(temporal_data_path)\n",
    "temporal_data.describe()\n",
    "# train_round2.csv 04/12/2020 to 11/22/2020.\n",
    "# train.csv 04/12/2020 to 08/31/2020"
   ]
  },
  {
   "cell_type": "code",
   "execution_count": 4,
   "metadata": {},
   "outputs": [
    {
     "name": "stdout",
     "output_type": "stream",
     "text": [
      "      Confirmed  Deaths\n",
      "4             0       0\n",
      "54         1136      74\n",
      "104        1425      53\n",
      "154        1330      93\n",
      "204         991      96\n",
      "...         ...     ...\n",
      "6854       4817     145\n",
      "6904       5564     128\n",
      "6954       4653      89\n",
      "7004       3913      43\n",
      "7054       6524      85\n",
      "\n",
      "[142 rows x 2 columns]\n",
      "      Confirmed  Deaths\n",
      "4         22795     640\n",
      "54        23931     714\n",
      "104       25356     767\n",
      "154       26686     860\n",
      "204       27677     956\n",
      "...         ...     ...\n",
      "6854     691821   12677\n",
      "6904     697385   12805\n",
      "6954     702038   12894\n",
      "7004     705951   12937\n",
      "7054     712475   13022\n",
      "\n",
      "[142 rows x 2 columns]\n"
     ]
    }
   ],
   "source": [
    "states = list(np.unique(temporal_data['Province_State']))\n",
    "state_cum_temporal_data = dict.fromkeys(states, None)\n",
    "state_temporal_data = dict.fromkeys(states, None)\n",
    "# state_cum_temporal_scaler = defaultdict(StandardScaler)\n",
    "# state_temporal_scaler = defaultdict(StandardScaler)\n",
    "dropped_attr = ['Date',\n",
    "                'Active',\n",
    "                'ID', \n",
    "                'Province_State', \n",
    "                'Incident_Rate', \n",
    "                'Recovered', \n",
    "                'People_Tested', \n",
    "                'People_Hospitalized', \n",
    "                'Mortality_Rate', \n",
    "                'Testing_Rate', \n",
    "                'Hospitalization_Rate']\n",
    "\n",
    "for s in states:\n",
    "    df_filter = temporal_data['Province_State'] == s\n",
    "    state_df = temporal_data[df_filter]\n",
    "    # Daily difference data\n",
    "    state_temporal_data[s] = state_df.drop(dropped_attr, 1)\n",
    "    for col in state_temporal_data[s]:\n",
    "        data = state_temporal_data[s][col].tolist()\n",
    "        diff = [i - j for i, j in zip(data, [*[data[0]], *data[:len(data) - 1]])]\n",
    "        state_temporal_data[s][col] = diff\n",
    "    save_columns = state_temporal_data[s].columns\n",
    "#     state_temporal_data[s] = state_temporal_scaler[s].fit_transform(state_temporal_data[s])\n",
    "    state_temporal_data[s] = pd.DataFrame(state_temporal_data[s], columns=save_columns)\n",
    "    # Daily cumulative data\n",
    "    state_cum_temporal_data[s] = state_df.drop(dropped_attr, 1)\n",
    "    save_columns = state_cum_temporal_data[s].columns\n",
    "#     state_cum_temporal_data[s] = state_cum_temporal_scaler[s].fit_transform(state_cum_temporal_data[s])\n",
    "    state_cum_temporal_data[s] = pd.DataFrame(state_cum_temporal_data[s], columns=save_columns)\n",
    "    \n",
    "print(state_temporal_data['California'])\n",
    "print(state_cum_temporal_data['California'])"
   ]
  },
  {
   "cell_type": "markdown",
   "metadata": {},
   "source": [
    "## Train a RNN Model with LSTM"
   ]
  },
  {
   "cell_type": "code",
   "execution_count": 147,
   "metadata": {},
   "outputs": [],
   "source": [
    "import tensorflow as tf\n",
    "from tensorflow import keras\n",
    "from tensorflow.keras import layers\n",
    "from tensorflow.keras.layers import Dense, LSTM, Dropout\n",
    "from tensorflow.keras import Sequential\n",
    "from tensorflow.keras import Input\n",
    "from tensorflow.keras.models import Model\n",
    "\n",
    "# window_size is use n-1 days to predict nth day\n",
    "window_size = 22\n",
    "forecast_days = 26\n",
    "\n",
    "# test model for current_state\n",
    "current_state = 'South Dakota'\n",
    "data_training = state_temporal_data[current_state]"
   ]
  },
  {
   "cell_type": "code",
   "execution_count": 148,
   "metadata": {},
   "outputs": [],
   "source": [
    "scaler = MinMaxScaler()\n",
    "data_training = scaler.fit_transform(data_training)"
   ]
  },
  {
   "cell_type": "code",
   "execution_count": 149,
   "metadata": {},
   "outputs": [],
   "source": [
    "X_train = []\n",
    "y_train = []\n",
    "\n",
    "data_training_np = np.array(data_training)\n",
    "\n",
    "for i in range(data_training.shape[0] - window_size):\n",
    "    X_train.append(data_training[i : i + window_size])\n",
    "    y_train.append(data_training_np[i + window_size])\n",
    "    \n",
    "X_train, y_train = np.array(X_train), np.array(y_train)"
   ]
  },
  {
   "cell_type": "code",
   "execution_count": 131,
   "metadata": {},
   "outputs": [
    {
     "data": {
      "text/plain": [
       "array([[[0.27378508, 0.04347826],\n",
       "        [0.36276523, 0.13043478],\n",
       "        [0.3340178 , 0.17391304],\n",
       "        ...,\n",
       "        [0.31211499, 0.17391304],\n",
       "        [0.29774127, 0.39130435],\n",
       "        [0.31827515, 0.2173913 ]],\n",
       "\n",
       "       [[0.36276523, 0.13043478],\n",
       "        [0.3340178 , 0.17391304],\n",
       "        [0.32238193, 0.08695652],\n",
       "        ...,\n",
       "        [0.29774127, 0.39130435],\n",
       "        [0.31827515, 0.2173913 ],\n",
       "        [0.31074606, 0.2173913 ]],\n",
       "\n",
       "       [[0.3340178 , 0.17391304],\n",
       "        [0.32238193, 0.08695652],\n",
       "        [0.30869268, 0.2173913 ],\n",
       "        ...,\n",
       "        [0.31827515, 0.2173913 ],\n",
       "        [0.31074606, 0.2173913 ],\n",
       "        [0.29705681, 0.17391304]],\n",
       "\n",
       "       ...,\n",
       "\n",
       "       [[0.96577687, 0.30434783],\n",
       "        [0.80219028, 0.65217391],\n",
       "        [0.66529774, 0.43478261],\n",
       "        ...,\n",
       "        [0.71800137, 0.95652174],\n",
       "        [0.76796715, 0.34782609],\n",
       "        [0.84736482, 0.7826087 ]],\n",
       "\n",
       "       [[0.80219028, 0.65217391],\n",
       "        [0.66529774, 0.43478261],\n",
       "        [0.71526352, 0.52173913],\n",
       "        ...,\n",
       "        [0.76796715, 0.34782609],\n",
       "        [0.84736482, 0.7826087 ],\n",
       "        [0.81793292, 0.73913043]],\n",
       "\n",
       "       [[0.66529774, 0.43478261],\n",
       "        [0.71526352, 0.52173913],\n",
       "        [0.53593429, 0.52173913],\n",
       "        ...,\n",
       "        [0.84736482, 0.7826087 ],\n",
       "        [0.81793292, 0.73913043],\n",
       "        [0.60095825, 0.56521739]]])"
      ]
     },
     "execution_count": 131,
     "metadata": {},
     "output_type": "execute_result"
    }
   ],
   "source": [
    "X_train"
   ]
  },
  {
   "cell_type": "code",
   "execution_count": 150,
   "metadata": {},
   "outputs": [
    {
     "data": {
      "text/plain": [
       "array([[0.05939005, 0.        ],\n",
       "       [0.08507223, 0.5       ],\n",
       "       [0.09470305, 0.83333333],\n",
       "       [0.20224719, 0.33333333],\n",
       "       [0.38362761, 0.        ],\n",
       "       [0.39807384, 0.5       ],\n",
       "       [0.19903692, 0.        ],\n",
       "       [0.15569823, 0.        ],\n",
       "       [0.07865169, 0.83333333],\n",
       "       [0.11075441, 0.        ],\n",
       "       [0.09630819, 0.66666667],\n",
       "       [0.15248796, 0.16666667],\n",
       "       [0.11556982, 0.        ],\n",
       "       [0.04494382, 0.        ],\n",
       "       [0.06420546, 0.        ],\n",
       "       [0.09309791, 0.33333333],\n",
       "       [0.14767255, 0.        ],\n",
       "       [0.        , 0.33333333],\n",
       "       [0.28731942, 0.33333333],\n",
       "       [0.17335474, 0.        ],\n",
       "       [0.15890851, 0.        ],\n",
       "       [0.03691814, 0.        ],\n",
       "       [0.10754414, 0.        ],\n",
       "       [0.09149278, 0.66666667],\n",
       "       [0.13322632, 0.        ],\n",
       "       [0.11717496, 0.83333333],\n",
       "       [0.15088283, 0.5       ],\n",
       "       [0.0529695 , 0.        ],\n",
       "       [0.06581059, 0.        ],\n",
       "       [0.0529695 , 0.        ],\n",
       "       [0.15248796, 0.        ],\n",
       "       [0.1364366 , 0.33333333],\n",
       "       [0.04815409, 0.        ],\n",
       "       [0.14446228, 0.16666667],\n",
       "       [0.11396469, 0.        ],\n",
       "       [0.0529695 , 0.        ],\n",
       "       [0.08346709, 0.5       ],\n",
       "       [0.13001605, 0.16666667],\n",
       "       [0.09791332, 0.66666667],\n",
       "       [0.12359551, 0.16666667],\n",
       "       [0.14606742, 0.16666667],\n",
       "       [0.10433387, 0.        ],\n",
       "       [0.04815409, 0.        ],\n",
       "       [0.06099518, 0.33333333],\n",
       "       [0.13483146, 0.16666667],\n",
       "       [0.09470305, 0.        ],\n",
       "       [0.07865169, 0.5       ],\n",
       "       [0.10754414, 0.        ],\n",
       "       [0.11556982, 0.        ],\n",
       "       [0.04654896, 0.        ],\n",
       "       [0.04333868, 0.33333333],\n",
       "       [0.105939  , 0.16666667],\n",
       "       [0.09630819, 0.5       ],\n",
       "       [0.08988764, 0.16666667],\n",
       "       [0.14606742, 0.5       ],\n",
       "       [0.0882825 , 0.        ],\n",
       "       [0.05617978, 0.        ],\n",
       "       [0.07704655, 0.        ],\n",
       "       [0.09951846, 0.33333333],\n",
       "       [0.10754414, 0.66666667],\n",
       "       [0.1364366 , 0.        ],\n",
       "       [0.08025682, 0.        ],\n",
       "       [0.05617978, 0.        ],\n",
       "       [0.06741573, 0.        ],\n",
       "       [0.09309791, 0.16666667],\n",
       "       [0.12680578, 0.        ],\n",
       "       [0.15088283, 0.5       ],\n",
       "       [0.10433387, 1.        ],\n",
       "       [0.08507223, 0.33333333],\n",
       "       [0.07223114, 0.        ],\n",
       "       [0.04012841, 0.        ],\n",
       "       [0.07704655, 0.        ],\n",
       "       [0.12841091, 0.33333333],\n",
       "       [0.06741573, 0.66666667],\n",
       "       [0.15248796, 0.16666667],\n",
       "       [0.11717496, 0.        ],\n",
       "       [0.070626  , 0.33333333],\n",
       "       [0.05939005, 0.        ],\n",
       "       [0.12199037, 0.        ],\n",
       "       [0.09309791, 0.16666667],\n",
       "       [0.105939  , 0.33333333],\n",
       "       [0.09149278, 0.16666667],\n",
       "       [0.16853933, 0.        ],\n",
       "       [0.14446228, 0.16666667],\n",
       "       [0.07865169, 0.        ],\n",
       "       [0.07704655, 0.        ],\n",
       "       [0.23916533, 1.        ],\n",
       "       [0.070626  , 0.        ],\n",
       "       [0.12680578, 0.16666667],\n",
       "       [0.16532905, 0.66666667],\n",
       "       [0.14125201, 0.16666667],\n",
       "       [0.10433387, 0.        ],\n",
       "       [0.09470305, 0.16666667],\n",
       "       [0.14285714, 0.16666667],\n",
       "       [0.16853933, 0.66666667],\n",
       "       [0.15730337, 0.5       ],\n",
       "       [0.17014446, 0.33333333],\n",
       "       [0.20545746, 0.        ],\n",
       "       [0.09309791, 0.        ],\n",
       "       [0.08025682, 0.        ],\n",
       "       [0.16372392, 0.16666667],\n",
       "       [0.13162119, 0.16666667],\n",
       "       [0.20385233, 0.33333333],\n",
       "       [0.15088283, 0.33333333],\n",
       "       [0.25040128, 0.16666667],\n",
       "       [0.13804173, 0.        ],\n",
       "       [0.13001605, 0.16666667],\n",
       "       [0.20064205, 0.16666667],\n",
       "       [0.20064205, 0.33333333],\n",
       "       [0.30979133, 0.33333333],\n",
       "       [0.40288925, 0.16666667],\n",
       "       [0.22632424, 0.16666667],\n",
       "       [0.23916533, 0.        ],\n",
       "       [0.12841091, 0.        ],\n",
       "       [0.105939  , 0.16666667],\n",
       "       [1.        , 0.        ],\n",
       "       [0.51845907, 0.5       ],\n",
       "       [0.68218299, 0.33333333],\n",
       "       [0.60995185, 0.        ],\n",
       "       [0.30016051, 0.        ]])"
      ]
     },
     "execution_count": 150,
     "metadata": {},
     "output_type": "execute_result"
    }
   ],
   "source": [
    "y_train"
   ]
  },
  {
   "cell_type": "code",
   "execution_count": 151,
   "metadata": {},
   "outputs": [
    {
     "name": "stdout",
     "output_type": "stream",
     "text": [
      "Model: \"sequential_8\"\n",
      "_________________________________________________________________\n",
      "Layer (type)                 Output Shape              Param #   \n",
      "=================================================================\n",
      "lstm_22 (LSTM)               (None, 22, 20)            1840      \n",
      "_________________________________________________________________\n",
      "dropout_22 (Dropout)         (None, 22, 20)            0         \n",
      "_________________________________________________________________\n",
      "lstm_23 (LSTM)               (None, 22, 30)            6120      \n",
      "_________________________________________________________________\n",
      "dropout_23 (Dropout)         (None, 22, 30)            0         \n",
      "_________________________________________________________________\n",
      "lstm_24 (LSTM)               (None, 40)                11360     \n",
      "_________________________________________________________________\n",
      "dropout_24 (Dropout)         (None, 40)                0         \n",
      "_________________________________________________________________\n",
      "dense_8 (Dense)              (None, 2)                 82        \n",
      "=================================================================\n",
      "Total params: 19,402\n",
      "Trainable params: 19,402\n",
      "Non-trainable params: 0\n",
      "_________________________________________________________________\n"
     ]
    }
   ],
   "source": [
    "model = keras.Sequential()\n",
    "\n",
    "model.add(LSTM(units=20, activation = 'relu', return_sequences=True, input_shape=(X_train.shape[1], X_train.shape[2])))\n",
    "model.add(Dropout(0.2))\n",
    "\n",
    "model.add(LSTM(units=30, activation = 'relu', return_sequences=True))\n",
    "model.add(Dropout(0.2))\n",
    "\n",
    "model.add(LSTM(units=40, activation = 'relu', return_sequences=False))\n",
    "model.add(Dropout(0.2))\n",
    "\n",
    "model.add(Dense(units = 2))\n",
    "\n",
    "model.summary()"
   ]
  },
  {
   "cell_type": "code",
   "execution_count": 152,
   "metadata": {},
   "outputs": [
    {
     "name": "stdout",
     "output_type": "stream",
     "text": [
      "Train on 120 samples\n",
      "Epoch 1/50\n",
      "120/120 [==============================] - 12s 96ms/sample - loss: 0.0415\n",
      "Epoch 2/50\n",
      "120/120 [==============================] - 1s 10ms/sample - loss: 0.0372\n",
      "Epoch 3/50\n",
      "120/120 [==============================] - 1s 8ms/sample - loss: 0.0366\n",
      "Epoch 4/50\n",
      "120/120 [==============================] - 1s 8ms/sample - loss: 0.0366\n",
      "Epoch 5/50\n",
      "120/120 [==============================] - 1s 8ms/sample - loss: 0.0366\n",
      "Epoch 6/50\n",
      "120/120 [==============================] - 1s 8ms/sample - loss: 0.0365\n",
      "Epoch 7/50\n",
      "120/120 [==============================] - 1s 8ms/sample - loss: 0.0364\n",
      "Epoch 8/50\n",
      "120/120 [==============================] - 1s 8ms/sample - loss: 0.0362\n",
      "Epoch 9/50\n",
      "120/120 [==============================] - 1s 9ms/sample - loss: 0.0359\n",
      "Epoch 10/50\n",
      "120/120 [==============================] - 2s 13ms/sample - loss: 0.0360\n",
      "Epoch 11/50\n",
      "120/120 [==============================] - 1s 9ms/sample - loss: 0.0359\n",
      "Epoch 12/50\n",
      "120/120 [==============================] - 1s 8ms/sample - loss: 0.0359\n",
      "Epoch 13/50\n",
      "120/120 [==============================] - 1s 8ms/sample - loss: 0.0355\n",
      "Epoch 14/50\n",
      "120/120 [==============================] - 1s 8ms/sample - loss: 0.0356\n",
      "Epoch 15/50\n",
      "120/120 [==============================] - 1s 8ms/sample - loss: 0.0352\n",
      "Epoch 16/50\n",
      "120/120 [==============================] - 1s 8ms/sample - loss: 0.0345\n",
      "Epoch 17/50\n",
      "120/120 [==============================] - 1s 8ms/sample - loss: 0.0270\n",
      "Epoch 18/50\n",
      "120/120 [==============================] - 1s 8ms/sample - loss: 0.0230\n",
      "Epoch 19/50\n",
      "120/120 [==============================] - 1s 8ms/sample - loss: 0.0221\n",
      "Epoch 20/50\n",
      "120/120 [==============================] - 1s 8ms/sample - loss: 0.0231\n",
      "Epoch 21/50\n",
      "120/120 [==============================] - 1s 8ms/sample - loss: 0.0233\n",
      "Epoch 22/50\n",
      "120/120 [==============================] - 1s 9ms/sample - loss: 0.0209\n",
      "Epoch 23/50\n",
      "120/120 [==============================] - 1s 8ms/sample - loss: 0.0223\n",
      "Epoch 24/50\n",
      "120/120 [==============================] - 1s 8ms/sample - loss: 0.0212\n",
      "Epoch 25/50\n",
      "120/120 [==============================] - 1s 8ms/sample - loss: 0.0220\n",
      "Epoch 26/50\n",
      "120/120 [==============================] - 1s 8ms/sample - loss: 0.0205\n",
      "Epoch 27/50\n",
      "120/120 [==============================] - 1s 8ms/sample - loss: 0.0217\n",
      "Epoch 28/50\n",
      "120/120 [==============================] - 1s 8ms/sample - loss: 0.0206\n",
      "Epoch 29/50\n",
      "120/120 [==============================] - 1s 8ms/sample - loss: 0.0204\n",
      "Epoch 30/50\n",
      "120/120 [==============================] - 1s 8ms/sample - loss: 0.0212\n",
      "Epoch 31/50\n",
      "120/120 [==============================] - 1s 8ms/sample - loss: 0.0209\n",
      "Epoch 32/50\n",
      "120/120 [==============================] - 1s 8ms/sample - loss: 0.0213\n",
      "Epoch 33/50\n",
      "120/120 [==============================] - 1s 8ms/sample - loss: 0.0202\n",
      "Epoch 34/50\n",
      "120/120 [==============================] - 1s 8ms/sample - loss: 0.0209\n",
      "Epoch 35/50\n",
      "120/120 [==============================] - 1s 8ms/sample - loss: 0.0205\n",
      "Epoch 36/50\n",
      "120/120 [==============================] - 1s 8ms/sample - loss: 0.0210\n",
      "Epoch 37/50\n",
      "120/120 [==============================] - 1s 8ms/sample - loss: 0.0207\n",
      "Epoch 38/50\n",
      "120/120 [==============================] - 1s 8ms/sample - loss: 0.0212\n",
      "Epoch 39/50\n",
      "120/120 [==============================] - 1s 8ms/sample - loss: 0.0209\n",
      "Epoch 40/50\n",
      "120/120 [==============================] - 1s 8ms/sample - loss: 0.0204\n",
      "Epoch 41/50\n",
      "120/120 [==============================] - 1s 8ms/sample - loss: 0.0201\n",
      "Epoch 42/50\n",
      "120/120 [==============================] - 1s 8ms/sample - loss: 0.0202\n",
      "Epoch 43/50\n",
      "120/120 [==============================] - 1s 8ms/sample - loss: 0.0200\n",
      "Epoch 44/50\n",
      "120/120 [==============================] - 1s 8ms/sample - loss: 0.0213\n",
      "Epoch 45/50\n",
      "120/120 [==============================] - 1s 8ms/sample - loss: 0.0208\n",
      "Epoch 46/50\n",
      "120/120 [==============================] - 1s 8ms/sample - loss: 0.0209\n",
      "Epoch 47/50\n",
      "120/120 [==============================] - 1s 8ms/sample - loss: 0.0203\n",
      "Epoch 48/50\n",
      "120/120 [==============================] - 1s 8ms/sample - loss: 0.0206\n",
      "Epoch 49/50\n",
      "120/120 [==============================] - 1s 10ms/sample - loss: 0.0207\n",
      "Epoch 50/50\n",
      "120/120 [==============================] - 1s 9ms/sample - loss: 0.0211\n"
     ]
    },
    {
     "data": {
      "text/plain": [
       "<tensorflow.python.keras.callbacks.History at 0x7fd248ff9eb8>"
      ]
     },
     "execution_count": 152,
     "metadata": {},
     "output_type": "execute_result"
    }
   ],
   "source": [
    "model.compile(optimizer='adam', loss = 'mean_squared_logarithmic_error')\n",
    "model.fit(X_train, y_train, epochs=50, batch_size=16, verbose=1)"
   ]
  },
  {
   "cell_type": "code",
   "execution_count": 153,
   "metadata": {},
   "outputs": [
    {
     "data": {
      "text/plain": [
       "array([[[0.20545746, 0.        ],\n",
       "        [0.09309791, 0.        ],\n",
       "        [0.08025682, 0.        ],\n",
       "        [0.16372392, 0.16666667],\n",
       "        [0.13162119, 0.16666667],\n",
       "        [0.20385233, 0.33333333],\n",
       "        [0.15088283, 0.33333333],\n",
       "        [0.25040128, 0.16666667],\n",
       "        [0.13804173, 0.        ],\n",
       "        [0.13001605, 0.16666667],\n",
       "        [0.20064205, 0.16666667],\n",
       "        [0.20064205, 0.33333333],\n",
       "        [0.30979133, 0.33333333],\n",
       "        [0.40288925, 0.16666667],\n",
       "        [0.22632424, 0.16666667],\n",
       "        [0.23916533, 0.        ],\n",
       "        [0.12841091, 0.        ],\n",
       "        [0.105939  , 0.16666667],\n",
       "        [1.        , 0.        ],\n",
       "        [0.51845907, 0.5       ],\n",
       "        [0.68218299, 0.33333333],\n",
       "        [0.60995185, 0.        ]]])"
      ]
     },
     "execution_count": 153,
     "metadata": {},
     "output_type": "execute_result"
    }
   ],
   "source": [
    "prediction_queue = X_train[-1:]\n",
    "prediction_queue = np.array(prediction_queue)\n",
    "prediction_queue"
   ]
  },
  {
   "cell_type": "code",
   "execution_count": 136,
   "metadata": {
    "scrolled": true
   },
   "outputs": [
    {
     "data": {
      "text/plain": [
       "array([[[0.55174327, 0.56135386],\n",
       "        [0.54735863, 0.56098646],\n",
       "        [0.54214996, 0.56425303],\n",
       "        [0.54351187, 0.55921417],\n",
       "        [0.53842252, 0.57075614],\n",
       "        [0.53662515, 0.57971072],\n",
       "        [0.53388244, 0.57318926],\n",
       "        [0.52781695, 0.56612372],\n",
       "        [0.5238868 , 0.56303334],\n",
       "        [0.51557171, 0.54047745],\n",
       "        [0.51186264, 0.53646958],\n",
       "        [0.50936419, 0.53180474],\n",
       "        [0.50722307, 0.53286809],\n",
       "        [0.50313467, 0.5248214 ],\n",
       "        [0.49715108, 0.50796896],\n",
       "        [0.4913041 , 0.50604516],\n",
       "        [0.48482725, 0.49203867],\n",
       "        [0.47967643, 0.48025283],\n",
       "        [0.47718105, 0.47747689],\n",
       "        [0.47483638, 0.4759523 ],\n",
       "        [0.47218186, 0.47321808],\n",
       "        [0.46927962, 0.46955955]]])"
      ]
     },
     "execution_count": 136,
     "metadata": {},
     "output_type": "execute_result"
    }
   ],
   "source": [
    "# prediction_queue should take in this y_pred as the last day and pop the first day in the queue\n",
    "# use model.predict(prediction_queue) with the new prediction_queue to get second day.\n",
    "# need to predict for next forecast_days days.\n",
    "for i in range(forecast_days):  \n",
    "    y_pred = model.predict(prediction_queue)\n",
    "    prediction_queue = np.append(prediction_queue, y_pred)\n",
    "    prediction_queue = np.delete(prediction_queue, 0)\n",
    "    prediction_queue = np.delete(prediction_queue, 0)\n",
    "    prediction_queue = prediction_queue.reshape(1,int(prediction_queue.shape[0]/2),2)\n",
    "\n",
    "prediction_queue"
   ]
  },
  {
   "cell_type": "code",
   "execution_count": 154,
   "metadata": {},
   "outputs": [],
   "source": [
    "y_case_forecast = []\n",
    "y_death_forecast = []\n",
    "\n",
    "for i in range(forecast_days):\n",
    "    y_case_forecast.append(prediction_queue[0][i + window_size - forecast_days][0])\n",
    "    y_death_forecast.append(prediction_queue[0][i + window_size - forecast_days][1])"
   ]
  },
  {
   "cell_type": "code",
   "execution_count": 155,
   "metadata": {},
   "outputs": [
    {
     "data": {
      "text/plain": [
       "[1.0,\n",
       " 0.5184590690208668,\n",
       " 0.6821829855537721,\n",
       " 0.6099518459069021,\n",
       " 0.20545746388443017,\n",
       " 0.09309791332263243,\n",
       " 0.08025682182985554,\n",
       " 0.1637239165329053,\n",
       " 0.13162118780096307,\n",
       " 0.20385232744783308,\n",
       " 0.1508828250401284,\n",
       " 0.2504012841091493,\n",
       " 0.13804173354735153,\n",
       " 0.13001605136436598,\n",
       " 0.20064205457463885,\n",
       " 0.20064205457463885,\n",
       " 0.30979133226324235,\n",
       " 0.4028892455858748,\n",
       " 0.22632423756019263,\n",
       " 0.2391653290529695,\n",
       " 0.12841091492776885,\n",
       " 0.10593900481540931,\n",
       " 1.0,\n",
       " 0.5184590690208668,\n",
       " 0.6821829855537721,\n",
       " 0.6099518459069021]"
      ]
     },
     "execution_count": 155,
     "metadata": {},
     "output_type": "execute_result"
    }
   ],
   "source": [
    "y_case_forecast"
   ]
  },
  {
   "cell_type": "code",
   "execution_count": 156,
   "metadata": {},
   "outputs": [
    {
     "data": {
      "text/plain": [
       "[0.0,\n",
       " 0.5,\n",
       " 0.3333333333333333,\n",
       " 0.0,\n",
       " 0.0,\n",
       " 0.0,\n",
       " 0.0,\n",
       " 0.16666666666666666,\n",
       " 0.16666666666666666,\n",
       " 0.3333333333333333,\n",
       " 0.3333333333333333,\n",
       " 0.16666666666666666,\n",
       " 0.0,\n",
       " 0.16666666666666666,\n",
       " 0.16666666666666666,\n",
       " 0.3333333333333333,\n",
       " 0.3333333333333333,\n",
       " 0.16666666666666666,\n",
       " 0.16666666666666666,\n",
       " 0.0,\n",
       " 0.0,\n",
       " 0.16666666666666666,\n",
       " 0.0,\n",
       " 0.5,\n",
       " 0.3333333333333333,\n",
       " 0.0]"
      ]
     },
     "execution_count": 156,
     "metadata": {},
     "output_type": "execute_result"
    }
   ],
   "source": [
    "y_death_forecast"
   ]
  },
  {
   "cell_type": "code",
   "execution_count": 157,
   "metadata": {},
   "outputs": [],
   "source": [
    "case_scale = 1/scaler.scale_[0]\n",
    "death_scale = 1/scaler.scale_[1]"
   ]
  },
  {
   "cell_type": "code",
   "execution_count": 158,
   "metadata": {},
   "outputs": [
    {
     "data": {
      "text/plain": [
       "623.0"
      ]
     },
     "execution_count": 158,
     "metadata": {},
     "output_type": "execute_result"
    }
   ],
   "source": [
    "case_scale"
   ]
  },
  {
   "cell_type": "code",
   "execution_count": 159,
   "metadata": {},
   "outputs": [
    {
     "data": {
      "text/plain": [
       "6.0"
      ]
     },
     "execution_count": 159,
     "metadata": {},
     "output_type": "execute_result"
    }
   ],
   "source": [
    "death_scale"
   ]
  },
  {
   "cell_type": "code",
   "execution_count": 160,
   "metadata": {},
   "outputs": [],
   "source": [
    "y_case_forecast = [case_scale * i for i in y_case_forecast]\n",
    "y_death_forecast = [death_scale * i for i in y_death_forecast]"
   ]
  },
  {
   "cell_type": "code",
   "execution_count": 161,
   "metadata": {},
   "outputs": [],
   "source": [
    "last_day_case = state_cum_temporal_data[current_state]['Confirmed'].iloc[-1]\n",
    "last_day_death = state_cum_temporal_data[current_state]['Deaths'].iloc[-1]\n",
    "\n",
    "y_cum_case_forecast = []\n",
    "y_cum_death_forecast = []\n",
    "\n",
    "cum_case = last_day_case\n",
    "cum_death = last_day_death\n",
    "for case in y_case_forecast:\n",
    "    cum_case += case\n",
    "    y_cum_case_forecast.append(cum_case)\n",
    "    \n",
    "for death in y_death_forecast:\n",
    "    cum_death += death\n",
    "    y_cum_death_forecast.append(cum_death)"
   ]
  },
  {
   "cell_type": "code",
   "execution_count": 162,
   "metadata": {},
   "outputs": [
    {
     "data": {
      "text/plain": [
       "[14132.0,\n",
       " 14455.0,\n",
       " 14880.0,\n",
       " 15260.0,\n",
       " 15388.0,\n",
       " 15446.0,\n",
       " 15496.0,\n",
       " 15598.0,\n",
       " 15680.0,\n",
       " 15807.0,\n",
       " 15901.0,\n",
       " 16057.0,\n",
       " 16143.0,\n",
       " 16224.0,\n",
       " 16349.0,\n",
       " 16474.0,\n",
       " 16667.0,\n",
       " 16918.0,\n",
       " 17059.0,\n",
       " 17208.0,\n",
       " 17288.0,\n",
       " 17354.0,\n",
       " 17977.0,\n",
       " 18300.0,\n",
       " 18725.0,\n",
       " 19105.0]"
      ]
     },
     "execution_count": 162,
     "metadata": {},
     "output_type": "execute_result"
    }
   ],
   "source": [
    "y_cum_case_forecast"
   ]
  },
  {
   "cell_type": "code",
   "execution_count": 163,
   "metadata": {},
   "outputs": [
    {
     "data": {
      "text/plain": [
       "[167.0,\n",
       " 170.0,\n",
       " 172.0,\n",
       " 172.0,\n",
       " 172.0,\n",
       " 172.0,\n",
       " 172.0,\n",
       " 173.0,\n",
       " 174.0,\n",
       " 176.0,\n",
       " 178.0,\n",
       " 179.0,\n",
       " 179.0,\n",
       " 180.0,\n",
       " 181.0,\n",
       " 183.0,\n",
       " 185.0,\n",
       " 186.0,\n",
       " 187.0,\n",
       " 187.0,\n",
       " 187.0,\n",
       " 188.0,\n",
       " 188.0,\n",
       " 191.0,\n",
       " 193.0,\n",
       " 193.0]"
      ]
     },
     "execution_count": 163,
     "metadata": {},
     "output_type": "execute_result"
    }
   ],
   "source": [
    "y_cum_death_forecast"
   ]
  },
  {
   "cell_type": "markdown",
   "metadata": {},
   "source": [
    "# 2. Train a RNN with LSTM for Every State"
   ]
  },
  {
   "cell_type": "markdown",
   "metadata": {},
   "source": [
    "## 2.1 Import Dependencies"
   ]
  },
  {
   "cell_type": "code",
   "execution_count": null,
   "metadata": {},
   "outputs": [],
   "source": [
    "import tensorflow as tf\n",
    "from tensorflow import keras\n",
    "from tensorflow.keras import layers\n",
    "from tensorflow.keras.layers import Dense, LSTM, Dropout\n",
    "from tensorflow.keras import Sequential\n",
    "from tensorflow.keras import Input\n",
    "from tensorflow.keras.models import Model\n",
    "\n",
    "# window_size is use n-1 days to predict nth day\n",
    "window_size = 22\n",
    "forecast_days = 26"
   ]
  },
  {
   "cell_type": "markdown",
   "metadata": {},
   "source": [
    "## 2.2 Helper Functions"
   ]
  },
  {
   "cell_type": "code",
   "execution_count": null,
   "metadata": {},
   "outputs": [],
   "source": [
    "states = state_temporal_data.keys()\n",
    "\n",
    "def get_training_data(state):\n",
    "    state_temporal_train = state_temporal_data[state]\n",
    "    scaler = MinMaxScaler()\n",
    "    state_temporal_train = scaler.fit_transform(state_temporal_train)\n",
    "    \n",
    "    X_train = []\n",
    "    y_train = []\n",
    "\n",
    "    state_temporal_train_np = np.array(state_temporal_train)\n",
    "\n",
    "    for i in range(state_temporal_train.shape[0] - window_size):\n",
    "        X_train.append(state_temporal_train[i : i + window_size])\n",
    "        y_train.append(state_temporal_train_np[i + window_size])\n",
    "\n",
    "    return np.array(X_train), np.array(y_train), scaler\n",
    "    \n",
    "\n",
    "def get_model(X_train):\n",
    "    model = keras.Sequential()\n",
    "\n",
    "    model.add(LSTM(units=20, activation = 'relu', return_sequences=True, input_shape=(X_train.shape[1], X_train.shape[2])))\n",
    "    model.add(Dropout(0.2))\n",
    "\n",
    "    model.add(LSTM(units=30, activation = 'relu', return_sequences=True))\n",
    "    model.add(Dropout(0.2))\n",
    "\n",
    "    model.add(LSTM(units=40, activation = 'relu', return_sequences=False))\n",
    "    model.add(Dropout(0.2))\n",
    "\n",
    "    model.add(Dense(units = 2))\n",
    "    \n",
    "    return model\n",
    "\n",
    "\n",
    "def get_prediction_queue(X_train):\n",
    "    prediction_queue = X_train[-1:]\n",
    "    return np.array(prediction_queue)\n",
    "\n",
    "\n",
    "def predict(model, queue, scaler):\n",
    "    prediction_queue = queue\n",
    "    \n",
    "    for i in range(forecast_days):  \n",
    "        y_pred = model.predict(prediction_queue)\n",
    "        prediction_queue = np.append(prediction_queue, y_pred)\n",
    "        prediction_queue = np.delete(prediction_queue, 0)\n",
    "        prediction_queue = np.delete(prediction_queue, 0)\n",
    "        prediction_queue = prediction_queue.reshape(1, prediction_queue.shape[0] // 2, 2)\n",
    "        \n",
    "    y_case_forecast = []\n",
    "    y_death_forecast = []\n",
    "\n",
    "    for i in range(forecast_days):\n",
    "        y_case_forecast.append(prediction_queue[0][i + window_size - forecast_days][0])\n",
    "        y_death_forecast.append(prediction_queue[0][i + window_size - forecast_days][1])\n",
    "        \n",
    "    case_scale = 1 / scaler.scale_[0]\n",
    "    death_scale = 1 / scaler.scale_[1]\n",
    "    \n",
    "    return [case_scale * i for i in y_case_forecast], [death_scale * i for i in y_death_forecast]\n",
    "\n",
    "\n",
    "def get_cum_forecast(state, y_case_forecast, y_death_forecast):\n",
    "    last_day_case = state_cum_temporal_data[state]['Confirmed'].iloc[-1]\n",
    "    last_day_death = state_cum_temporal_data[state]['Deaths'].iloc[-1]\n",
    "\n",
    "    y_cum_case_forecast = []\n",
    "    y_cum_death_forecast = []\n",
    "\n",
    "    cum_case = last_day_case\n",
    "    cum_death = last_day_death\n",
    "    for case in y_case_forecast:\n",
    "        cum_case += case\n",
    "        y_cum_case_forecast.append(cum_case)\n",
    "\n",
    "    for death in y_death_forecast:\n",
    "        cum_death += death\n",
    "        y_cum_death_forecast.append(cum_death)\n",
    "        \n",
    "    return y_cum_case_forecast, y_cum_death_forecast"
   ]
  },
  {
   "cell_type": "markdown",
   "metadata": {},
   "source": [
    "## 2.3 Train and Predict"
   ]
  },
  {
   "cell_type": "code",
   "execution_count": null,
   "metadata": {},
   "outputs": [],
   "source": [
    "forecasted = {}\n",
    "\n",
    "for state in states:\n",
    "    X_train, y_train, scaler = get_training_data(state)\n",
    "\n",
    "    model = get_model(X_train)\n",
    "    model.compile(optimizer='adam', loss = 'mean_squared_logarithmic_error')\n",
    "    model.fit(X_train, y_train, epochs=50, batch_size=16)\n",
    "    \n",
    "    y_case_forecast, y_death_forecast = predict(model, get_prediction_queue(X_train), scaler)\n",
    "    y_cum_case_forecast, y_cum_death_forecast = get_cum_forecast(state, y_case_forecast, y_death_forecast)\n",
    "    \n",
    "    forecasted[state] = (y_cum_case_forecast, y_cum_death_forecast)"
   ]
  },
  {
   "cell_type": "markdown",
   "metadata": {},
   "source": [
    "## 2.4 Generate Submission File"
   ]
  },
  {
   "cell_type": "code",
   "execution_count": null,
   "metadata": {},
   "outputs": [],
   "source": [
    "forecastID = [x for x in range(forecast_days * 50)]\n",
    "deaths = []\n",
    "confirmed = []\n",
    "\n",
    "for i in range(forecast_days):\n",
    "    for s in states:\n",
    "        print(f\"Day {i+1}/26, {s}\")\n",
    "        confirmed.append(forecasted[s][0][i])\n",
    "        deaths.append(forecasted[s][1][i])\n",
    "        \n",
    "final = pd.DataFrame(list(zip(forecastID, confirmed, deaths)), \n",
    "               columns =['ForecastID', 'Confirmed', 'Deaths']) \n",
    "\n",
    "final.to_csv(\"submission.csv\", index=False)"
   ]
  },
  {
   "cell_type": "code",
   "execution_count": null,
   "metadata": {},
   "outputs": [],
   "source": []
  }
 ],
 "metadata": {
  "kernelspec": {
   "display_name": "Python 3",
   "language": "python",
   "name": "python3"
  },
  "language_info": {
   "codemirror_mode": {
    "name": "ipython",
    "version": 3
   },
   "file_extension": ".py",
   "mimetype": "text/x-python",
   "name": "python",
   "nbconvert_exporter": "python",
   "pygments_lexer": "ipython3",
   "version": "3.6.12"
  }
 },
 "nbformat": 4,
 "nbformat_minor": 4
}
