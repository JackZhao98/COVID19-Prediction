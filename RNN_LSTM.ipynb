{
 "cells": [
  {
   "cell_type": "markdown",
   "metadata": {},
   "source": [
    "# 1. Data Preprocessing"
   ]
  },
  {
   "cell_type": "markdown",
   "metadata": {},
   "source": [
    "## 1.1 Import Dependencies"
   ]
  },
  {
   "cell_type": "code",
   "execution_count": 1,
   "metadata": {},
   "outputs": [],
   "source": [
    "import math\n",
    "import matplotlib.pyplot as plt\n",
    "import numpy as np\n",
    "import pandas as pd\n",
    "import os\n",
    "from collections import defaultdict\n",
    "from sklearn.preprocessing import StandardScaler\n",
    "from sklearn.preprocessing import MinMaxScaler"
   ]
  },
  {
   "cell_type": "code",
   "execution_count": 2,
   "metadata": {
    "scrolled": true
   },
   "outputs": [
    {
     "name": "stdout",
     "output_type": "stream",
     "text": [
      "./data/test_round2.csv\n",
      "./data/.DS_Store\n",
      "./data/train_round2.csv\n",
      "./data/graph_round2.csv\n",
      "./data/test.csv\n",
      "./data/graph.csv\n",
      "./data/submission_round2.csv\n",
      "./data/submission.csv\n",
      "./data/train.csv\n"
     ]
    }
   ],
   "source": [
    "for dirname, _, filenames in os.walk('./data'):\n",
    "    for filename in filenames:\n",
    "        print(os.path.join(dirname, filename))"
   ]
  },
  {
   "cell_type": "markdown",
   "metadata": {},
   "source": [
    "## 1.2 Load Data"
   ]
  },
  {
   "cell_type": "code",
   "execution_count": 3,
   "metadata": {},
   "outputs": [
    {
     "data": {
      "text/html": [
       "<div>\n",
       "<style scoped>\n",
       "    .dataframe tbody tr th:only-of-type {\n",
       "        vertical-align: middle;\n",
       "    }\n",
       "\n",
       "    .dataframe tbody tr th {\n",
       "        vertical-align: top;\n",
       "    }\n",
       "\n",
       "    .dataframe thead th {\n",
       "        text-align: right;\n",
       "    }\n",
       "</style>\n",
       "<table border=\"1\" class=\"dataframe\">\n",
       "  <thead>\n",
       "    <tr style=\"text-align: right;\">\n",
       "      <th></th>\n",
       "      <th>ID</th>\n",
       "      <th>Confirmed</th>\n",
       "      <th>Deaths</th>\n",
       "      <th>Recovered</th>\n",
       "      <th>Active</th>\n",
       "      <th>Incident_Rate</th>\n",
       "      <th>People_Tested</th>\n",
       "      <th>People_Hospitalized</th>\n",
       "      <th>Mortality_Rate</th>\n",
       "      <th>Testing_Rate</th>\n",
       "      <th>Hospitalization_Rate</th>\n",
       "    </tr>\n",
       "  </thead>\n",
       "  <tbody>\n",
       "    <tr>\n",
       "      <th>count</th>\n",
       "      <td>7100.000000</td>\n",
       "      <td>7100.000000</td>\n",
       "      <td>7100.000000</td>\n",
       "      <td>5771.000000</td>\n",
       "      <td>7100.000000</td>\n",
       "      <td>7100.000000</td>\n",
       "      <td>7.100000e+03</td>\n",
       "      <td>5047.000000</td>\n",
       "      <td>7100.000000</td>\n",
       "      <td>7100.000000</td>\n",
       "      <td>5047.000000</td>\n",
       "    </tr>\n",
       "    <tr>\n",
       "      <th>mean</th>\n",
       "      <td>3549.500000</td>\n",
       "      <td>56374.339577</td>\n",
       "      <td>2323.883099</td>\n",
       "      <td>20422.274649</td>\n",
       "      <td>37635.120986</td>\n",
       "      <td>747.273790</td>\n",
       "      <td>6.427069e+05</td>\n",
       "      <td>6250.044185</td>\n",
       "      <td>3.653231</td>\n",
       "      <td>9666.099116</td>\n",
       "      <td>12.197144</td>\n",
       "    </tr>\n",
       "    <tr>\n",
       "      <th>std</th>\n",
       "      <td>2049.737788</td>\n",
       "      <td>95058.665054</td>\n",
       "      <td>4742.274729</td>\n",
       "      <td>39262.213465</td>\n",
       "      <td>79067.101832</td>\n",
       "      <td>637.397470</td>\n",
       "      <td>1.127555e+06</td>\n",
       "      <td>13880.694435</td>\n",
       "      <td>2.074042</td>\n",
       "      <td>7779.560336</td>\n",
       "      <td>5.255183</td>\n",
       "    </tr>\n",
       "    <tr>\n",
       "      <th>min</th>\n",
       "      <td>0.000000</td>\n",
       "      <td>270.000000</td>\n",
       "      <td>0.000000</td>\n",
       "      <td>0.000000</td>\n",
       "      <td>-989.000000</td>\n",
       "      <td>32.771004</td>\n",
       "      <td>5.459000e+03</td>\n",
       "      <td>10.000000</td>\n",
       "      <td>0.000000</td>\n",
       "      <td>460.300152</td>\n",
       "      <td>2.302896</td>\n",
       "    </tr>\n",
       "    <tr>\n",
       "      <th>25%</th>\n",
       "      <td>1774.750000</td>\n",
       "      <td>6097.500000</td>\n",
       "      <td>153.000000</td>\n",
       "      <td>1614.500000</td>\n",
       "      <td>2849.000000</td>\n",
       "      <td>224.815702</td>\n",
       "      <td>1.000775e+05</td>\n",
       "      <td>595.000000</td>\n",
       "      <td>1.928925</td>\n",
       "      <td>3379.288445</td>\n",
       "      <td>8.387037</td>\n",
       "    </tr>\n",
       "    <tr>\n",
       "      <th>50%</th>\n",
       "      <td>3549.500000</td>\n",
       "      <td>22892.000000</td>\n",
       "      <td>681.000000</td>\n",
       "      <td>5881.000000</td>\n",
       "      <td>10409.000000</td>\n",
       "      <td>540.836745</td>\n",
       "      <td>2.643235e+05</td>\n",
       "      <td>2068.000000</td>\n",
       "      <td>3.362027</td>\n",
       "      <td>7842.820591</td>\n",
       "      <td>11.351161</td>\n",
       "    </tr>\n",
       "    <tr>\n",
       "      <th>75%</th>\n",
       "      <td>5324.250000</td>\n",
       "      <td>62959.250000</td>\n",
       "      <td>2334.000000</td>\n",
       "      <td>26103.000000</td>\n",
       "      <td>32106.500000</td>\n",
       "      <td>1126.282666</td>\n",
       "      <td>7.048395e+05</td>\n",
       "      <td>6134.500000</td>\n",
       "      <td>4.797564</td>\n",
       "      <td>14127.521137</td>\n",
       "      <td>15.396088</td>\n",
       "    </tr>\n",
       "    <tr>\n",
       "      <th>max</th>\n",
       "      <td>7099.000000</td>\n",
       "      <td>712475.000000</td>\n",
       "      <td>32957.000000</td>\n",
       "      <td>507499.000000</td>\n",
       "      <td>699453.000000</td>\n",
       "      <td>3187.773001</td>\n",
       "      <td>1.137330e+07</td>\n",
       "      <td>89995.000000</td>\n",
       "      <td>9.741481</td>\n",
       "      <td>49502.860687</td>\n",
       "      <td>38.501190</td>\n",
       "    </tr>\n",
       "  </tbody>\n",
       "</table>\n",
       "</div>"
      ],
      "text/plain": [
       "                ID      Confirmed        Deaths      Recovered         Active  \\\n",
       "count  7100.000000    7100.000000   7100.000000    5771.000000    7100.000000   \n",
       "mean   3549.500000   56374.339577   2323.883099   20422.274649   37635.120986   \n",
       "std    2049.737788   95058.665054   4742.274729   39262.213465   79067.101832   \n",
       "min       0.000000     270.000000      0.000000       0.000000    -989.000000   \n",
       "25%    1774.750000    6097.500000    153.000000    1614.500000    2849.000000   \n",
       "50%    3549.500000   22892.000000    681.000000    5881.000000   10409.000000   \n",
       "75%    5324.250000   62959.250000   2334.000000   26103.000000   32106.500000   \n",
       "max    7099.000000  712475.000000  32957.000000  507499.000000  699453.000000   \n",
       "\n",
       "       Incident_Rate  People_Tested  People_Hospitalized  Mortality_Rate  \\\n",
       "count    7100.000000   7.100000e+03          5047.000000     7100.000000   \n",
       "mean      747.273790   6.427069e+05          6250.044185        3.653231   \n",
       "std       637.397470   1.127555e+06         13880.694435        2.074042   \n",
       "min        32.771004   5.459000e+03            10.000000        0.000000   \n",
       "25%       224.815702   1.000775e+05           595.000000        1.928925   \n",
       "50%       540.836745   2.643235e+05          2068.000000        3.362027   \n",
       "75%      1126.282666   7.048395e+05          6134.500000        4.797564   \n",
       "max      3187.773001   1.137330e+07         89995.000000        9.741481   \n",
       "\n",
       "       Testing_Rate  Hospitalization_Rate  \n",
       "count   7100.000000           5047.000000  \n",
       "mean    9666.099116             12.197144  \n",
       "std     7779.560336              5.255183  \n",
       "min      460.300152              2.302896  \n",
       "25%     3379.288445              8.387037  \n",
       "50%     7842.820591             11.351161  \n",
       "75%    14127.521137             15.396088  \n",
       "max    49502.860687             38.501190  "
      ]
     },
     "execution_count": 3,
     "metadata": {},
     "output_type": "execute_result"
    }
   ],
   "source": [
    "data_dir = 'data'\n",
    "temporal_data_path = os.path.join(data_dir, 'train.csv')\n",
    "mobility_data_path = os.path.join(data_dir, 'graph_round2.csv')\n",
    "\n",
    "temporal_data = pd.read_csv(temporal_data_path)\n",
    "temporal_data.describe()\n",
    "# train_round2.csv 04/12/2020 to 11/22/2020.\n",
    "# train.csv 04/12/2020 to 08/31/2020"
   ]
  },
  {
   "cell_type": "code",
   "execution_count": 4,
   "metadata": {},
   "outputs": [
    {
     "name": "stdout",
     "output_type": "stream",
     "text": [
      "      Confirmed  Deaths\n",
      "4             0       0\n",
      "54         1136      74\n",
      "104        1425      53\n",
      "154        1330      93\n",
      "204         991      96\n",
      "...         ...     ...\n",
      "6854       4817     145\n",
      "6904       5564     128\n",
      "6954       4653      89\n",
      "7004       3913      43\n",
      "7054       6524      85\n",
      "\n",
      "[142 rows x 2 columns]\n",
      "      Confirmed  Deaths\n",
      "4         22795     640\n",
      "54        23931     714\n",
      "104       25356     767\n",
      "154       26686     860\n",
      "204       27677     956\n",
      "...         ...     ...\n",
      "6854     691821   12677\n",
      "6904     697385   12805\n",
      "6954     702038   12894\n",
      "7004     705951   12937\n",
      "7054     712475   13022\n",
      "\n",
      "[142 rows x 2 columns]\n"
     ]
    }
   ],
   "source": [
    "states = list(np.unique(temporal_data['Province_State']))\n",
    "state_cum_temporal_data = dict.fromkeys(states, None)\n",
    "state_temporal_data = dict.fromkeys(states, None)\n",
    "# state_cum_temporal_scaler = defaultdict(StandardScaler)\n",
    "# state_temporal_scaler = defaultdict(StandardScaler)\n",
    "dropped_attr = ['Date',\n",
    "                'Active',\n",
    "                'ID', \n",
    "                'Province_State', \n",
    "                'Incident_Rate', \n",
    "                'Recovered', \n",
    "                'People_Tested', \n",
    "                'People_Hospitalized', \n",
    "                'Mortality_Rate', \n",
    "                'Testing_Rate', \n",
    "                'Hospitalization_Rate']\n",
    "\n",
    "for s in states:\n",
    "    df_filter = temporal_data['Province_State'] == s\n",
    "    state_df = temporal_data[df_filter]\n",
    "    # Daily difference data\n",
    "    state_temporal_data[s] = state_df.drop(dropped_attr, 1)\n",
    "    for col in state_temporal_data[s]:\n",
    "        data = state_temporal_data[s][col].tolist()\n",
    "        diff = [i - j for i, j in zip(data, [*[data[0]], *data[:len(data) - 1]])]\n",
    "        state_temporal_data[s][col] = diff\n",
    "    save_columns = state_temporal_data[s].columns\n",
    "#     state_temporal_data[s] = state_temporal_scaler[s].fit_transform(state_temporal_data[s])\n",
    "    state_temporal_data[s] = pd.DataFrame(state_temporal_data[s], columns=save_columns)\n",
    "    # Daily cumulative data\n",
    "    state_cum_temporal_data[s] = state_df.drop(dropped_attr, 1)\n",
    "    save_columns = state_cum_temporal_data[s].columns\n",
    "#     state_cum_temporal_data[s] = state_cum_temporal_scaler[s].fit_transform(state_cum_temporal_data[s])\n",
    "    state_cum_temporal_data[s] = pd.DataFrame(state_cum_temporal_data[s], columns=save_columns)\n",
    "    \n",
    "print(state_temporal_data['California'])\n",
    "print(state_cum_temporal_data['California'])"
   ]
  },
  {
   "cell_type": "markdown",
   "metadata": {},
   "source": [
    "## Train a RNN Model with LSTM"
   ]
  },
  {
   "cell_type": "code",
   "execution_count": 128,
   "metadata": {},
   "outputs": [],
   "source": [
    "import tensorflow as tf\n",
    "from tensorflow import keras\n",
    "from tensorflow.keras import layers\n",
    "from tensorflow.keras.layers import Dense, LSTM, Dropout\n",
    "from tensorflow.keras import Sequential\n",
    "from tensorflow.keras import Input\n",
    "from tensorflow.keras.models import Model\n",
    "\n",
    "# window_size is use n-1 days to predict nth day\n",
    "window_size = 22\n",
    "forecast_days = 26\n",
    "\n",
    "# test model for current_state\n",
    "current_state = 'Arkansas'\n",
    "data_training = state_temporal_data[current_state]"
   ]
  },
  {
   "cell_type": "code",
   "execution_count": 129,
   "metadata": {},
   "outputs": [],
   "source": [
    "scaler = MinMaxScaler()\n",
    "data_training = scaler.fit_transform(data_training)"
   ]
  },
  {
   "cell_type": "code",
   "execution_count": 130,
   "metadata": {},
   "outputs": [],
   "source": [
    "X_train = []\n",
    "y_train = []\n",
    "\n",
    "data_training_np = np.array(data_training)\n",
    "\n",
    "for i in range(data_training.shape[0] - window_size):\n",
    "    X_train.append(data_training[i : i + window_size])\n",
    "    y_train.append(data_training_np[i + window_size])\n",
    "    \n",
    "X_train, y_train = np.array(X_train), np.array(y_train)"
   ]
  },
  {
   "cell_type": "code",
   "execution_count": 131,
   "metadata": {},
   "outputs": [
    {
     "data": {
      "text/plain": [
       "array([[[0.27378508, 0.04347826],\n",
       "        [0.36276523, 0.13043478],\n",
       "        [0.3340178 , 0.17391304],\n",
       "        ...,\n",
       "        [0.31211499, 0.17391304],\n",
       "        [0.29774127, 0.39130435],\n",
       "        [0.31827515, 0.2173913 ]],\n",
       "\n",
       "       [[0.36276523, 0.13043478],\n",
       "        [0.3340178 , 0.17391304],\n",
       "        [0.32238193, 0.08695652],\n",
       "        ...,\n",
       "        [0.29774127, 0.39130435],\n",
       "        [0.31827515, 0.2173913 ],\n",
       "        [0.31074606, 0.2173913 ]],\n",
       "\n",
       "       [[0.3340178 , 0.17391304],\n",
       "        [0.32238193, 0.08695652],\n",
       "        [0.30869268, 0.2173913 ],\n",
       "        ...,\n",
       "        [0.31827515, 0.2173913 ],\n",
       "        [0.31074606, 0.2173913 ],\n",
       "        [0.29705681, 0.17391304]],\n",
       "\n",
       "       ...,\n",
       "\n",
       "       [[0.96577687, 0.30434783],\n",
       "        [0.80219028, 0.65217391],\n",
       "        [0.66529774, 0.43478261],\n",
       "        ...,\n",
       "        [0.71800137, 0.95652174],\n",
       "        [0.76796715, 0.34782609],\n",
       "        [0.84736482, 0.7826087 ]],\n",
       "\n",
       "       [[0.80219028, 0.65217391],\n",
       "        [0.66529774, 0.43478261],\n",
       "        [0.71526352, 0.52173913],\n",
       "        ...,\n",
       "        [0.76796715, 0.34782609],\n",
       "        [0.84736482, 0.7826087 ],\n",
       "        [0.81793292, 0.73913043]],\n",
       "\n",
       "       [[0.66529774, 0.43478261],\n",
       "        [0.71526352, 0.52173913],\n",
       "        [0.53593429, 0.52173913],\n",
       "        ...,\n",
       "        [0.84736482, 0.7826087 ],\n",
       "        [0.81793292, 0.73913043],\n",
       "        [0.60095825, 0.56521739]]])"
      ]
     },
     "execution_count": 131,
     "metadata": {},
     "output_type": "execute_result"
    }
   ],
   "source": [
    "X_train"
   ]
  },
  {
   "cell_type": "code",
   "execution_count": 132,
   "metadata": {},
   "outputs": [
    {
     "data": {
      "text/plain": [
       "array([[0.31074606, 0.2173913 ],\n",
       "       [0.29705681, 0.17391304],\n",
       "       [0.33264887, 0.2173913 ],\n",
       "       [0.33675565, 0.04347826],\n",
       "       [0.30390144, 0.08695652],\n",
       "       [0.27378508, 0.04347826],\n",
       "       [0.45516769, 0.17391304],\n",
       "       [0.29500342, 0.17391304],\n",
       "       [0.35660507, 0.08695652],\n",
       "       [0.32306639, 0.13043478],\n",
       "       [0.36276523, 0.08695652],\n",
       "       [0.34017796, 0.04347826],\n",
       "       [0.35249829, 0.04347826],\n",
       "       [0.39767283, 0.04347826],\n",
       "       [0.31074606, 0.13043478],\n",
       "       [0.34907598, 0.13043478],\n",
       "       [0.32854209, 0.26086957],\n",
       "       [0.58521561, 0.17391304],\n",
       "       [0.37919233, 0.17391304],\n",
       "       [0.3853525 , 0.13043478],\n",
       "       [0.3744011 , 0.08695652],\n",
       "       [0.34702259, 0.08695652],\n",
       "       [0.37713895, 0.13043478],\n",
       "       [0.34017796, 0.08695652],\n",
       "       [0.45242984, 0.26086957],\n",
       "       [0.43737166, 0.34782609],\n",
       "       [0.43531828, 0.08695652],\n",
       "       [0.43805613, 0.04347826],\n",
       "       [0.40383299, 0.04347826],\n",
       "       [0.53045859, 0.17391304],\n",
       "       [0.44421629, 0.30434783],\n",
       "       [0.51882272, 0.43478261],\n",
       "       [0.42847365, 0.08695652],\n",
       "       [0.58179329, 0.13043478],\n",
       "       [0.49623546, 0.04347826],\n",
       "       [0.48870637, 0.08695652],\n",
       "       [0.5065024 , 0.30434783],\n",
       "       [0.47091034, 0.2173913 ],\n",
       "       [0.58042437, 0.30434783],\n",
       "       [0.77412731, 0.26086957],\n",
       "       [0.64887064, 0.08695652],\n",
       "       [0.55167693, 0.13043478],\n",
       "       [0.55852156, 0.17391304],\n",
       "       [0.46132786, 0.30434783],\n",
       "       [0.5578371 , 0.43478261],\n",
       "       [0.49418207, 0.52173913],\n",
       "       [0.75496235, 0.30434783],\n",
       "       [0.62354552, 0.47826087],\n",
       "       [0.56057495, 0.08695652],\n",
       "       [0.63107461, 0.13043478],\n",
       "       [0.68104038, 0.47826087],\n",
       "       [0.75085558, 0.17391304],\n",
       "       [0.74401095, 0.04347826],\n",
       "       [0.73785079, 0.43478261],\n",
       "       [0.66392882, 0.47826087],\n",
       "       [0.62149213, 0.26086957],\n",
       "       [0.5742642 , 0.08695652],\n",
       "       [0.62970568, 0.26086957],\n",
       "       [0.56125941, 0.34782609],\n",
       "       [0.87474333, 0.13043478],\n",
       "       [0.64818617, 0.13043478],\n",
       "       [0.67556468, 0.26086957],\n",
       "       [0.68788501, 0.08695652],\n",
       "       [0.5742642 , 0.26086957],\n",
       "       [0.45106092, 0.43478261],\n",
       "       [0.7761807 , 0.2173913 ],\n",
       "       [0.82546201, 0.2173913 ],\n",
       "       [0.78781656, 0.2173913 ],\n",
       "       [1.        , 0.30434783],\n",
       "       [0.61806982, 0.13043478],\n",
       "       [0.66529774, 0.13043478],\n",
       "       [0.87132101, 0.39130435],\n",
       "       [0.60574949, 0.2173913 ],\n",
       "       [0.8329911 , 0.30434783],\n",
       "       [0.71731691, 0.56521739],\n",
       "       [0.80150582, 0.2173913 ],\n",
       "       [0.74948665, 0.04347826],\n",
       "       [0.7522245 , 0.30434783],\n",
       "       [0.77207392, 0.52173913],\n",
       "       [0.67830253, 0.30434783],\n",
       "       [0.96714579, 0.30434783],\n",
       "       [0.95140315, 0.39130435],\n",
       "       [0.77481177, 0.26086957],\n",
       "       [0.71321013, 0.13043478],\n",
       "       [0.83778234, 0.34782609],\n",
       "       [0.7761807 , 0.91304348],\n",
       "       [0.81245722, 0.30434783],\n",
       "       [0.81519507, 0.39130435],\n",
       "       [0.78850103, 0.52173913],\n",
       "       [0.72689938, 0.26086957],\n",
       "       [0.70978782, 0.30434783],\n",
       "       [0.81245722, 0.52173913],\n",
       "       [0.81040383, 0.69565217],\n",
       "       [0.89801506, 0.82608696],\n",
       "       [0.77686516, 0.34782609],\n",
       "       [0.96577687, 0.30434783],\n",
       "       [0.80219028, 0.65217391],\n",
       "       [0.66529774, 0.43478261],\n",
       "       [0.71526352, 0.52173913],\n",
       "       [0.53593429, 0.52173913],\n",
       "       [0.74264203, 0.30434783],\n",
       "       [0.73237509, 0.47826087],\n",
       "       [0.70225873, 0.26086957],\n",
       "       [0.        , 0.60869565],\n",
       "       [0.73442847, 0.        ],\n",
       "       [0.55578371, 0.2173913 ],\n",
       "       [0.55441478, 0.73913043],\n",
       "       [0.77275838, 0.56521739],\n",
       "       [0.6495551 , 0.47826087],\n",
       "       [0.88090349, 1.        ],\n",
       "       [0.64818617, 0.52173913],\n",
       "       [0.53045859, 0.60869565],\n",
       "       [0.49281314, 0.43478261],\n",
       "       [0.60232717, 0.69565217],\n",
       "       [0.71800137, 0.95652174],\n",
       "       [0.76796715, 0.34782609],\n",
       "       [0.84736482, 0.7826087 ],\n",
       "       [0.81793292, 0.73913043],\n",
       "       [0.60095825, 0.56521739],\n",
       "       [0.52566735, 0.60869565]])"
      ]
     },
     "execution_count": 132,
     "metadata": {},
     "output_type": "execute_result"
    }
   ],
   "source": [
    "y_train"
   ]
  },
  {
   "cell_type": "code",
   "execution_count": 133,
   "metadata": {},
   "outputs": [
    {
     "name": "stdout",
     "output_type": "stream",
     "text": [
      "Model: \"sequential_7\"\n",
      "_________________________________________________________________\n",
      "Layer (type)                 Output Shape              Param #   \n",
      "=================================================================\n",
      "lstm_19 (LSTM)               (None, 22, 20)            1840      \n",
      "_________________________________________________________________\n",
      "dropout_19 (Dropout)         (None, 22, 20)            0         \n",
      "_________________________________________________________________\n",
      "lstm_20 (LSTM)               (None, 22, 30)            6120      \n",
      "_________________________________________________________________\n",
      "dropout_20 (Dropout)         (None, 22, 30)            0         \n",
      "_________________________________________________________________\n",
      "lstm_21 (LSTM)               (None, 40)                11360     \n",
      "_________________________________________________________________\n",
      "dropout_21 (Dropout)         (None, 40)                0         \n",
      "_________________________________________________________________\n",
      "dense_7 (Dense)              (None, 2)                 82        \n",
      "=================================================================\n",
      "Total params: 19,402\n",
      "Trainable params: 19,402\n",
      "Non-trainable params: 0\n",
      "_________________________________________________________________\n"
     ]
    }
   ],
   "source": [
    "model = keras.Sequential()\n",
    "\n",
    "model.add(LSTM(units=20, activation = 'relu', return_sequences=True, input_shape=(X_train.shape[1], X_train.shape[2])))\n",
    "model.add(Dropout(0.2))\n",
    "\n",
    "model.add(LSTM(units=30, activation = 'relu', return_sequences=True))\n",
    "model.add(Dropout(0.2))\n",
    "\n",
    "model.add(LSTM(units=40, activation = 'relu', return_sequences=False))\n",
    "model.add(Dropout(0.2))\n",
    "\n",
    "model.add(Dense(units = 2))\n",
    "\n",
    "model.summary()"
   ]
  },
  {
   "cell_type": "code",
   "execution_count": 134,
   "metadata": {},
   "outputs": [
    {
     "name": "stdout",
     "output_type": "stream",
     "text": [
      "Train on 120 samples\n",
      "Epoch 1/50\n",
      "120/120 [==============================] - 11s 89ms/sample - loss: 0.1452\n",
      "Epoch 2/50\n",
      "120/120 [==============================] - 1s 8ms/sample - loss: 0.1067\n",
      "Epoch 3/50\n",
      "120/120 [==============================] - 1s 10ms/sample - loss: 0.0579\n",
      "Epoch 4/50\n",
      "120/120 [==============================] - 1s 8ms/sample - loss: 0.0473\n",
      "Epoch 5/50\n",
      "120/120 [==============================] - 1s 12ms/sample - loss: 0.0211\n",
      "Epoch 6/50\n",
      "120/120 [==============================] - 2s 14ms/sample - loss: 0.0189\n",
      "Epoch 7/50\n",
      "120/120 [==============================] - 1s 11ms/sample - loss: 0.0216\n",
      "Epoch 8/50\n",
      "120/120 [==============================] - 1s 9ms/sample - loss: 0.0180\n",
      "Epoch 9/50\n",
      "120/120 [==============================] - 1s 8ms/sample - loss: 0.0194\n",
      "Epoch 10/50\n",
      "120/120 [==============================] - 1s 8ms/sample - loss: 0.0188\n",
      "Epoch 11/50\n",
      "120/120 [==============================] - 1s 8ms/sample - loss: 0.0185\n",
      "Epoch 12/50\n",
      "120/120 [==============================] - 1s 8ms/sample - loss: 0.0152\n",
      "Epoch 13/50\n",
      "120/120 [==============================] - 1s 9ms/sample - loss: 0.0151\n",
      "Epoch 14/50\n",
      "120/120 [==============================] - 1s 8ms/sample - loss: 0.0166\n",
      "Epoch 15/50\n",
      "120/120 [==============================] - 1s 8ms/sample - loss: 0.0164\n",
      "Epoch 16/50\n",
      "120/120 [==============================] - 1s 8ms/sample - loss: 0.0161\n",
      "Epoch 17/50\n",
      "120/120 [==============================] - 1s 8ms/sample - loss: 0.0159\n",
      "Epoch 18/50\n",
      "120/120 [==============================] - 1s 8ms/sample - loss: 0.0163\n",
      "Epoch 19/50\n",
      "120/120 [==============================] - 1s 8ms/sample - loss: 0.0158\n",
      "Epoch 20/50\n",
      "120/120 [==============================] - 1s 8ms/sample - loss: 0.0162\n",
      "Epoch 21/50\n",
      "120/120 [==============================] - 1s 8ms/sample - loss: 0.0153\n",
      "Epoch 22/50\n",
      "120/120 [==============================] - 1s 8ms/sample - loss: 0.0153\n",
      "Epoch 23/50\n",
      "120/120 [==============================] - 1s 8ms/sample - loss: 0.0149\n",
      "Epoch 24/50\n",
      "120/120 [==============================] - 1s 8ms/sample - loss: 0.0138\n",
      "Epoch 25/50\n",
      "120/120 [==============================] - 1s 9ms/sample - loss: 0.0139\n",
      "Epoch 26/50\n",
      "120/120 [==============================] - 1s 8ms/sample - loss: 0.0145\n",
      "Epoch 27/50\n",
      "120/120 [==============================] - 1s 8ms/sample - loss: 0.0149\n",
      "Epoch 28/50\n",
      "120/120 [==============================] - 1s 8ms/sample - loss: 0.0138\n",
      "Epoch 29/50\n",
      "120/120 [==============================] - 1s 8ms/sample - loss: 0.0152\n",
      "Epoch 30/50\n",
      "120/120 [==============================] - 1s 8ms/sample - loss: 0.0148\n",
      "Epoch 31/50\n",
      "120/120 [==============================] - 1s 8ms/sample - loss: 0.0148\n",
      "Epoch 32/50\n",
      "120/120 [==============================] - 1s 8ms/sample - loss: 0.0140\n",
      "Epoch 33/50\n",
      "120/120 [==============================] - 1s 8ms/sample - loss: 0.0140\n",
      "Epoch 34/50\n",
      "120/120 [==============================] - 1s 8ms/sample - loss: 0.0150\n",
      "Epoch 35/50\n",
      "120/120 [==============================] - 1s 9ms/sample - loss: 0.0129\n",
      "Epoch 36/50\n",
      "120/120 [==============================] - 1s 8ms/sample - loss: 0.0137\n",
      "Epoch 37/50\n",
      "120/120 [==============================] - 1s 8ms/sample - loss: 0.0141\n",
      "Epoch 38/50\n",
      "120/120 [==============================] - 1s 8ms/sample - loss: 0.0128\n",
      "Epoch 39/50\n",
      "120/120 [==============================] - 1s 8ms/sample - loss: 0.0130\n",
      "Epoch 40/50\n",
      "120/120 [==============================] - 1s 8ms/sample - loss: 0.0146\n",
      "Epoch 41/50\n",
      "120/120 [==============================] - 1s 8ms/sample - loss: 0.0132\n",
      "Epoch 42/50\n",
      "120/120 [==============================] - 1s 8ms/sample - loss: 0.0149\n",
      "Epoch 43/50\n",
      "120/120 [==============================] - 1s 9ms/sample - loss: 0.0140\n",
      "Epoch 44/50\n",
      "120/120 [==============================] - 1s 8ms/sample - loss: 0.0134\n",
      "Epoch 45/50\n",
      "120/120 [==============================] - 1s 8ms/sample - loss: 0.0128\n",
      "Epoch 46/50\n",
      "120/120 [==============================] - 1s 8ms/sample - loss: 0.0130\n",
      "Epoch 47/50\n",
      "120/120 [==============================] - 1s 8ms/sample - loss: 0.0134\n",
      "Epoch 48/50\n",
      "120/120 [==============================] - 1s 8ms/sample - loss: 0.0118\n",
      "Epoch 49/50\n",
      "120/120 [==============================] - 1s 8ms/sample - loss: 0.0130\n",
      "Epoch 50/50\n",
      "120/120 [==============================] - 1s 8ms/sample - loss: 0.0122\n"
     ]
    },
    {
     "data": {
      "text/plain": [
       "<tensorflow.python.keras.callbacks.History at 0x7fd26e31f048>"
      ]
     },
     "execution_count": 134,
     "metadata": {},
     "output_type": "execute_result"
    }
   ],
   "source": [
    "model.compile(optimizer='adam', loss = 'mean_squared_logarithmic_error')\n",
    "model.fit(X_train, y_train, epochs=50, batch_size=16, verbose=1)"
   ]
  },
  {
   "cell_type": "code",
   "execution_count": 135,
   "metadata": {},
   "outputs": [
    {
     "data": {
      "text/plain": [
       "array([[[0.66529774, 0.43478261],\n",
       "        [0.71526352, 0.52173913],\n",
       "        [0.53593429, 0.52173913],\n",
       "        [0.74264203, 0.30434783],\n",
       "        [0.73237509, 0.47826087],\n",
       "        [0.70225873, 0.26086957],\n",
       "        [0.        , 0.60869565],\n",
       "        [0.73442847, 0.        ],\n",
       "        [0.55578371, 0.2173913 ],\n",
       "        [0.55441478, 0.73913043],\n",
       "        [0.77275838, 0.56521739],\n",
       "        [0.6495551 , 0.47826087],\n",
       "        [0.88090349, 1.        ],\n",
       "        [0.64818617, 0.52173913],\n",
       "        [0.53045859, 0.60869565],\n",
       "        [0.49281314, 0.43478261],\n",
       "        [0.60232717, 0.69565217],\n",
       "        [0.71800137, 0.95652174],\n",
       "        [0.76796715, 0.34782609],\n",
       "        [0.84736482, 0.7826087 ],\n",
       "        [0.81793292, 0.73913043],\n",
       "        [0.60095825, 0.56521739]]])"
      ]
     },
     "execution_count": 135,
     "metadata": {},
     "output_type": "execute_result"
    }
   ],
   "source": [
    "prediction_queue = X_train[-1:]\n",
    "prediction_queue = np.array(prediction_queue)\n",
    "prediction_queue"
   ]
  },
  {
   "cell_type": "code",
   "execution_count": 136,
   "metadata": {
    "scrolled": true
   },
   "outputs": [
    {
     "data": {
      "text/plain": [
       "array([[[0.55174327, 0.56135386],\n",
       "        [0.54735863, 0.56098646],\n",
       "        [0.54214996, 0.56425303],\n",
       "        [0.54351187, 0.55921417],\n",
       "        [0.53842252, 0.57075614],\n",
       "        [0.53662515, 0.57971072],\n",
       "        [0.53388244, 0.57318926],\n",
       "        [0.52781695, 0.56612372],\n",
       "        [0.5238868 , 0.56303334],\n",
       "        [0.51557171, 0.54047745],\n",
       "        [0.51186264, 0.53646958],\n",
       "        [0.50936419, 0.53180474],\n",
       "        [0.50722307, 0.53286809],\n",
       "        [0.50313467, 0.5248214 ],\n",
       "        [0.49715108, 0.50796896],\n",
       "        [0.4913041 , 0.50604516],\n",
       "        [0.48482725, 0.49203867],\n",
       "        [0.47967643, 0.48025283],\n",
       "        [0.47718105, 0.47747689],\n",
       "        [0.47483638, 0.4759523 ],\n",
       "        [0.47218186, 0.47321808],\n",
       "        [0.46927962, 0.46955955]]])"
      ]
     },
     "execution_count": 136,
     "metadata": {},
     "output_type": "execute_result"
    }
   ],
   "source": [
    "# prediction_queue should take in this y_pred as the last day and pop the first day in the queue\n",
    "# use model.predict(prediction_queue) with the new prediction_queue to get second day.\n",
    "# need to predict for next forecast_days days.\n",
    "for i in range(forecast_days):  \n",
    "    y_pred = model.predict(prediction_queue)\n",
    "    prediction_queue = np.append(prediction_queue, y_pred)\n",
    "    prediction_queue = np.delete(prediction_queue, 0)\n",
    "    prediction_queue = np.delete(prediction_queue, 0)\n",
    "    prediction_queue = prediction_queue.reshape(1,int(prediction_queue.shape[0]/2),2)\n",
    "\n",
    "prediction_queue"
   ]
  },
  {
   "cell_type": "code",
   "execution_count": 137,
   "metadata": {},
   "outputs": [],
   "source": [
    "y_case_forecast = []\n",
    "y_death_forecast = []\n",
    "\n",
    "for i in range(forecast_days):\n",
    "    y_case_forecast.append(prediction_queue[0][i + window_size - forecast_days][0])\n",
    "    y_death_forecast.append(prediction_queue[0][i + window_size - forecast_days][1])"
   ]
  },
  {
   "cell_type": "code",
   "execution_count": 138,
   "metadata": {},
   "outputs": [
    {
     "data": {
      "text/plain": [
       "[0.4771810472011566,\n",
       " 0.4748363792896271,\n",
       " 0.47218185663223267,\n",
       " 0.46927961707115173,\n",
       " 0.5517432689666748,\n",
       " 0.5473586320877075,\n",
       " 0.5421499609947205,\n",
       " 0.5435118675231934,\n",
       " 0.5384225249290466,\n",
       " 0.5366251468658447,\n",
       " 0.5338824391365051,\n",
       " 0.5278169512748718,\n",
       " 0.5238867998123169,\n",
       " 0.5155717134475708,\n",
       " 0.5118626356124878,\n",
       " 0.5093641877174377,\n",
       " 0.5072230696678162,\n",
       " 0.5031346678733826,\n",
       " 0.49715107679367065,\n",
       " 0.49130409955978394,\n",
       " 0.4848272502422333,\n",
       " 0.47967642545700073,\n",
       " 0.4771810472011566,\n",
       " 0.4748363792896271,\n",
       " 0.47218185663223267,\n",
       " 0.46927961707115173]"
      ]
     },
     "execution_count": 138,
     "metadata": {},
     "output_type": "execute_result"
    }
   ],
   "source": [
    "y_case_forecast"
   ]
  },
  {
   "cell_type": "code",
   "execution_count": 139,
   "metadata": {},
   "outputs": [
    {
     "data": {
      "text/plain": [
       "[0.47747689485549927,\n",
       " 0.47595229744911194,\n",
       " 0.47321808338165283,\n",
       " 0.46955955028533936,\n",
       " 0.561353862285614,\n",
       " 0.5609864592552185,\n",
       " 0.564253032207489,\n",
       " 0.559214174747467,\n",
       " 0.5707561373710632,\n",
       " 0.5797107219696045,\n",
       " 0.5731892585754395,\n",
       " 0.5661237239837646,\n",
       " 0.5630333423614502,\n",
       " 0.540477454662323,\n",
       " 0.536469578742981,\n",
       " 0.5318047404289246,\n",
       " 0.5328680872917175,\n",
       " 0.524821400642395,\n",
       " 0.5079689621925354,\n",
       " 0.5060451626777649,\n",
       " 0.49203866720199585,\n",
       " 0.48025283217430115,\n",
       " 0.47747689485549927,\n",
       " 0.47595229744911194,\n",
       " 0.47321808338165283,\n",
       " 0.46955955028533936]"
      ]
     },
     "execution_count": 139,
     "metadata": {},
     "output_type": "execute_result"
    }
   ],
   "source": [
    "y_death_forecast"
   ]
  },
  {
   "cell_type": "code",
   "execution_count": 140,
   "metadata": {},
   "outputs": [],
   "source": [
    "case_scale = 1/scaler.scale_[0]\n",
    "death_scale = 1/scaler.scale_[1]"
   ]
  },
  {
   "cell_type": "code",
   "execution_count": 141,
   "metadata": {},
   "outputs": [
    {
     "data": {
      "text/plain": [
       "1461.0"
      ]
     },
     "execution_count": 141,
     "metadata": {},
     "output_type": "execute_result"
    }
   ],
   "source": [
    "case_scale"
   ]
  },
  {
   "cell_type": "code",
   "execution_count": 142,
   "metadata": {},
   "outputs": [
    {
     "data": {
      "text/plain": [
       "23.0"
      ]
     },
     "execution_count": 142,
     "metadata": {},
     "output_type": "execute_result"
    }
   ],
   "source": [
    "death_scale"
   ]
  },
  {
   "cell_type": "code",
   "execution_count": 143,
   "metadata": {},
   "outputs": [],
   "source": [
    "y_case_forecast = [case_scale * i for i in y_case_forecast]\n",
    "y_death_forecast = [death_scale * i for i in y_death_forecast]"
   ]
  },
  {
   "cell_type": "code",
   "execution_count": 144,
   "metadata": {},
   "outputs": [],
   "source": [
    "last_day_case = state_cum_temporal_data[current_state]['Confirmed'].iloc[-1]\n",
    "last_day_death = state_cum_temporal_data[current_state]['Deaths'].iloc[-1]\n",
    "\n",
    "y_cum_case_forecast = []\n",
    "y_cum_death_forecast = []\n",
    "\n",
    "cum_case = last_day_case\n",
    "cum_death = last_day_death\n",
    "for case in y_case_forecast:\n",
    "    cum_case += case\n",
    "    y_cum_case_forecast.append(cum_case)\n",
    "    \n",
    "for death in y_death_forecast:\n",
    "    cum_death += death\n",
    "    y_cum_death_forecast.append(cum_death)"
   ]
  },
  {
   "cell_type": "code",
   "execution_count": 145,
   "metadata": {},
   "outputs": [
    {
     "data": {
      "text/plain": [
       "[61921.16150996089,\n",
       " 62614.897460103035,\n",
       " 63304.75515264273,\n",
       " 63990.37267318368,\n",
       " 64796.46958914399,\n",
       " 65596.16055062413,\n",
       " 66388.24164363742,\n",
       " 67182.3124820888,\n",
       " 67968.94779101014,\n",
       " 68752.95713058114,\n",
       " 69532.95937415957,\n",
       " 70304.09993997216,\n",
       " 71069.49855449796,\n",
       " 71822.74882784486,\n",
       " 72570.5801384747,\n",
       " 73314.76121672988,\n",
       " 74055.81412151456,\n",
       " 74790.89387127757,\n",
       " 75517.23159447312,\n",
       " 76235.02688392997,\n",
       " 76943.35949653387,\n",
       " 77644.16675412655,\n",
       " 78341.32826408744,\n",
       " 79035.06421422958,\n",
       " 79724.92190676928,\n",
       " 80410.53942731023]"
      ]
     },
     "execution_count": 145,
     "metadata": {},
     "output_type": "execute_result"
    }
   ],
   "source": [
    "y_cum_case_forecast"
   ]
  },
  {
   "cell_type": "code",
   "execution_count": 146,
   "metadata": {},
   "outputs": [
    {
     "data": {
      "text/plain": [
       "[807.9819685816765,\n",
       " 818.9288714230061,\n",
       " 829.8128873407841,\n",
       " 840.6127569973469,\n",
       " 853.523895829916,\n",
       " 866.426584392786,\n",
       " 879.4044041335583,\n",
       " 892.26633015275,\n",
       " 905.3937213122845,\n",
       " 918.7270679175854,\n",
       " 931.9104208648205,\n",
       " 944.9312665164471,\n",
       " 957.8810333907604,\n",
       " 970.3120148479939,\n",
       " 982.6508151590824,\n",
       " 994.8823241889477,\n",
       " 1007.1382901966572,\n",
       " 1019.2091824114323,\n",
       " 1030.8924685418606,\n",
       " 1042.5315072834492,\n",
       " 1053.848396629095,\n",
       " 1064.894211769104,\n",
       " 1075.8761803507805,\n",
       " 1086.82308319211,\n",
       " 1097.707099109888,\n",
       " 1108.5069687664509]"
      ]
     },
     "execution_count": 146,
     "metadata": {},
     "output_type": "execute_result"
    }
   ],
   "source": [
    "y_cum_death_forecast"
   ]
  },
  {
   "cell_type": "markdown",
   "metadata": {},
   "source": [
    "# 2. Train a RNN with LSTM for Every State"
   ]
  },
  {
   "cell_type": "markdown",
   "metadata": {},
   "source": [
    "## 2.1 Import Dependencies"
   ]
  },
  {
   "cell_type": "code",
   "execution_count": null,
   "metadata": {},
   "outputs": [],
   "source": [
    "import tensorflow as tf\n",
    "from tensorflow import keras\n",
    "from tensorflow.keras import layers\n",
    "from tensorflow.keras.layers import Dense, LSTM, Dropout\n",
    "from tensorflow.keras import Sequential\n",
    "from tensorflow.keras import Input\n",
    "from tensorflow.keras.models import Model\n",
    "\n",
    "# window_size is use n-1 days to predict nth day\n",
    "window_size = 22\n",
    "forecast_days = 26"
   ]
  },
  {
   "cell_type": "markdown",
   "metadata": {},
   "source": [
    "## 2.2 Helper Functions"
   ]
  },
  {
   "cell_type": "code",
   "execution_count": null,
   "metadata": {},
   "outputs": [],
   "source": [
    "states = state_temporal_data.keys()\n",
    "\n",
    "def get_training_data(state):\n",
    "    state_temporal_train = state_temporal_data[state]\n",
    "    scaler = MinMaxScaler()\n",
    "    state_temporal_train = scaler.fit_transform(state_temporal_train)\n",
    "    \n",
    "    X_train = []\n",
    "    y_train = []\n",
    "\n",
    "    state_temporal_train_np = np.array(state_temporal_train)\n",
    "\n",
    "    for i in range(state_temporal_train.shape[0] - window_size):\n",
    "        X_train.append(state_temporal_train[i : i + window_size])\n",
    "        y_train.append(state_temporal_train_np[i + window_size])\n",
    "\n",
    "    return np.array(X_train), np.array(y_train), scaler\n",
    "    \n",
    "\n",
    "def get_model(X_train):\n",
    "    model = keras.Sequential()\n",
    "\n",
    "    model.add(LSTM(units=20, activation = 'relu', return_sequences=True, input_shape=(X_train.shape[1], X_train.shape[2])))\n",
    "    model.add(Dropout(0.2))\n",
    "\n",
    "    model.add(LSTM(units=30, activation = 'relu', return_sequences=True))\n",
    "    model.add(Dropout(0.2))\n",
    "\n",
    "    model.add(LSTM(units=40, activation = 'relu', return_sequences=False))\n",
    "    model.add(Dropout(0.2))\n",
    "\n",
    "    model.add(Dense(units = 2))\n",
    "    \n",
    "    return model\n",
    "\n",
    "\n",
    "def get_prediction_queue(X_train):\n",
    "    prediction_queue = X_train[-1:]\n",
    "    return np.array(prediction_queue)\n",
    "\n",
    "\n",
    "def predict(model, queue, scaler):\n",
    "    prediction_queue = queue\n",
    "    \n",
    "    for i in range(forecast_days):  \n",
    "        y_pred = model.predict(prediction_queue)\n",
    "        prediction_queue = np.append(prediction_queue, y_pred)\n",
    "        prediction_queue = np.delete(prediction_queue, 0)\n",
    "        prediction_queue = np.delete(prediction_queue, 0)\n",
    "        prediction_queue = prediction_queue.reshape(1, prediction_queue.shape[0] // 2, 2)\n",
    "        \n",
    "    y_case_forecast = []\n",
    "    y_death_forecast = []\n",
    "\n",
    "    for i in range(forecast_days):\n",
    "        y_case_forecast.append(prediction_queue[0][i + window_size - forecast_days][0])\n",
    "        y_death_forecast.append(prediction_queue[0][i + window_size - forecast_days][1])\n",
    "        \n",
    "    case_scale = 1 / scaler.scale_[0]\n",
    "    death_scale = 1 / scaler.scale_[1]\n",
    "    \n",
    "    return [case_scale * i for i in y_case_forecast], [death_scale * i for i in y_death_forecast]\n",
    "\n",
    "\n",
    "def get_cum_forecast(state, y_case_forecast, y_death_forecast):\n",
    "    last_day_case = state_cum_temporal_data[state]['Confirmed'].iloc[-1]\n",
    "    last_day_death = state_cum_temporal_data[state]['Deaths'].iloc[-1]\n",
    "\n",
    "    y_cum_case_forecast = []\n",
    "    y_cum_death_forecast = []\n",
    "\n",
    "    cum_case = last_day_case\n",
    "    cum_death = last_day_death\n",
    "    for case in y_case_forecast:\n",
    "        cum_case += case\n",
    "        y_cum_case_forecast.append(cum_case)\n",
    "\n",
    "    for death in y_death_forecast:\n",
    "        cum_death += death\n",
    "        y_cum_death_forecast.append(cum_death)\n",
    "        \n",
    "    return y_cum_case_forecast, y_cum_death_forecast"
   ]
  },
  {
   "cell_type": "markdown",
   "metadata": {},
   "source": [
    "## 2.3 Train and Predict"
   ]
  },
  {
   "cell_type": "code",
   "execution_count": null,
   "metadata": {},
   "outputs": [],
   "source": [
    "forecasted = {}\n",
    "\n",
    "for state in states:\n",
    "    X_train, y_train, scaler = get_training_data(state)\n",
    "\n",
    "    model = get_model(X_train)\n",
    "    model.compile(optimizer='adam', loss = 'mean_squared_logarithmic_error')\n",
    "    model.fit(X_train, y_train, epochs=50, batch_size=16)\n",
    "    \n",
    "    y_case_forecast, y_death_forecast = predict(model, get_prediction_queue(X_train), scaler)\n",
    "    y_cum_case_forecast, y_cum_death_forecast = get_cum_forecast(state, y_case_forecast, y_death_forecast)\n",
    "    \n",
    "    forecasted[state] = (y_cum_case_forecast, y_cum_death_forecast)"
   ]
  },
  {
   "cell_type": "markdown",
   "metadata": {},
   "source": [
    "## 2.4 Generate Submission File"
   ]
  },
  {
   "cell_type": "code",
   "execution_count": null,
   "metadata": {},
   "outputs": [],
   "source": [
    "forecastID = [x for x in range(forecast_days * 50)]\n",
    "deaths = []\n",
    "confirmed = []\n",
    "\n",
    "for i in range(forecast_days):\n",
    "    for s in states:\n",
    "        print(f\"Day {i+1}/26, {s}\")\n",
    "        confirmed.append(forecasted[s][0][i])\n",
    "        deaths.append(forecasted[s][1][i])\n",
    "        \n",
    "final = pd.DataFrame(list(zip(forecastID, confirmed, deaths)), \n",
    "               columns =['ForecastID', 'Confirmed', 'Deaths']) \n",
    "\n",
    "final.to_csv(\"submission.csv\", index=False)"
   ]
  },
  {
   "cell_type": "code",
   "execution_count": null,
   "metadata": {},
   "outputs": [],
   "source": []
  }
 ],
 "metadata": {
  "kernelspec": {
   "display_name": "Python 3",
   "language": "python",
   "name": "python3"
  },
  "language_info": {
   "codemirror_mode": {
    "name": "ipython",
    "version": 3
   },
   "file_extension": ".py",
   "mimetype": "text/x-python",
   "name": "python",
   "nbconvert_exporter": "python",
   "pygments_lexer": "ipython3",
   "version": "3.6.12"
  }
 },
 "nbformat": 4,
 "nbformat_minor": 4
}
