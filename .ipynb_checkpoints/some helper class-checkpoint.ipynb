{
 "cells": [
  {
   "cell_type": "code",
   "execution_count": 5,
   "metadata": {},
   "outputs": [],
   "source": [
    "import os\n",
    "import numpy as np\n",
    "import pandas as pd"
   ]
  },
  {
   "cell_type": "code",
   "execution_count": 6,
   "metadata": {},
   "outputs": [],
   "source": [
    "data_dir = \"data\"\n",
    "train_data_path = os.path.join(data_dir, \"train.csv\")\n",
    "test_data_path  = os.path.join(data_dir, \"test.csv\")\n",
    "graph_data_path = os.path.join(data_dir, \"graph.csv\")"
   ]
  },
  {
   "cell_type": "code",
   "execution_count": 62,
   "metadata": {},
   "outputs": [],
   "source": [
    "# https://gist.github.com/rogerallen/1583593\n",
    "# ^ Use this in case we need state code translation\n",
    "\n",
    "from sklearn.preprocessing import StandardScaler\n",
    "\n",
    "import math\n",
    "import matplotlib.pyplot as plt\n",
    "class utils:\n",
    "    def __init__(self):\n",
    "        pass\n",
    "    \n",
    "    def split(self, dataframe, test=0.2):\n",
    "        size = dataframe.shape\n",
    "        train_size = size[0] - math.floor(size[0] * test)\n",
    "        return dataframe[:train_size], dataframe[train_size:]\n",
    "    \n",
    "class CoreData(object):\n",
    "    def __init__(self, data_path = None, debug=False):\n",
    "        if not data_path:\n",
    "            raise Exception(\"Input file path!\")\n",
    "        self.data_path = data_path\n",
    "        self.df = None\n",
    "        self.states = []\n",
    "        self.state_df = {}\n",
    "        self.debug = debug\n",
    "        \n",
    "    def load(self, normalize=True):\n",
    "        '''\n",
    "        DataProcessor.load()\n",
    "        Pre-load data state-by-state to a dictionary.\n",
    "        '''\n",
    "        # Change this line to modify dropped data series.\n",
    "        dropped_col = ['ID', 'Province_State']\n",
    "        \n",
    "        self.df = pd.read_csv(train_data_path)\n",
    "        self.states = list(np.unique(self.df['Province_State']))\n",
    "        self.state_df = dict.fromkeys(self.states, None)\n",
    "        \n",
    "        for s in self.states:\n",
    "            df_filter = self.df['Province_State'] == s\n",
    "            tmp_state_df = self.df[df_filter]\n",
    "            self.state_df[s] = tmp_state_df.drop(dropped_col, 1)\n",
    "            \n",
    "            # Normalize\n",
    "            if normalize:\n",
    "                mean = self.state_df[s].mean()\n",
    "                std = self.state_df[s].std()\n",
    "                self.state_df[s] = (self.state_df[s] - mean)/std\n",
    "    \n",
    "    def access(self, state=None):\n",
    "        if not state:\n",
    "            raise Exception('Enter state name! i.e. self.access(\"California\")')\n",
    "        elif state not in self.states:\n",
    "            raise Exception('Check your spelling of the state.')\n",
    "        return self.state_df[state]\n",
    "    \n",
    "    def access_split(self, state=None, test_portion=0.2):\n",
    "        df = self.access(state)\n",
    "        return utils().split(dataframe=df, test=test_portion)\n"
   ]
  },
  {
   "cell_type": "code",
   "execution_count": 63,
   "metadata": {},
   "outputs": [],
   "source": [
    "dp = CoreData(train_data_path)"
   ]
  },
  {
   "cell_type": "code",
   "execution_count": 64,
   "metadata": {},
   "outputs": [],
   "source": [
    "dp.load(False)"
   ]
  },
  {
   "cell_type": "code",
   "execution_count": 65,
   "metadata": {},
   "outputs": [
    {
     "data": {
      "text/html": [
       "<div>\n",
       "<style scoped>\n",
       "    .dataframe tbody tr th:only-of-type {\n",
       "        vertical-align: middle;\n",
       "    }\n",
       "\n",
       "    .dataframe tbody tr th {\n",
       "        vertical-align: top;\n",
       "    }\n",
       "\n",
       "    .dataframe thead th {\n",
       "        text-align: right;\n",
       "    }\n",
       "</style>\n",
       "<table border=\"1\" class=\"dataframe\">\n",
       "  <thead>\n",
       "    <tr style=\"text-align: right;\">\n",
       "      <th></th>\n",
       "      <th>Date</th>\n",
       "      <th>Confirmed</th>\n",
       "      <th>Deaths</th>\n",
       "      <th>Recovered</th>\n",
       "      <th>Active</th>\n",
       "      <th>Incident_Rate</th>\n",
       "      <th>People_Tested</th>\n",
       "      <th>People_Hospitalized</th>\n",
       "      <th>Mortality_Rate</th>\n",
       "      <th>Testing_Rate</th>\n",
       "      <th>Hospitalization_Rate</th>\n",
       "    </tr>\n",
       "  </thead>\n",
       "  <tbody>\n",
       "    <tr>\n",
       "      <th>4</th>\n",
       "      <td>04-12-2020</td>\n",
       "      <td>22795</td>\n",
       "      <td>640</td>\n",
       "      <td>NaN</td>\n",
       "      <td>22155.0</td>\n",
       "      <td>58.137726</td>\n",
       "      <td>190328.0</td>\n",
       "      <td>5234.0</td>\n",
       "      <td>2.812020</td>\n",
       "      <td>485.423869</td>\n",
       "      <td>22.961176</td>\n",
       "    </tr>\n",
       "    <tr>\n",
       "      <th>54</th>\n",
       "      <td>04-13-2020</td>\n",
       "      <td>23931</td>\n",
       "      <td>714</td>\n",
       "      <td>NaN</td>\n",
       "      <td>23217.0</td>\n",
       "      <td>61.035048</td>\n",
       "      <td>190882.0</td>\n",
       "      <td>3015.0</td>\n",
       "      <td>2.987756</td>\n",
       "      <td>486.836823</td>\n",
       "      <td>12.598721</td>\n",
       "    </tr>\n",
       "    <tr>\n",
       "      <th>104</th>\n",
       "      <td>04-14-2020</td>\n",
       "      <td>25356</td>\n",
       "      <td>767</td>\n",
       "      <td>NaN</td>\n",
       "      <td>24589.0</td>\n",
       "      <td>64.669453</td>\n",
       "      <td>202208.0</td>\n",
       "      <td>5163.0</td>\n",
       "      <td>3.028869</td>\n",
       "      <td>515.723328</td>\n",
       "      <td>20.362044</td>\n",
       "    </tr>\n",
       "    <tr>\n",
       "      <th>154</th>\n",
       "      <td>04-15-2020</td>\n",
       "      <td>26686</td>\n",
       "      <td>860</td>\n",
       "      <td>NaN</td>\n",
       "      <td>25826.0</td>\n",
       "      <td>68.061564</td>\n",
       "      <td>216486.0</td>\n",
       "      <td>5163.0</td>\n",
       "      <td>3.226411</td>\n",
       "      <td>552.138790</td>\n",
       "      <td>19.347223</td>\n",
       "    </tr>\n",
       "    <tr>\n",
       "      <th>204</th>\n",
       "      <td>04-16-2020</td>\n",
       "      <td>27677</td>\n",
       "      <td>956</td>\n",
       "      <td>NaN</td>\n",
       "      <td>26721.0</td>\n",
       "      <td>70.589069</td>\n",
       "      <td>246400.0</td>\n",
       "      <td>5031.0</td>\n",
       "      <td>3.457745</td>\n",
       "      <td>628.433237</td>\n",
       "      <td>18.177548</td>\n",
       "    </tr>\n",
       "    <tr>\n",
       "      <th>...</th>\n",
       "      <td>...</td>\n",
       "      <td>...</td>\n",
       "      <td>...</td>\n",
       "      <td>...</td>\n",
       "      <td>...</td>\n",
       "      <td>...</td>\n",
       "      <td>...</td>\n",
       "      <td>...</td>\n",
       "      <td>...</td>\n",
       "      <td>...</td>\n",
       "      <td>...</td>\n",
       "    </tr>\n",
       "    <tr>\n",
       "      <th>6854</th>\n",
       "      <td>08-27-2020</td>\n",
       "      <td>691821</td>\n",
       "      <td>12677</td>\n",
       "      <td>NaN</td>\n",
       "      <td>679144.0</td>\n",
       "      <td>1750.903765</td>\n",
       "      <td>10918415.0</td>\n",
       "      <td>NaN</td>\n",
       "      <td>1.832410</td>\n",
       "      <td>27633.006121</td>\n",
       "      <td>NaN</td>\n",
       "    </tr>\n",
       "    <tr>\n",
       "      <th>6904</th>\n",
       "      <td>08-28-2020</td>\n",
       "      <td>697385</td>\n",
       "      <td>12805</td>\n",
       "      <td>NaN</td>\n",
       "      <td>684580.0</td>\n",
       "      <td>1764.985483</td>\n",
       "      <td>11010637.0</td>\n",
       "      <td>NaN</td>\n",
       "      <td>1.836145</td>\n",
       "      <td>27866.407314</td>\n",
       "      <td>NaN</td>\n",
       "    </tr>\n",
       "    <tr>\n",
       "      <th>6954</th>\n",
       "      <td>08-29-2020</td>\n",
       "      <td>702038</td>\n",
       "      <td>12894</td>\n",
       "      <td>NaN</td>\n",
       "      <td>689144.0</td>\n",
       "      <td>1776.761586</td>\n",
       "      <td>11109630.0</td>\n",
       "      <td>NaN</td>\n",
       "      <td>1.836653</td>\n",
       "      <td>28116.944977</td>\n",
       "      <td>NaN</td>\n",
       "    </tr>\n",
       "    <tr>\n",
       "      <th>7004</th>\n",
       "      <td>08-30-2020</td>\n",
       "      <td>705951</td>\n",
       "      <td>12937</td>\n",
       "      <td>NaN</td>\n",
       "      <td>693014.0</td>\n",
       "      <td>1786.664851</td>\n",
       "      <td>11231829.0</td>\n",
       "      <td>NaN</td>\n",
       "      <td>1.832563</td>\n",
       "      <td>28426.213833</td>\n",
       "      <td>NaN</td>\n",
       "    </tr>\n",
       "    <tr>\n",
       "      <th>7054</th>\n",
       "      <td>08-31-2020</td>\n",
       "      <td>712475</td>\n",
       "      <td>13022</td>\n",
       "      <td>NaN</td>\n",
       "      <td>699453.0</td>\n",
       "      <td>1803.176197</td>\n",
       "      <td>11373305.0</td>\n",
       "      <td>NaN</td>\n",
       "      <td>1.827713</td>\n",
       "      <td>28784.270123</td>\n",
       "      <td>NaN</td>\n",
       "    </tr>\n",
       "  </tbody>\n",
       "</table>\n",
       "<p>142 rows × 11 columns</p>\n",
       "</div>"
      ],
      "text/plain": [
       "            Date  Confirmed  Deaths  Recovered    Active  Incident_Rate  \\\n",
       "4     04-12-2020      22795     640        NaN   22155.0      58.137726   \n",
       "54    04-13-2020      23931     714        NaN   23217.0      61.035048   \n",
       "104   04-14-2020      25356     767        NaN   24589.0      64.669453   \n",
       "154   04-15-2020      26686     860        NaN   25826.0      68.061564   \n",
       "204   04-16-2020      27677     956        NaN   26721.0      70.589069   \n",
       "...          ...        ...     ...        ...       ...            ...   \n",
       "6854  08-27-2020     691821   12677        NaN  679144.0    1750.903765   \n",
       "6904  08-28-2020     697385   12805        NaN  684580.0    1764.985483   \n",
       "6954  08-29-2020     702038   12894        NaN  689144.0    1776.761586   \n",
       "7004  08-30-2020     705951   12937        NaN  693014.0    1786.664851   \n",
       "7054  08-31-2020     712475   13022        NaN  699453.0    1803.176197   \n",
       "\n",
       "      People_Tested  People_Hospitalized  Mortality_Rate  Testing_Rate  \\\n",
       "4          190328.0               5234.0        2.812020    485.423869   \n",
       "54         190882.0               3015.0        2.987756    486.836823   \n",
       "104        202208.0               5163.0        3.028869    515.723328   \n",
       "154        216486.0               5163.0        3.226411    552.138790   \n",
       "204        246400.0               5031.0        3.457745    628.433237   \n",
       "...             ...                  ...             ...           ...   \n",
       "6854     10918415.0                  NaN        1.832410  27633.006121   \n",
       "6904     11010637.0                  NaN        1.836145  27866.407314   \n",
       "6954     11109630.0                  NaN        1.836653  28116.944977   \n",
       "7004     11231829.0                  NaN        1.832563  28426.213833   \n",
       "7054     11373305.0                  NaN        1.827713  28784.270123   \n",
       "\n",
       "      Hospitalization_Rate  \n",
       "4                22.961176  \n",
       "54               12.598721  \n",
       "104              20.362044  \n",
       "154              19.347223  \n",
       "204              18.177548  \n",
       "...                    ...  \n",
       "6854                   NaN  \n",
       "6904                   NaN  \n",
       "6954                   NaN  \n",
       "7004                   NaN  \n",
       "7054                   NaN  \n",
       "\n",
       "[142 rows x 11 columns]"
      ]
     },
     "execution_count": 65,
     "metadata": {},
     "output_type": "execute_result"
    }
   ],
   "source": [
    "dp.access(\"California\")"
   ]
  },
  {
   "cell_type": "code",
   "execution_count": 66,
   "metadata": {},
   "outputs": [],
   "source": [
    "t = dp.access_split('California')"
   ]
  },
  {
   "cell_type": "code",
   "execution_count": null,
   "metadata": {},
   "outputs": [],
   "source": []
  },
  {
   "cell_type": "code",
   "execution_count": 67,
   "metadata": {},
   "outputs": [],
   "source": [
    "import math\n",
    "from pandas.plotting import lag_plot\n",
    "from datetime import datetime\n",
    "from statsmodels.tsa.arima_model import ARIMA\n",
    "from sklearn.metrics import mean_squared_error"
   ]
  },
  {
   "cell_type": "code",
   "execution_count": 140,
   "metadata": {},
   "outputs": [],
   "source": [
    "state = 'Arkansas'"
   ]
  },
  {
   "cell_type": "code",
   "execution_count": 141,
   "metadata": {},
   "outputs": [],
   "source": [
    "training_data, test_data = dp.access_split(state, 0)\n",
    "data = dp.access(state)"
   ]
  },
  {
   "cell_type": "code",
   "execution_count": 142,
   "metadata": {},
   "outputs": [
    {
     "data": {
      "image/png": "[encoded data removed]",
      "text/plain": [
       "<Figure size 432x288 with 1 Axes>"
      ]
     },
     "metadata": {
      "needs_background": "light"
     },
     "output_type": "display_data"
    }
   ],
   "source": [
    "plt.figure()\n",
    "lag_plot(data['Deaths'], lag=3)\n",
    "plt.show()"
   ]
  },
  {
   "cell_type": "code",
   "execution_count": 143,
   "metadata": {},
   "outputs": [
    {
     "data": {
      "image/png": "[encoded data removed]",
      "text/plain": [
       "<Figure size 432x288 with 1 Axes>"
      ]
     },
     "metadata": {
      "needs_background": "light"
     },
     "output_type": "display_data"
    }
   ],
   "source": [
    "plt.plot(data['Date'], data['Deaths'])\n",
    "plt.xticks(np.arange(0,len(data), len(data)//4), data['Date'][0:len(data):len(data)//4])\n",
    "plt.show()"
   ]
  },
  {
   "cell_type": "code",
   "execution_count": 144,
   "metadata": {},
   "outputs": [],
   "source": [
    "training_data = training_data['Deaths'].values\n",
    "test_data = test_data['Deaths'].values"
   ]
  },
  {
   "cell_type": "code",
   "execution_count": 145,
   "metadata": {},
   "outputs": [],
   "source": [
    "history = [x for x in training_data]\n",
    "model_predictions = []\n",
    "N_test = 26"
   ]
  },
  {
   "cell_type": "code",
   "execution_count": 146,
   "metadata": {},
   "outputs": [
    {
     "data": {
      "text/plain": [
       "142"
      ]
     },
     "execution_count": 146,
     "metadata": {},
     "output_type": "execute_result"
    }
   ],
   "source": [
    "len(history)"
   ]
  },
  {
   "cell_type": "code",
   "execution_count": 147,
   "metadata": {},
   "outputs": [
    {
     "name": "stderr",
     "output_type": "stream",
     "text": [
      "/Users/jackzhao/Documents/UCLA/F20/CS 145/COVID19-Prediction/venv/lib/python3.8/site-packages/statsmodels/tsa/arima_model.py:472: FutureWarning: \n",
      "statsmodels.tsa.arima_model.ARMA and statsmodels.tsa.arima_model.ARIMA have\n",
      "been deprecated in favor of statsmodels.tsa.arima.model.ARIMA (note the .\n",
      "between arima and model) and\n",
      "statsmodels.tsa.SARIMAX. These will be removed after the 0.12 release.\n",
      "\n",
      "statsmodels.tsa.arima.model.ARIMA makes use of the statespace framework and\n",
      "is both well tested and maintained.\n",
      "\n",
      "To silence this warning and continue using ARMA and ARIMA until they are\n",
      "removed, use:\n",
      "\n",
      "import warnings\n",
      "warnings.filterwarnings('ignore', 'statsmodels.tsa.arima_model.ARMA',\n",
      "                        FutureWarning)\n",
      "warnings.filterwarnings('ignore', 'statsmodels.tsa.arima_model.ARIMA',\n",
      "                        FutureWarning)\n",
      "\n",
      "  warnings.warn(ARIMA_DEPRECATION_WARN, FutureWarning)\n"
     ]
    }
   ],
   "source": [
    "history = [x for x in training_data]\n",
    "model_predictions = []\n",
    "N_test = 26\n",
    "for time in range(N_test):\n",
    "    model = ARIMA(history, order=(4,1,0))\n",
    "    model_fit = model.fit(disp=0)\n",
    "    output = model_fit.forecast()\n",
    "    yhat = output[0]\n",
    "    model_predictions.append(yhat)\n",
    "    true_test_value = yhat\n",
    "    history.append(true_test_value)\n",
    "M = []\n",
    "for m in model_predictions:\n",
    "    M.append(m.tolist()[0])"
   ]
  },
  {
   "cell_type": "code",
   "execution_count": 148,
   "metadata": {},
   "outputs": [
    {
     "name": "stdout",
     "output_type": "stream",
     "text": [
      "[array([810.07028495]), array([821.76062343]), array([832.88795666]), array([843.91642925]), array([854.43144775]), array([864.43084478]), array([874.14585885]), array([883.5635177]), array([892.64133042]), array([901.44291869]), array([910.00883403]), array([918.33889729]), array([926.45136849]), array([934.37302613]), array([942.11776979]), array([949.6973114]), array([957.12710812]), array([964.42034609]), array([971.58743724]), array([978.63882695]), array([985.58451025]), array([992.43315355]), array([999.19266824]), array([1005.8705221]), array([1012.47350983]), array([1019.00778588])]\n",
      "[810.070284954664, 821.7606234257258, 832.887956657318, 843.9164292521415, 854.4314477500376, 864.4308447794972, 874.1458588514789, 883.5635177005516, 892.6413304246214, 901.4429186920987, 910.0088340266484, 918.3388972896056, 926.451368487327, 934.3730261283785, 942.1177697949562, 949.6973113979014, 957.1271081207931, 964.420346094547, 971.5874372431233, 978.6388269515961, 985.5845102483115, 992.4331535502724, 999.192668239356, 1005.8705221024759, 1012.4735098264841, 1019.0077858768233]\n"
     ]
    }
   ],
   "source": [
    "print(model_predictions)\n",
    "print(M)"
   ]
  },
  {
   "cell_type": "code",
   "execution_count": 149,
   "metadata": {},
   "outputs": [
    {
     "data": {
      "image/png": "[encoded data removed]",
      "text/plain": [
       "<Figure size 1080x360 with 1 Axes>"
      ]
     },
     "metadata": {
      "needs_background": "light"
     },
     "output_type": "display_data"
    }
   ],
   "source": [
    "num_state_train = training_data.shape[0]\n",
    "forecast_range = np.arange(num_state_train, num_state_train+26)\n",
    "\n",
    "plt.figure(figsize=(15, 5))\n",
    "plt.plot(training_data)\n",
    "plt.plot(forecast_range, M)\n",
    "plt.show()"
   ]
  },
  {
   "cell_type": "code",
   "execution_count": null,
   "metadata": {},
   "outputs": [],
   "source": []
  }
 ],
 "metadata": {
  "kernelspec": {
   "display_name": "Python 3",
   "language": "python",
   "name": "python3"
  },
  "language_info": {
   "codemirror_mode": {
    "name": "ipython",
    "version": 3
   },
   "file_extension": ".py",
   "mimetype": "text/x-python",
   "name": "python",
   "nbconvert_exporter": "python",
   "pygments_lexer": "ipython3",
   "version": "3.8.3"
  }
 },
 "nbformat": 4,
 "nbformat_minor": 4
}
