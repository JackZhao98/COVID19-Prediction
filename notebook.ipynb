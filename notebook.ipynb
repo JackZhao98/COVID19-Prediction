{
 "cells": [
  {
   "cell_type": "code",
   "execution_count": 2,
   "metadata": {},
   "outputs": [],
   "source": [
    "import math\n",
    "import matplotlib.pyplot as plt\n",
    "from collections import Counter\n",
    "from sklearn import metrics\n",
    "from sklearn.tree import DecisionTreeClassifier\n",
    "from sklearn.neighbors import KNeighborsClassifier\n",
    "from sklearn.model_selection import cross_val_score\n",
    "from sklearn.model_selection import StratifiedShuffleSplit\n",
    "from sklearn.preprocessing import StandardScaler\n",
    "import numpy as np # linear algebra\n",
    "import pandas as pd # data processing, CSV file I/O (e.g. pd.read_csv)\n",
    "import os"
   ]
  },
  {
   "cell_type": "code",
   "execution_count": 3,
   "metadata": {},
   "outputs": [
    {
     "name": "stdout",
     "output_type": "stream",
     "text": [
      "./data/test.csv\n",
      "./data/graph.csv\n",
      "./data/submission.csv\n",
      "./data/train.csv\n"
     ]
    }
   ],
   "source": [
    "for dirname, _, filenames in os.walk('./data'):\n",
    "    for filename in filenames:\n",
    "        print(os.path.join(dirname, filename))"
   ]
  },
  {
   "cell_type": "markdown",
   "metadata": {},
   "source": [
    "**Change the `data_dir` to the correct data set parent directory**"
   ]
  },
  {
   "cell_type": "code",
   "execution_count": 4,
   "metadata": {},
   "outputs": [],
   "source": [
    "data_dir = \"data\""
   ]
  },
  {
   "cell_type": "code",
   "execution_count": 5,
   "metadata": {},
   "outputs": [],
   "source": [
    "train_data_path = os.path.join(data_dir, \"train.csv\")\n",
    "test_data_path  = os.path.join(data_dir, \"test.csv\")\n",
    "graph_data_path = os.path.join(data_dir, \"graph.csv\")"
   ]
  },
  {
   "cell_type": "markdown",
   "metadata": {},
   "source": [
    "**Load data sheets to `pandas.DataFrame()`**"
   ]
  },
  {
   "cell_type": "code",
   "execution_count": 6,
   "metadata": {},
   "outputs": [
    {
     "data": {
      "text/html": [
       "<div>\n",
       "<style scoped>\n",
       "    .dataframe tbody tr th:only-of-type {\n",
       "        vertical-align: middle;\n",
       "    }\n",
       "\n",
       "    .dataframe tbody tr th {\n",
       "        vertical-align: top;\n",
       "    }\n",
       "\n",
       "    .dataframe thead th {\n",
       "        text-align: right;\n",
       "    }\n",
       "</style>\n",
       "<table border=\"1\" class=\"dataframe\">\n",
       "  <thead>\n",
       "    <tr style=\"text-align: right;\">\n",
       "      <th></th>\n",
       "      <th>ID</th>\n",
       "      <th>Confirmed</th>\n",
       "      <th>Deaths</th>\n",
       "      <th>Recovered</th>\n",
       "      <th>Active</th>\n",
       "      <th>Incident_Rate</th>\n",
       "      <th>People_Tested</th>\n",
       "      <th>People_Hospitalized</th>\n",
       "      <th>Mortality_Rate</th>\n",
       "      <th>Testing_Rate</th>\n",
       "      <th>Hospitalization_Rate</th>\n",
       "    </tr>\n",
       "  </thead>\n",
       "  <tbody>\n",
       "    <tr>\n",
       "      <th>count</th>\n",
       "      <td>7100.000000</td>\n",
       "      <td>7100.000000</td>\n",
       "      <td>7100.000000</td>\n",
       "      <td>5771.000000</td>\n",
       "      <td>7100.000000</td>\n",
       "      <td>7100.000000</td>\n",
       "      <td>7.100000e+03</td>\n",
       "      <td>5047.000000</td>\n",
       "      <td>7100.000000</td>\n",
       "      <td>7100.000000</td>\n",
       "      <td>5047.000000</td>\n",
       "    </tr>\n",
       "    <tr>\n",
       "      <th>mean</th>\n",
       "      <td>3549.500000</td>\n",
       "      <td>56374.339577</td>\n",
       "      <td>2323.883099</td>\n",
       "      <td>20422.274649</td>\n",
       "      <td>37635.120986</td>\n",
       "      <td>747.273790</td>\n",
       "      <td>6.427069e+05</td>\n",
       "      <td>6250.044185</td>\n",
       "      <td>3.653231</td>\n",
       "      <td>9666.099116</td>\n",
       "      <td>12.197144</td>\n",
       "    </tr>\n",
       "    <tr>\n",
       "      <th>std</th>\n",
       "      <td>2049.737788</td>\n",
       "      <td>95058.665054</td>\n",
       "      <td>4742.274729</td>\n",
       "      <td>39262.213465</td>\n",
       "      <td>79067.101832</td>\n",
       "      <td>637.397470</td>\n",
       "      <td>1.127555e+06</td>\n",
       "      <td>13880.694435</td>\n",
       "      <td>2.074042</td>\n",
       "      <td>7779.560336</td>\n",
       "      <td>5.255183</td>\n",
       "    </tr>\n",
       "    <tr>\n",
       "      <th>min</th>\n",
       "      <td>0.000000</td>\n",
       "      <td>270.000000</td>\n",
       "      <td>0.000000</td>\n",
       "      <td>0.000000</td>\n",
       "      <td>-989.000000</td>\n",
       "      <td>32.771004</td>\n",
       "      <td>5.459000e+03</td>\n",
       "      <td>10.000000</td>\n",
       "      <td>0.000000</td>\n",
       "      <td>460.300152</td>\n",
       "      <td>2.302896</td>\n",
       "    </tr>\n",
       "    <tr>\n",
       "      <th>25%</th>\n",
       "      <td>1774.750000</td>\n",
       "      <td>6097.500000</td>\n",
       "      <td>153.000000</td>\n",
       "      <td>1614.500000</td>\n",
       "      <td>2849.000000</td>\n",
       "      <td>224.815702</td>\n",
       "      <td>1.000775e+05</td>\n",
       "      <td>595.000000</td>\n",
       "      <td>1.928925</td>\n",
       "      <td>3379.288445</td>\n",
       "      <td>8.387037</td>\n",
       "    </tr>\n",
       "    <tr>\n",
       "      <th>50%</th>\n",
       "      <td>3549.500000</td>\n",
       "      <td>22892.000000</td>\n",
       "      <td>681.000000</td>\n",
       "      <td>5881.000000</td>\n",
       "      <td>10409.000000</td>\n",
       "      <td>540.836745</td>\n",
       "      <td>2.643235e+05</td>\n",
       "      <td>2068.000000</td>\n",
       "      <td>3.362027</td>\n",
       "      <td>7842.820591</td>\n",
       "      <td>11.351161</td>\n",
       "    </tr>\n",
       "    <tr>\n",
       "      <th>75%</th>\n",
       "      <td>5324.250000</td>\n",
       "      <td>62959.250000</td>\n",
       "      <td>2334.000000</td>\n",
       "      <td>26103.000000</td>\n",
       "      <td>32106.500000</td>\n",
       "      <td>1126.282666</td>\n",
       "      <td>7.048395e+05</td>\n",
       "      <td>6134.500000</td>\n",
       "      <td>4.797564</td>\n",
       "      <td>14127.521137</td>\n",
       "      <td>15.396088</td>\n",
       "    </tr>\n",
       "    <tr>\n",
       "      <th>max</th>\n",
       "      <td>7099.000000</td>\n",
       "      <td>712475.000000</td>\n",
       "      <td>32957.000000</td>\n",
       "      <td>507499.000000</td>\n",
       "      <td>699453.000000</td>\n",
       "      <td>3187.773001</td>\n",
       "      <td>1.137330e+07</td>\n",
       "      <td>89995.000000</td>\n",
       "      <td>9.741481</td>\n",
       "      <td>49502.860687</td>\n",
       "      <td>38.501190</td>\n",
       "    </tr>\n",
       "  </tbody>\n",
       "</table>\n",
       "</div>"
      ],
      "text/plain": [
       "                ID      Confirmed        Deaths      Recovered         Active  \\\n",
       "count  7100.000000    7100.000000   7100.000000    5771.000000    7100.000000   \n",
       "mean   3549.500000   56374.339577   2323.883099   20422.274649   37635.120986   \n",
       "std    2049.737788   95058.665054   4742.274729   39262.213465   79067.101832   \n",
       "min       0.000000     270.000000      0.000000       0.000000    -989.000000   \n",
       "25%    1774.750000    6097.500000    153.000000    1614.500000    2849.000000   \n",
       "50%    3549.500000   22892.000000    681.000000    5881.000000   10409.000000   \n",
       "75%    5324.250000   62959.250000   2334.000000   26103.000000   32106.500000   \n",
       "max    7099.000000  712475.000000  32957.000000  507499.000000  699453.000000   \n",
       "\n",
       "       Incident_Rate  People_Tested  People_Hospitalized  Mortality_Rate  \\\n",
       "count    7100.000000   7.100000e+03          5047.000000     7100.000000   \n",
       "mean      747.273790   6.427069e+05          6250.044185        3.653231   \n",
       "std       637.397470   1.127555e+06         13880.694435        2.074042   \n",
       "min        32.771004   5.459000e+03            10.000000        0.000000   \n",
       "25%       224.815702   1.000775e+05           595.000000        1.928925   \n",
       "50%       540.836745   2.643235e+05          2068.000000        3.362027   \n",
       "75%      1126.282666   7.048395e+05          6134.500000        4.797564   \n",
       "max      3187.773001   1.137330e+07         89995.000000        9.741481   \n",
       "\n",
       "       Testing_Rate  Hospitalization_Rate  \n",
       "count   7100.000000           5047.000000  \n",
       "mean    9666.099116             12.197144  \n",
       "std     7779.560336              5.255183  \n",
       "min      460.300152              2.302896  \n",
       "25%     3379.288445              8.387037  \n",
       "50%     7842.820591             11.351161  \n",
       "75%    14127.521137             15.396088  \n",
       "max    49502.860687             38.501190  "
      ]
     },
     "execution_count": 6,
     "metadata": {},
     "output_type": "execute_result"
    }
   ],
   "source": [
    "train_data = pd.read_csv(train_data_path)\n",
    "train_data.describe()"
   ]
  },
  {
   "cell_type": "markdown",
   "metadata": {},
   "source": [
    "## Now let's visualize some <br>S.H.I.T. (Scatterplots and Histograms that Interpret the Trend)"
   ]
  },
  {
   "cell_type": "code",
   "execution_count": 7,
   "metadata": {},
   "outputs": [],
   "source": [
    "# First, we will get the total confirmed/deaths of each state\n",
    "states = list(np.unique(train_data['Province_State']))\n",
    "collected = ['Confirmed', 'Deaths', 'People_Tested']\n",
    "states_data = dict.fromkeys(states, None)\n",
    "\n",
    "for s in states:\n",
    "    df_filter = train_data['Province_State'] == s\n",
    "    state_df = train_data[df_filter]\n",
    "    states_data[s] = state_df.drop(['Date','ID', 'Province_State', 'Recovered', 'People_Hospitalized', 'Hospitalization_Rate'], 1)\n",
    "    save_columns = states_data[s].columns\n",
    "    scaler = StandardScaler()\n",
    "    states_data[s] = scaler.fit_transform(states_data[s])\n",
    "    states_data[s] = pd.DataFrame(states_data[s], columns=save_columns)"
   ]
  },
  {
   "cell_type": "code",
   "execution_count": 8,
   "metadata": {},
   "outputs": [
    {
     "data": {
      "text/html": [
       "<div>\n",
       "<style scoped>\n",
       "    .dataframe tbody tr th:only-of-type {\n",
       "        vertical-align: middle;\n",
       "    }\n",
       "\n",
       "    .dataframe tbody tr th {\n",
       "        vertical-align: top;\n",
       "    }\n",
       "\n",
       "    .dataframe thead th {\n",
       "        text-align: right;\n",
       "    }\n",
       "</style>\n",
       "<table border=\"1\" class=\"dataframe\">\n",
       "  <thead>\n",
       "    <tr style=\"text-align: right;\">\n",
       "      <th></th>\n",
       "      <th>Confirmed</th>\n",
       "      <th>Deaths</th>\n",
       "      <th>Active</th>\n",
       "      <th>Incident_Rate</th>\n",
       "      <th>People_Tested</th>\n",
       "      <th>Mortality_Rate</th>\n",
       "      <th>Testing_Rate</th>\n",
       "    </tr>\n",
       "  </thead>\n",
       "  <tbody>\n",
       "    <tr>\n",
       "      <th>0</th>\n",
       "      <td>-1.126524</td>\n",
       "      <td>-1.568092</td>\n",
       "      <td>-1.119196</td>\n",
       "      <td>-1.126505</td>\n",
       "      <td>-1.202747</td>\n",
       "      <td>-0.105361</td>\n",
       "      <td>-1.202976</td>\n",
       "    </tr>\n",
       "    <tr>\n",
       "      <th>1</th>\n",
       "      <td>-1.121363</td>\n",
       "      <td>-1.546680</td>\n",
       "      <td>-1.114295</td>\n",
       "      <td>-1.121302</td>\n",
       "      <td>-1.202588</td>\n",
       "      <td>0.089968</td>\n",
       "      <td>-1.202815</td>\n",
       "    </tr>\n",
       "    <tr>\n",
       "      <th>2</th>\n",
       "      <td>-1.114888</td>\n",
       "      <td>-1.531345</td>\n",
       "      <td>-1.107963</td>\n",
       "      <td>-1.114775</td>\n",
       "      <td>-1.199327</td>\n",
       "      <td>0.135665</td>\n",
       "      <td>-1.199528</td>\n",
       "    </tr>\n",
       "    <tr>\n",
       "      <th>3</th>\n",
       "      <td>-1.108845</td>\n",
       "      <td>-1.504436</td>\n",
       "      <td>-1.102255</td>\n",
       "      <td>-1.108683</td>\n",
       "      <td>-1.195215</td>\n",
       "      <td>0.355231</td>\n",
       "      <td>-1.195384</td>\n",
       "    </tr>\n",
       "    <tr>\n",
       "      <th>4</th>\n",
       "      <td>-1.104343</td>\n",
       "      <td>-1.476658</td>\n",
       "      <td>-1.098125</td>\n",
       "      <td>-1.104144</td>\n",
       "      <td>-1.186602</td>\n",
       "      <td>0.612357</td>\n",
       "      <td>-1.186701</td>\n",
       "    </tr>\n",
       "    <tr>\n",
       "      <th>...</th>\n",
       "      <td>...</td>\n",
       "      <td>...</td>\n",
       "      <td>...</td>\n",
       "      <td>...</td>\n",
       "      <td>...</td>\n",
       "      <td>...</td>\n",
       "      <td>...</td>\n",
       "    </tr>\n",
       "    <tr>\n",
       "      <th>137</th>\n",
       "      <td>1.913187</td>\n",
       "      <td>1.914783</td>\n",
       "      <td>1.912677</td>\n",
       "      <td>1.913521</td>\n",
       "      <td>1.886294</td>\n",
       "      <td>-1.194190</td>\n",
       "      <td>1.886579</td>\n",
       "    </tr>\n",
       "    <tr>\n",
       "      <th>138</th>\n",
       "      <td>1.938467</td>\n",
       "      <td>1.951820</td>\n",
       "      <td>1.937763</td>\n",
       "      <td>1.938811</td>\n",
       "      <td>1.912848</td>\n",
       "      <td>-1.190039</td>\n",
       "      <td>1.913141</td>\n",
       "    </tr>\n",
       "    <tr>\n",
       "      <th>139</th>\n",
       "      <td>1.959608</td>\n",
       "      <td>1.977572</td>\n",
       "      <td>1.958825</td>\n",
       "      <td>1.959959</td>\n",
       "      <td>1.941352</td>\n",
       "      <td>-1.189475</td>\n",
       "      <td>1.941654</td>\n",
       "    </tr>\n",
       "    <tr>\n",
       "      <th>140</th>\n",
       "      <td>1.977387</td>\n",
       "      <td>1.990013</td>\n",
       "      <td>1.976684</td>\n",
       "      <td>1.977744</td>\n",
       "      <td>1.976538</td>\n",
       "      <td>-1.194020</td>\n",
       "      <td>1.976851</td>\n",
       "    </tr>\n",
       "    <tr>\n",
       "      <th>141</th>\n",
       "      <td>2.007029</td>\n",
       "      <td>2.014608</td>\n",
       "      <td>2.006399</td>\n",
       "      <td>2.007397</td>\n",
       "      <td>2.017275</td>\n",
       "      <td>-1.199411</td>\n",
       "      <td>2.017600</td>\n",
       "    </tr>\n",
       "  </tbody>\n",
       "</table>\n",
       "<p>142 rows × 7 columns</p>\n",
       "</div>"
      ],
      "text/plain": [
       "     Confirmed    Deaths    Active  Incident_Rate  People_Tested  \\\n",
       "0    -1.126524 -1.568092 -1.119196      -1.126505      -1.202747   \n",
       "1    -1.121363 -1.546680 -1.114295      -1.121302      -1.202588   \n",
       "2    -1.114888 -1.531345 -1.107963      -1.114775      -1.199327   \n",
       "3    -1.108845 -1.504436 -1.102255      -1.108683      -1.195215   \n",
       "4    -1.104343 -1.476658 -1.098125      -1.104144      -1.186602   \n",
       "..         ...       ...       ...            ...            ...   \n",
       "137   1.913187  1.914783  1.912677       1.913521       1.886294   \n",
       "138   1.938467  1.951820  1.937763       1.938811       1.912848   \n",
       "139   1.959608  1.977572  1.958825       1.959959       1.941352   \n",
       "140   1.977387  1.990013  1.976684       1.977744       1.976538   \n",
       "141   2.007029  2.014608  2.006399       2.007397       2.017275   \n",
       "\n",
       "     Mortality_Rate  Testing_Rate  \n",
       "0         -0.105361     -1.202976  \n",
       "1          0.089968     -1.202815  \n",
       "2          0.135665     -1.199528  \n",
       "3          0.355231     -1.195384  \n",
       "4          0.612357     -1.186701  \n",
       "..              ...           ...  \n",
       "137       -1.194190      1.886579  \n",
       "138       -1.190039      1.913141  \n",
       "139       -1.189475      1.941654  \n",
       "140       -1.194020      1.976851  \n",
       "141       -1.199411      2.017600  \n",
       "\n",
       "[142 rows x 7 columns]"
      ]
     },
     "execution_count": 8,
     "metadata": {},
     "output_type": "execute_result"
    }
   ],
   "source": [
    "states_data['California']"
   ]
  },
  {
   "cell_type": "code",
   "execution_count": 9,
   "metadata": {},
   "outputs": [
    {
     "data": {
      "text/plain": [
       "<matplotlib.legend.Legend at 0x7fec387d0470>"
      ]
     },
     "execution_count": 9,
     "metadata": {},
     "output_type": "execute_result"
    },
    {
     "data": {
      "image/png": "[encoded data removed]",
      "text/plain": [
       "<Figure size 1080x360 with 2 Axes>"
      ]
     },
     "metadata": {
      "needs_background": "light"
     },
     "output_type": "display_data"
    }
   ],
   "source": [
    "plt.figure(figsize=(15, 5))\n",
    "plt.subplot(1,2,1)\n",
    "plt.yscale('linear')\n",
    "plt.plot(states_data['California'].Confirmed.values, color='red', label='Comfirmed')\n",
    "plt.legend(loc='best')\n",
    "plt.subplot(1,2,2)\n",
    "plt.plot(states_data['California'].Deaths.values, color='blue', label='Deaths')\n",
    "plt.legend(loc='best')\n"
   ]
  },
  {
   "cell_type": "markdown",
   "metadata": {},
   "source": [
    "## Create Cross-validation Datasets"
   ]
  },
  {
   "cell_type": "code",
   "execution_count": 10,
   "metadata": {},
   "outputs": [
    {
     "data": {
      "text/plain": [
       "<matplotlib.legend.Legend at 0x7fec38cefe10>"
      ]
     },
     "execution_count": 10,
     "metadata": {},
     "output_type": "execute_result"
    },
    {
     "data": {
      "image/png": "[encoded data removed]",
      "text/plain": [
       "<Figure size 1080x360 with 2 Axes>"
      ]
     },
     "metadata": {
      "needs_background": "light"
     },
     "output_type": "display_data"
    }
   ],
   "source": [
    "test_percentage = 0.9\n",
    "validate_percentage = 0.1\n",
    "state_train_data = {}\n",
    "state_validate_data = {}\n",
    "\n",
    "for state in states_data.keys():\n",
    "    state_data_size = states_data[state].shape\n",
    "    state_test_size = math.floor(state_data_size[0]*test_percentage)\n",
    "    state_train_data[state] = states_data[state][:state_test_size]\n",
    "    state_validate_data[state] = states_data[state][state_test_size:]\n",
    "\n",
    "plt.figure(figsize=(15, 5))\n",
    "plt.subplot(1,2,1)\n",
    "plt.yscale('linear')\n",
    "plt.plot(state_train_data['California'].Confirmed.values, color='red', label='Train: Comfirmed')\n",
    "plt.plot(np.arange(state_train_data['California'].shape[0], state_train_data['California'].shape[0]+state_validate_data['California'].shape[0]), state_validate_data['California'].Confirmed.values, color='blue', label='Validate: Comfirmed')\n",
    "plt.legend(loc='best')\n",
    "plt.subplot(1,2,2)\n",
    "plt.plot(states_data['California'].Deaths.values, color='blue', label='Train: Deaths')\n",
    "plt.plot(np.arange(state_train_data['California'].shape[0], state_train_data['California'].shape[0]+state_validate_data['California'].shape[0]), state_validate_data['California'].Deaths.values, color='red', label='Validate: Deaths')\n",
    "plt.legend(loc='best')"
   ]
  },
  {
   "cell_type": "markdown",
   "metadata": {},
   "source": [
    "## Train a RNN Model with LSTM"
   ]
  },
  {
   "cell_type": "code",
   "execution_count": 37,
   "metadata": {},
   "outputs": [],
   "source": [
    "import tensorflow as tf\n",
    "from tensorflow import keras\n",
    "from tensorflow.keras import layers\n",
    "from tensorflow.keras import Sequential\n",
    "from tensorflow.keras.layers import Dense, LSTM, Dropout\n",
    "\n",
    "# test model for CA\n",
    "data_training = np.array(state_train_data['California'])\n",
    "\n",
    "X_train = []\n",
    "y_train = []\n",
    "\n",
    "# window size 14\n",
    "window_size = 14\n",
    "\n",
    "for i in range(window_size, data_training.shape[0]):\n",
    "    X_train.append(data_training[i-window_size:i])\n",
    "    y_train.append(data_training[i, 0])\n",
    "    \n",
    "X_train, y_train = np.array(X_train), np.array(y_train)"
   ]
  },
  {
   "cell_type": "code",
   "execution_count": 38,
   "metadata": {},
   "outputs": [
    {
     "name": "stdout",
     "output_type": "stream",
     "text": [
      "Model: \"sequential_3\"\n",
      "_________________________________________________________________\n",
      "Layer (type)                 Output Shape              Param #   \n",
      "=================================================================\n",
      "lstm_12 (LSTM)               (None, 14, 60)            16320     \n",
      "_________________________________________________________________\n",
      "dropout_12 (Dropout)         (None, 14, 60)            0         \n",
      "_________________________________________________________________\n",
      "lstm_13 (LSTM)               (None, 14, 80)            45120     \n",
      "_________________________________________________________________\n",
      "dropout_13 (Dropout)         (None, 14, 80)            0         \n",
      "_________________________________________________________________\n",
      "lstm_14 (LSTM)               (None, 14, 120)           96480     \n",
      "_________________________________________________________________\n",
      "dropout_14 (Dropout)         (None, 14, 120)           0         \n",
      "_________________________________________________________________\n",
      "lstm_15 (LSTM)               (None, 200)               256800    \n",
      "_________________________________________________________________\n",
      "dropout_15 (Dropout)         (None, 200)               0         \n",
      "_________________________________________________________________\n",
      "dense_3 (Dense)              (None, 1)                 201       \n",
      "=================================================================\n",
      "Total params: 414,921\n",
      "Trainable params: 414,921\n",
      "Non-trainable params: 0\n",
      "_________________________________________________________________\n"
     ]
    }
   ],
   "source": [
    "model = keras.Sequential()\n",
    "\n",
    "model.add(LSTM(units = 60, activation = 'relu', return_sequences = True, input_shape = (X_train.shape[1], 7)))\n",
    "model.add(Dropout(0.2))\n",
    "\n",
    "model.add(LSTM(units = 80, activation = 'relu', return_sequences = True))\n",
    "model.add(Dropout(0.2))\n",
    "\n",
    "model.add(LSTM(units = 120, activation = 'relu', return_sequences = True))\n",
    "model.add(Dropout(0.2))\n",
    "\n",
    "model.add(LSTM(units = 200, activation = 'relu'))\n",
    "model.add(Dropout(0.2))\n",
    "\n",
    "model.add(Dense(units = 1))\n",
    "\n",
    "model.summary()"
   ]
  },
  {
   "cell_type": "code",
   "execution_count": 39,
   "metadata": {},
   "outputs": [
    {
     "name": "stdout",
     "output_type": "stream",
     "text": [
      "Train on 113 samples\n",
      "Epoch 1/100\n",
      "113/113 [==============================] - 13s 113ms/sample - loss: 0.6341\n",
      "Epoch 2/100\n",
      "113/113 [==============================] - 1s 7ms/sample - loss: 0.4541\n",
      "Epoch 3/100\n",
      "113/113 [==============================] - 1s 7ms/sample - loss: 0.1588\n",
      "Epoch 4/100\n",
      "113/113 [==============================] - 1s 6ms/sample - loss: 0.1568\n",
      "Epoch 5/100\n",
      "113/113 [==============================] - 1s 6ms/sample - loss: 0.0945\n",
      "Epoch 6/100\n",
      "113/113 [==============================] - 1s 6ms/sample - loss: 0.1281\n",
      "Epoch 7/100\n",
      "113/113 [==============================] - 1s 7ms/sample - loss: 0.1188\n",
      "Epoch 8/100\n",
      "113/113 [==============================] - 1s 6ms/sample - loss: 0.0668\n",
      "Epoch 9/100\n",
      "113/113 [==============================] - 1s 6ms/sample - loss: 0.0227\n",
      "Epoch 10/100\n",
      "113/113 [==============================] - 1s 6ms/sample - loss: 0.0304\n",
      "Epoch 11/100\n",
      "113/113 [==============================] - 1s 6ms/sample - loss: 0.0235\n",
      "Epoch 12/100\n",
      "113/113 [==============================] - 1s 6ms/sample - loss: 0.0122\n",
      "Epoch 13/100\n",
      "113/113 [==============================] - 1s 6ms/sample - loss: 0.0208\n",
      "Epoch 14/100\n",
      "113/113 [==============================] - 1s 6ms/sample - loss: 0.0129\n",
      "Epoch 15/100\n",
      "113/113 [==============================] - 1s 7ms/sample - loss: 0.0097\n",
      "Epoch 16/100\n",
      "113/113 [==============================] - 1s 6ms/sample - loss: 0.0126\n",
      "Epoch 17/100\n",
      "113/113 [==============================] - 1s 6ms/sample - loss: 0.0096\n",
      "Epoch 18/100\n",
      "113/113 [==============================] - 1s 6ms/sample - loss: 0.0078\n",
      "Epoch 19/100\n",
      "113/113 [==============================] - 1s 6ms/sample - loss: 0.0109\n",
      "Epoch 20/100\n",
      "113/113 [==============================] - 1s 6ms/sample - loss: 0.0071\n",
      "Epoch 21/100\n",
      "113/113 [==============================] - 1s 6ms/sample - loss: 0.0084\n",
      "Epoch 22/100\n",
      "113/113 [==============================] - 1s 6ms/sample - loss: 0.0077\n",
      "Epoch 23/100\n",
      "113/113 [==============================] - 1s 6ms/sample - loss: 0.0102\n",
      "Epoch 24/100\n",
      "113/113 [==============================] - 1s 6ms/sample - loss: 0.0092\n",
      "Epoch 25/100\n",
      "113/113 [==============================] - 1s 6ms/sample - loss: 0.0089\n",
      "Epoch 26/100\n",
      "113/113 [==============================] - 1s 6ms/sample - loss: 0.0084\n",
      "Epoch 27/100\n",
      "113/113 [==============================] - 1s 6ms/sample - loss: 0.0050\n",
      "Epoch 28/100\n",
      "113/113 [==============================] - 1s 6ms/sample - loss: 0.0065\n",
      "Epoch 29/100\n",
      "113/113 [==============================] - 1s 6ms/sample - loss: 0.0062\n",
      "Epoch 30/100\n",
      "113/113 [==============================] - 1s 6ms/sample - loss: 0.0098\n",
      "Epoch 31/100\n",
      "113/113 [==============================] - 1s 6ms/sample - loss: 0.0081\n",
      "Epoch 32/100\n",
      "113/113 [==============================] - 1s 6ms/sample - loss: 0.0073\n",
      "Epoch 33/100\n",
      "113/113 [==============================] - 1s 6ms/sample - loss: 0.0071\n",
      "Epoch 34/100\n",
      "113/113 [==============================] - 1s 6ms/sample - loss: 0.0064\n",
      "Epoch 35/100\n",
      "113/113 [==============================] - 1s 6ms/sample - loss: 0.0061\n",
      "Epoch 36/100\n",
      "113/113 [==============================] - 1s 6ms/sample - loss: 0.0044\n",
      "Epoch 37/100\n",
      "113/113 [==============================] - 1s 6ms/sample - loss: 0.0064\n",
      "Epoch 38/100\n",
      "113/113 [==============================] - 1s 6ms/sample - loss: 0.0071\n",
      "Epoch 39/100\n",
      "113/113 [==============================] - 1s 6ms/sample - loss: 0.0056\n",
      "Epoch 40/100\n",
      "113/113 [==============================] - 1s 6ms/sample - loss: 0.0055\n",
      "Epoch 41/100\n",
      "113/113 [==============================] - 1s 6ms/sample - loss: 0.0053\n",
      "Epoch 42/100\n",
      "113/113 [==============================] - 1s 6ms/sample - loss: 0.0068\n",
      "Epoch 43/100\n",
      "113/113 [==============================] - 1s 6ms/sample - loss: 0.0071\n",
      "Epoch 44/100\n",
      "113/113 [==============================] - 1s 6ms/sample - loss: 0.0074\n",
      "Epoch 45/100\n",
      "113/113 [==============================] - 1s 6ms/sample - loss: 0.0051\n",
      "Epoch 46/100\n",
      "113/113 [==============================] - 1s 6ms/sample - loss: 0.0070\n",
      "Epoch 47/100\n",
      "113/113 [==============================] - 1s 6ms/sample - loss: 0.0051\n",
      "Epoch 48/100\n",
      "113/113 [==============================] - 1s 6ms/sample - loss: 0.0078\n",
      "Epoch 49/100\n",
      "113/113 [==============================] - 1s 6ms/sample - loss: 0.0073\n",
      "Epoch 50/100\n",
      "113/113 [==============================] - 1s 6ms/sample - loss: 0.0046\n",
      "Epoch 51/100\n",
      "113/113 [==============================] - 1s 6ms/sample - loss: 0.0057\n",
      "Epoch 52/100\n",
      "113/113 [==============================] - 1s 6ms/sample - loss: 0.0066\n",
      "Epoch 53/100\n",
      "113/113 [==============================] - 1s 6ms/sample - loss: 0.0048\n",
      "Epoch 54/100\n",
      "113/113 [==============================] - 1s 6ms/sample - loss: 0.0059\n",
      "Epoch 55/100\n",
      "113/113 [==============================] - 1s 6ms/sample - loss: 0.0058\n",
      "Epoch 56/100\n",
      "113/113 [==============================] - 1s 6ms/sample - loss: 0.0058\n",
      "Epoch 57/100\n",
      "113/113 [==============================] - 1s 6ms/sample - loss: 0.0056\n",
      "Epoch 58/100\n",
      "113/113 [==============================] - 1s 6ms/sample - loss: 0.0049\n",
      "Epoch 59/100\n",
      "113/113 [==============================] - 1s 6ms/sample - loss: 0.0066\n",
      "Epoch 60/100\n",
      "113/113 [==============================] - 1s 6ms/sample - loss: 0.0045\n",
      "Epoch 61/100\n",
      "113/113 [==============================] - 1s 6ms/sample - loss: 0.0045\n",
      "Epoch 62/100\n",
      "113/113 [==============================] - 1s 6ms/sample - loss: 0.0074\n",
      "Epoch 63/100\n",
      "113/113 [==============================] - 1s 6ms/sample - loss: 0.0035\n",
      "Epoch 64/100\n",
      "113/113 [==============================] - 1s 6ms/sample - loss: 0.0059\n",
      "Epoch 65/100\n",
      "113/113 [==============================] - 1s 6ms/sample - loss: 0.0040\n",
      "Epoch 66/100\n",
      "113/113 [==============================] - 1s 6ms/sample - loss: 0.0063\n",
      "Epoch 67/100\n",
      "113/113 [==============================] - 1s 6ms/sample - loss: 0.0062\n",
      "Epoch 68/100\n",
      "113/113 [==============================] - 1s 6ms/sample - loss: 0.0064\n",
      "Epoch 69/100\n",
      "113/113 [==============================] - 1s 6ms/sample - loss: 0.0053\n",
      "Epoch 70/100\n",
      "113/113 [==============================] - 1s 6ms/sample - loss: 0.0057\n",
      "Epoch 71/100\n",
      "113/113 [==============================] - 1s 7ms/sample - loss: 0.0061\n",
      "Epoch 72/100\n",
      "113/113 [==============================] - 1s 10ms/sample - loss: 0.0071\n",
      "Epoch 73/100\n",
      "113/113 [==============================] - 1s 12ms/sample - loss: 0.0052\n",
      "Epoch 74/100\n",
      "113/113 [==============================] - 1s 9ms/sample - loss: 0.0069\n",
      "Epoch 75/100\n",
      "113/113 [==============================] - 1s 9ms/sample - loss: 0.0061\n",
      "Epoch 76/100\n",
      "113/113 [==============================] - 1s 8ms/sample - loss: 0.0078\n",
      "Epoch 77/100\n",
      "113/113 [==============================] - 1s 8ms/sample - loss: 0.0062\n",
      "Epoch 78/100\n",
      "113/113 [==============================] - 1s 7ms/sample - loss: 0.0074\n",
      "Epoch 79/100\n",
      "113/113 [==============================] - 1s 6ms/sample - loss: 0.0060\n",
      "Epoch 80/100\n",
      "113/113 [==============================] - 1s 6ms/sample - loss: 0.0064\n",
      "Epoch 81/100\n",
      "113/113 [==============================] - 1s 7ms/sample - loss: 0.0061\n",
      "Epoch 82/100\n",
      "113/113 [==============================] - 1s 7ms/sample - loss: 0.0067\n",
      "Epoch 83/100\n",
      "113/113 [==============================] - 1s 7ms/sample - loss: 0.0073\n",
      "Epoch 84/100\n",
      "113/113 [==============================] - 1s 6ms/sample - loss: 0.0045\n",
      "Epoch 85/100\n",
      "113/113 [==============================] - 1s 7ms/sample - loss: 0.0055\n",
      "Epoch 86/100\n",
      "113/113 [==============================] - 1s 7ms/sample - loss: 0.0057\n",
      "Epoch 87/100\n",
      "113/113 [==============================] - 1s 7ms/sample - loss: 0.0050\n",
      "Epoch 88/100\n",
      "113/113 [==============================] - 1s 7ms/sample - loss: 0.0039\n",
      "Epoch 89/100\n",
      "113/113 [==============================] - 1s 6ms/sample - loss: 0.0052\n",
      "Epoch 90/100\n",
      "113/113 [==============================] - 1s 6ms/sample - loss: 0.0057\n",
      "Epoch 91/100\n",
      "113/113 [==============================] - 1s 6ms/sample - loss: 0.0047\n",
      "Epoch 92/100\n",
      "113/113 [==============================] - 1s 6ms/sample - loss: 0.0053\n",
      "Epoch 93/100\n",
      "113/113 [==============================] - 1s 6ms/sample - loss: 0.0053\n",
      "Epoch 94/100\n",
      "113/113 [==============================] - 1s 6ms/sample - loss: 0.0039\n",
      "Epoch 95/100\n",
      "113/113 [==============================] - 1s 6ms/sample - loss: 0.0060\n",
      "Epoch 96/100\n",
      "113/113 [==============================] - 1s 6ms/sample - loss: 0.0052\n",
      "Epoch 97/100\n"
     ]
    },
    {
     "name": "stdout",
     "output_type": "stream",
     "text": [
      "113/113 [==============================] - 1s 6ms/sample - loss: 0.0036\n",
      "Epoch 98/100\n",
      "113/113 [==============================] - 1s 6ms/sample - loss: 0.0062\n",
      "Epoch 99/100\n",
      "113/113 [==============================] - 1s 6ms/sample - loss: 0.0064\n",
      "Epoch 100/100\n",
      "113/113 [==============================] - 1s 7ms/sample - loss: 0.0066\n"
     ]
    },
    {
     "data": {
      "text/plain": [
       "<tensorflow.python.keras.callbacks.History at 0x7fec1708b940>"
      ]
     },
     "execution_count": 39,
     "metadata": {},
     "output_type": "execute_result"
    }
   ],
   "source": [
    "model.compile(optimizer='adam', loss = 'mean_squared_error')\n",
    "model.fit(X_train, y_train, epochs=100, batch_size=32)"
   ]
  },
  {
   "cell_type": "code",
   "execution_count": 40,
   "metadata": {},
   "outputs": [],
   "source": [
    "previous_days = state_train_data['California'].tail(window_size)\n",
    "df = previous_days.append(state_validate_data['California'], ignore_index = True)"
   ]
  },
  {
   "cell_type": "code",
   "execution_count": 41,
   "metadata": {},
   "outputs": [],
   "source": [
    "inputs = np.array(df)"
   ]
  },
  {
   "cell_type": "code",
   "execution_count": 42,
   "metadata": {},
   "outputs": [],
   "source": [
    "X_test = []\n",
    "y_test = []\n",
    "\n",
    "for i in range(window_size, inputs.shape[0]):\n",
    "    X_test.append(inputs[i-window_size:i])\n",
    "    y_test.append(inputs[i,0])\n",
    "    \n",
    "X_test, y_test = np.array(X_test), np.array(y_test)"
   ]
  },
  {
   "cell_type": "code",
   "execution_count": 43,
   "metadata": {},
   "outputs": [],
   "source": [
    "y_pred = model.predict(X_test)"
   ]
  },
  {
   "cell_type": "code",
   "execution_count": 44,
   "metadata": {},
   "outputs": [],
   "source": [
    "y_result = y_pred.flatten().tolist()"
   ]
  },
  {
   "cell_type": "code",
   "execution_count": 45,
   "metadata": {},
   "outputs": [
    {
     "data": {
      "text/plain": [
       "([1.5847524404525757,\n",
       "  1.6209516525268555,\n",
       "  1.6567853689193726,\n",
       "  1.694844365119934,\n",
       "  1.7321752309799194,\n",
       "  1.771104097366333,\n",
       "  1.8102214336395264,\n",
       "  1.8508756160736084,\n",
       "  1.8886072635650635,\n",
       "  1.9268120527267456,\n",
       "  1.9623725414276123,\n",
       "  1.9977315664291382,\n",
       "  2.0293636322021484,\n",
       "  2.0615923404693604,\n",
       "  2.094287872314453],\n",
       " array([1.62964643, 1.66928836, 1.71078858, 1.73347421, 1.76361116,\n",
       "        1.78875937, 1.81077256, 1.83931021, 1.86416763, 1.89130134,\n",
       "        1.91318732, 1.93846728, 1.95960813, 1.9773868 , 2.00702851]))"
      ]
     },
     "execution_count": 45,
     "metadata": {},
     "output_type": "execute_result"
    }
   ],
   "source": [
    "y_result, y_test"
   ]
  },
  {
   "cell_type": "code",
   "execution_count": 46,
   "metadata": {},
   "outputs": [
    {
     "data": {
      "text/plain": [
       "<matplotlib.legend.Legend at 0x7febf3e16be0>"
      ]
     },
     "execution_count": 46,
     "metadata": {},
     "output_type": "execute_result"
    },
    {
     "data": {
      "image/png": "[encoded data removed]",
      "text/plain": [
       "<Figure size 1080x360 with 1 Axes>"
      ]
     },
     "metadata": {
      "needs_background": "light"
     },
     "output_type": "display_data"
    }
   ],
   "source": [
    "plt.figure(figsize=(15, 5))\n",
    "plt.subplot(1,2,1)\n",
    "plt.yscale('linear')\n",
    "plt.plot(state_train_data['California'].Confirmed.values, color='red', label='Train: Comfirmed')\n",
    "plt.plot(np.arange(state_train_data['California'].shape[0], state_train_data['California'].shape[0]+state_validate_data['California'].shape[0]), y_result, color='blue', label='Validate: Comfirmed')\n",
    "plt.legend(loc='best')"
   ]
  },
  {
   "cell_type": "code",
   "execution_count": null,
   "metadata": {},
   "outputs": [],
   "source": []
  }
 ],
 "metadata": {
  "kernelspec": {
   "display_name": "Python 3",
   "language": "python",
   "name": "python3"
  },
  "language_info": {
   "codemirror_mode": {
    "name": "ipython",
    "version": 3
   },
   "file_extension": ".py",
   "mimetype": "text/x-python",
   "name": "python",
   "nbconvert_exporter": "python",
   "pygments_lexer": "ipython3",
   "version": "3.6.12"
  }
 },
 "nbformat": 4,
 "nbformat_minor": 4
}
