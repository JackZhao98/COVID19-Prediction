{
 "cells": [
  {
   "cell_type": "code",
   "execution_count": 1,
   "metadata": {},
   "outputs": [],
   "source": [
    "import math\n",
    "import matplotlib.pyplot as plt\n",
    "from collections import Counter\n",
    "from sklearn import metrics\n",
    "from sklearn.tree import DecisionTreeClassifier\n",
    "from sklearn.neighbors import KNeighborsClassifier\n",
    "from sklearn.model_selection import cross_val_score\n",
    "from sklearn.model_selection import StratifiedShuffleSplit\n",
    "from sklearn.preprocessing import StandardScaler\n",
    "import numpy as np # linear algebra\n",
    "import pandas as pd # data processing, CSV file I/O (e.g. pd.read_csv)\n",
    "import os"
   ]
  },
  {
   "cell_type": "code",
   "execution_count": 2,
   "metadata": {},
   "outputs": [
    {
     "name": "stdout",
     "output_type": "stream",
     "text": [
      "./data/test.csv\n",
      "./data/graph.csv\n",
      "./data/submission.csv\n",
      "./data/train.csv\n"
     ]
    }
   ],
   "source": [
    "for dirname, _, filenames in os.walk('./data'):\n",
    "    for filename in filenames:\n",
    "        print(os.path.join(dirname, filename))"
   ]
  },
  {
   "cell_type": "markdown",
   "metadata": {},
   "source": [
    "**Change the `data_dir` to the correct data set parent directory**"
   ]
  },
  {
   "cell_type": "code",
   "execution_count": 3,
   "metadata": {},
   "outputs": [],
   "source": [
    "data_dir = \"data\""
   ]
  },
  {
   "cell_type": "code",
   "execution_count": 4,
   "metadata": {},
   "outputs": [],
   "source": [
    "train_data_path = os.path.join(data_dir, \"train.csv\")\n",
    "test_data_path  = os.path.join(data_dir, \"test.csv\")\n",
    "graph_data_path = os.path.join(data_dir, \"graph.csv\")"
   ]
  },
  {
   "cell_type": "markdown",
   "metadata": {},
   "source": [
    "**Load data sheets to `pandas.DataFrame()`**"
   ]
  },
  {
   "cell_type": "code",
   "execution_count": 5,
   "metadata": {},
   "outputs": [
    {
     "data": {
      "text/html": [
       "<div>\n",
       "<style scoped>\n",
       "    .dataframe tbody tr th:only-of-type {\n",
       "        vertical-align: middle;\n",
       "    }\n",
       "\n",
       "    .dataframe tbody tr th {\n",
       "        vertical-align: top;\n",
       "    }\n",
       "\n",
       "    .dataframe thead th {\n",
       "        text-align: right;\n",
       "    }\n",
       "</style>\n",
       "<table border=\"1\" class=\"dataframe\">\n",
       "  <thead>\n",
       "    <tr style=\"text-align: right;\">\n",
       "      <th></th>\n",
       "      <th>ID</th>\n",
       "      <th>Confirmed</th>\n",
       "      <th>Deaths</th>\n",
       "      <th>Recovered</th>\n",
       "      <th>Active</th>\n",
       "      <th>Incident_Rate</th>\n",
       "      <th>People_Tested</th>\n",
       "      <th>People_Hospitalized</th>\n",
       "      <th>Mortality_Rate</th>\n",
       "      <th>Testing_Rate</th>\n",
       "      <th>Hospitalization_Rate</th>\n",
       "    </tr>\n",
       "  </thead>\n",
       "  <tbody>\n",
       "    <tr>\n",
       "      <th>count</th>\n",
       "      <td>7100.000000</td>\n",
       "      <td>7100.000000</td>\n",
       "      <td>7100.000000</td>\n",
       "      <td>5771.000000</td>\n",
       "      <td>7100.000000</td>\n",
       "      <td>7100.000000</td>\n",
       "      <td>7.100000e+03</td>\n",
       "      <td>5047.000000</td>\n",
       "      <td>7100.000000</td>\n",
       "      <td>7100.000000</td>\n",
       "      <td>5047.000000</td>\n",
       "    </tr>\n",
       "    <tr>\n",
       "      <th>mean</th>\n",
       "      <td>3549.500000</td>\n",
       "      <td>56374.339577</td>\n",
       "      <td>2323.883099</td>\n",
       "      <td>20422.274649</td>\n",
       "      <td>37635.120986</td>\n",
       "      <td>747.273790</td>\n",
       "      <td>6.427069e+05</td>\n",
       "      <td>6250.044185</td>\n",
       "      <td>3.653231</td>\n",
       "      <td>9666.099116</td>\n",
       "      <td>12.197144</td>\n",
       "    </tr>\n",
       "    <tr>\n",
       "      <th>std</th>\n",
       "      <td>2049.737788</td>\n",
       "      <td>95058.665054</td>\n",
       "      <td>4742.274729</td>\n",
       "      <td>39262.213465</td>\n",
       "      <td>79067.101832</td>\n",
       "      <td>637.397470</td>\n",
       "      <td>1.127555e+06</td>\n",
       "      <td>13880.694435</td>\n",
       "      <td>2.074042</td>\n",
       "      <td>7779.560336</td>\n",
       "      <td>5.255183</td>\n",
       "    </tr>\n",
       "    <tr>\n",
       "      <th>min</th>\n",
       "      <td>0.000000</td>\n",
       "      <td>270.000000</td>\n",
       "      <td>0.000000</td>\n",
       "      <td>0.000000</td>\n",
       "      <td>-989.000000</td>\n",
       "      <td>32.771004</td>\n",
       "      <td>5.459000e+03</td>\n",
       "      <td>10.000000</td>\n",
       "      <td>0.000000</td>\n",
       "      <td>460.300152</td>\n",
       "      <td>2.302896</td>\n",
       "    </tr>\n",
       "    <tr>\n",
       "      <th>25%</th>\n",
       "      <td>1774.750000</td>\n",
       "      <td>6097.500000</td>\n",
       "      <td>153.000000</td>\n",
       "      <td>1614.500000</td>\n",
       "      <td>2849.000000</td>\n",
       "      <td>224.815702</td>\n",
       "      <td>1.000775e+05</td>\n",
       "      <td>595.000000</td>\n",
       "      <td>1.928925</td>\n",
       "      <td>3379.288445</td>\n",
       "      <td>8.387037</td>\n",
       "    </tr>\n",
       "    <tr>\n",
       "      <th>50%</th>\n",
       "      <td>3549.500000</td>\n",
       "      <td>22892.000000</td>\n",
       "      <td>681.000000</td>\n",
       "      <td>5881.000000</td>\n",
       "      <td>10409.000000</td>\n",
       "      <td>540.836745</td>\n",
       "      <td>2.643235e+05</td>\n",
       "      <td>2068.000000</td>\n",
       "      <td>3.362027</td>\n",
       "      <td>7842.820591</td>\n",
       "      <td>11.351161</td>\n",
       "    </tr>\n",
       "    <tr>\n",
       "      <th>75%</th>\n",
       "      <td>5324.250000</td>\n",
       "      <td>62959.250000</td>\n",
       "      <td>2334.000000</td>\n",
       "      <td>26103.000000</td>\n",
       "      <td>32106.500000</td>\n",
       "      <td>1126.282666</td>\n",
       "      <td>7.048395e+05</td>\n",
       "      <td>6134.500000</td>\n",
       "      <td>4.797564</td>\n",
       "      <td>14127.521137</td>\n",
       "      <td>15.396088</td>\n",
       "    </tr>\n",
       "    <tr>\n",
       "      <th>max</th>\n",
       "      <td>7099.000000</td>\n",
       "      <td>712475.000000</td>\n",
       "      <td>32957.000000</td>\n",
       "      <td>507499.000000</td>\n",
       "      <td>699453.000000</td>\n",
       "      <td>3187.773001</td>\n",
       "      <td>1.137330e+07</td>\n",
       "      <td>89995.000000</td>\n",
       "      <td>9.741481</td>\n",
       "      <td>49502.860687</td>\n",
       "      <td>38.501190</td>\n",
       "    </tr>\n",
       "  </tbody>\n",
       "</table>\n",
       "</div>"
      ],
      "text/plain": [
       "                ID      Confirmed        Deaths      Recovered         Active  \\\n",
       "count  7100.000000    7100.000000   7100.000000    5771.000000    7100.000000   \n",
       "mean   3549.500000   56374.339577   2323.883099   20422.274649   37635.120986   \n",
       "std    2049.737788   95058.665054   4742.274729   39262.213465   79067.101832   \n",
       "min       0.000000     270.000000      0.000000       0.000000    -989.000000   \n",
       "25%    1774.750000    6097.500000    153.000000    1614.500000    2849.000000   \n",
       "50%    3549.500000   22892.000000    681.000000    5881.000000   10409.000000   \n",
       "75%    5324.250000   62959.250000   2334.000000   26103.000000   32106.500000   \n",
       "max    7099.000000  712475.000000  32957.000000  507499.000000  699453.000000   \n",
       "\n",
       "       Incident_Rate  People_Tested  People_Hospitalized  Mortality_Rate  \\\n",
       "count    7100.000000   7.100000e+03          5047.000000     7100.000000   \n",
       "mean      747.273790   6.427069e+05          6250.044185        3.653231   \n",
       "std       637.397470   1.127555e+06         13880.694435        2.074042   \n",
       "min        32.771004   5.459000e+03            10.000000        0.000000   \n",
       "25%       224.815702   1.000775e+05           595.000000        1.928925   \n",
       "50%       540.836745   2.643235e+05          2068.000000        3.362027   \n",
       "75%      1126.282666   7.048395e+05          6134.500000        4.797564   \n",
       "max      3187.773001   1.137330e+07         89995.000000        9.741481   \n",
       "\n",
       "       Testing_Rate  Hospitalization_Rate  \n",
       "count   7100.000000           5047.000000  \n",
       "mean    9666.099116             12.197144  \n",
       "std     7779.560336              5.255183  \n",
       "min      460.300152              2.302896  \n",
       "25%     3379.288445              8.387037  \n",
       "50%     7842.820591             11.351161  \n",
       "75%    14127.521137             15.396088  \n",
       "max    49502.860687             38.501190  "
      ]
     },
     "execution_count": 5,
     "metadata": {},
     "output_type": "execute_result"
    }
   ],
   "source": [
    "train_data = pd.read_csv(train_data_path)\n",
    "train_data.describe()"
   ]
  },
  {
   "cell_type": "markdown",
   "metadata": {},
   "source": [
    "## Now let's visualize some <br>S.H.I.T. (Scatterplots and Histograms that Interpret the Trend)"
   ]
  },
  {
   "cell_type": "code",
   "execution_count": 6,
   "metadata": {},
   "outputs": [],
   "source": [
    "# First, we will get the total confirmed/deaths of each state\n",
    "states = list(np.unique(train_data['Province_State']))\n",
    "collected = ['Confirmed', 'Deaths', 'People_Tested']\n",
    "states_data = dict.fromkeys(states, None)\n",
    "\n",
    "for s in states:\n",
    "    df_filter = train_data['Province_State'] == s\n",
    "    state_df = train_data[df_filter]\n",
    "    states_data[s] = state_df.drop(['Date','ID', 'Province_State', 'Recovered', 'People_Hospitalized', 'Hospitalization_Rate'], 1)\n",
    "    save_columns = states_data[s].columns\n",
    "    scaler = StandardScaler()\n",
    "    states_data[s] = scaler.fit_transform(states_data[s])\n",
    "    states_data[s] = pd.DataFrame(states_data[s], columns=save_columns)"
   ]
  },
  {
   "cell_type": "code",
   "execution_count": 7,
   "metadata": {},
   "outputs": [
    {
     "data": {
      "text/html": [
       "<div>\n",
       "<style scoped>\n",
       "    .dataframe tbody tr th:only-of-type {\n",
       "        vertical-align: middle;\n",
       "    }\n",
       "\n",
       "    .dataframe tbody tr th {\n",
       "        vertical-align: top;\n",
       "    }\n",
       "\n",
       "    .dataframe thead th {\n",
       "        text-align: right;\n",
       "    }\n",
       "</style>\n",
       "<table border=\"1\" class=\"dataframe\">\n",
       "  <thead>\n",
       "    <tr style=\"text-align: right;\">\n",
       "      <th></th>\n",
       "      <th>Confirmed</th>\n",
       "      <th>Deaths</th>\n",
       "      <th>Active</th>\n",
       "      <th>Incident_Rate</th>\n",
       "      <th>People_Tested</th>\n",
       "      <th>Mortality_Rate</th>\n",
       "      <th>Testing_Rate</th>\n",
       "    </tr>\n",
       "  </thead>\n",
       "  <tbody>\n",
       "    <tr>\n",
       "      <th>0</th>\n",
       "      <td>-1.126524</td>\n",
       "      <td>-1.568092</td>\n",
       "      <td>-1.119196</td>\n",
       "      <td>-1.126505</td>\n",
       "      <td>-1.202747</td>\n",
       "      <td>-0.105361</td>\n",
       "      <td>-1.202976</td>\n",
       "    </tr>\n",
       "    <tr>\n",
       "      <th>1</th>\n",
       "      <td>-1.121363</td>\n",
       "      <td>-1.546680</td>\n",
       "      <td>-1.114295</td>\n",
       "      <td>-1.121302</td>\n",
       "      <td>-1.202588</td>\n",
       "      <td>0.089968</td>\n",
       "      <td>-1.202815</td>\n",
       "    </tr>\n",
       "    <tr>\n",
       "      <th>2</th>\n",
       "      <td>-1.114888</td>\n",
       "      <td>-1.531345</td>\n",
       "      <td>-1.107963</td>\n",
       "      <td>-1.114775</td>\n",
       "      <td>-1.199327</td>\n",
       "      <td>0.135665</td>\n",
       "      <td>-1.199528</td>\n",
       "    </tr>\n",
       "    <tr>\n",
       "      <th>3</th>\n",
       "      <td>-1.108845</td>\n",
       "      <td>-1.504436</td>\n",
       "      <td>-1.102255</td>\n",
       "      <td>-1.108683</td>\n",
       "      <td>-1.195215</td>\n",
       "      <td>0.355231</td>\n",
       "      <td>-1.195384</td>\n",
       "    </tr>\n",
       "    <tr>\n",
       "      <th>4</th>\n",
       "      <td>-1.104343</td>\n",
       "      <td>-1.476658</td>\n",
       "      <td>-1.098125</td>\n",
       "      <td>-1.104144</td>\n",
       "      <td>-1.186602</td>\n",
       "      <td>0.612357</td>\n",
       "      <td>-1.186701</td>\n",
       "    </tr>\n",
       "    <tr>\n",
       "      <th>...</th>\n",
       "      <td>...</td>\n",
       "      <td>...</td>\n",
       "      <td>...</td>\n",
       "      <td>...</td>\n",
       "      <td>...</td>\n",
       "      <td>...</td>\n",
       "      <td>...</td>\n",
       "    </tr>\n",
       "    <tr>\n",
       "      <th>137</th>\n",
       "      <td>1.913187</td>\n",
       "      <td>1.914783</td>\n",
       "      <td>1.912677</td>\n",
       "      <td>1.913521</td>\n",
       "      <td>1.886294</td>\n",
       "      <td>-1.194190</td>\n",
       "      <td>1.886579</td>\n",
       "    </tr>\n",
       "    <tr>\n",
       "      <th>138</th>\n",
       "      <td>1.938467</td>\n",
       "      <td>1.951820</td>\n",
       "      <td>1.937763</td>\n",
       "      <td>1.938811</td>\n",
       "      <td>1.912848</td>\n",
       "      <td>-1.190039</td>\n",
       "      <td>1.913141</td>\n",
       "    </tr>\n",
       "    <tr>\n",
       "      <th>139</th>\n",
       "      <td>1.959608</td>\n",
       "      <td>1.977572</td>\n",
       "      <td>1.958825</td>\n",
       "      <td>1.959959</td>\n",
       "      <td>1.941352</td>\n",
       "      <td>-1.189475</td>\n",
       "      <td>1.941654</td>\n",
       "    </tr>\n",
       "    <tr>\n",
       "      <th>140</th>\n",
       "      <td>1.977387</td>\n",
       "      <td>1.990013</td>\n",
       "      <td>1.976684</td>\n",
       "      <td>1.977744</td>\n",
       "      <td>1.976538</td>\n",
       "      <td>-1.194020</td>\n",
       "      <td>1.976851</td>\n",
       "    </tr>\n",
       "    <tr>\n",
       "      <th>141</th>\n",
       "      <td>2.007029</td>\n",
       "      <td>2.014608</td>\n",
       "      <td>2.006399</td>\n",
       "      <td>2.007397</td>\n",
       "      <td>2.017275</td>\n",
       "      <td>-1.199411</td>\n",
       "      <td>2.017600</td>\n",
       "    </tr>\n",
       "  </tbody>\n",
       "</table>\n",
       "<p>142 rows × 7 columns</p>\n",
       "</div>"
      ],
      "text/plain": [
       "     Confirmed    Deaths    Active  Incident_Rate  People_Tested  \\\n",
       "0    -1.126524 -1.568092 -1.119196      -1.126505      -1.202747   \n",
       "1    -1.121363 -1.546680 -1.114295      -1.121302      -1.202588   \n",
       "2    -1.114888 -1.531345 -1.107963      -1.114775      -1.199327   \n",
       "3    -1.108845 -1.504436 -1.102255      -1.108683      -1.195215   \n",
       "4    -1.104343 -1.476658 -1.098125      -1.104144      -1.186602   \n",
       "..         ...       ...       ...            ...            ...   \n",
       "137   1.913187  1.914783  1.912677       1.913521       1.886294   \n",
       "138   1.938467  1.951820  1.937763       1.938811       1.912848   \n",
       "139   1.959608  1.977572  1.958825       1.959959       1.941352   \n",
       "140   1.977387  1.990013  1.976684       1.977744       1.976538   \n",
       "141   2.007029  2.014608  2.006399       2.007397       2.017275   \n",
       "\n",
       "     Mortality_Rate  Testing_Rate  \n",
       "0         -0.105361     -1.202976  \n",
       "1          0.089968     -1.202815  \n",
       "2          0.135665     -1.199528  \n",
       "3          0.355231     -1.195384  \n",
       "4          0.612357     -1.186701  \n",
       "..              ...           ...  \n",
       "137       -1.194190      1.886579  \n",
       "138       -1.190039      1.913141  \n",
       "139       -1.189475      1.941654  \n",
       "140       -1.194020      1.976851  \n",
       "141       -1.199411      2.017600  \n",
       "\n",
       "[142 rows x 7 columns]"
      ]
     },
     "execution_count": 7,
     "metadata": {},
     "output_type": "execute_result"
    }
   ],
   "source": [
    "states_data['California']"
   ]
  },
  {
   "cell_type": "code",
   "execution_count": 8,
   "metadata": {},
   "outputs": [
    {
     "data": {
      "text/plain": [
       "<matplotlib.legend.Legend at 0x1215ebc10>"
      ]
     },
     "execution_count": 8,
     "metadata": {},
     "output_type": "execute_result"
    },
    {
     "data": {
      "image/png": "[encoded data removed]",
      "text/plain": [
       "<Figure size 1080x360 with 2 Axes>"
      ]
     },
     "metadata": {
      "needs_background": "light"
     },
     "output_type": "display_data"
    }
   ],
   "source": [
    "plt.figure(figsize=(15, 5))\n",
    "plt.subplot(1,2,1)\n",
    "plt.yscale('linear')\n",
    "plt.plot(states_data['California'].Confirmed.values, color='red', label='Comfirmed')\n",
    "plt.legend(loc='best')\n",
    "plt.subplot(1,2,2)\n",
    "plt.plot(states_data['California'].Deaths.values, color='blue', label='Deaths')\n",
    "plt.legend(loc='best')\n"
   ]
  },
  {
   "cell_type": "markdown",
   "metadata": {},
   "source": [
    "## Create Cross-validation Datasets"
   ]
  },
  {
   "cell_type": "code",
   "execution_count": 9,
   "metadata": {},
   "outputs": [
    {
     "data": {
      "text/plain": [
       "<matplotlib.legend.Legend at 0x1217338e0>"
      ]
     },
     "execution_count": 9,
     "metadata": {},
     "output_type": "execute_result"
    },
    {
     "data": {
      "image/png": "[encoded data removed]",
      "text/plain": [
       "<Figure size 1080x360 with 2 Axes>"
      ]
     },
     "metadata": {
      "needs_background": "light"
     },
     "output_type": "display_data"
    }
   ],
   "source": [
    "test_percentage = 0.9\n",
    "validate_percentage = 0.1\n",
    "state_train_data = {}\n",
    "state_validate_data = {}\n",
    "\n",
    "for state in states_data.keys():\n",
    "    state_data_size = states_data[state].shape\n",
    "    state_test_size = math.floor(state_data_size[0]*test_percentage)\n",
    "    state_train_data[state] = states_data[state][:state_test_size]\n",
    "    state_validate_data[state] = states_data[state][state_test_size:]\n",
    "\n",
    "plt.figure(figsize=(15, 5))\n",
    "plt.subplot(1,2,1)\n",
    "plt.yscale('linear')\n",
    "plt.plot(state_train_data['California'].Confirmed.values, color='red', label='Train: Comfirmed')\n",
    "plt.plot(np.arange(state_train_data['California'].shape[0], state_train_data['California'].shape[0]+state_validate_data['California'].shape[0]), state_validate_data['California'].Confirmed.values, color='blue', label='Validate: Comfirmed')\n",
    "plt.legend(loc='best')\n",
    "plt.subplot(1,2,2)\n",
    "plt.plot(states_data['California'].Deaths.values, color='blue', label='Train: Deaths')\n",
    "plt.plot(np.arange(state_train_data['California'].shape[0], state_train_data['California'].shape[0]+state_validate_data['California'].shape[0]), state_validate_data['California'].Deaths.values, color='red', label='Validate: Deaths')\n",
    "plt.legend(loc='best')"
   ]
  },
  {
   "cell_type": "markdown",
   "metadata": {},
   "source": [
    "## Train a RNN model"
   ]
  },
  {
   "cell_type": "code",
   "execution_count": null,
   "metadata": {},
   "outputs": [],
   "source": []
  }
 ],
 "metadata": {
  "kernelspec": {
   "display_name": "Python 3",
   "language": "python",
   "name": "python3"
  },
  "language_info": {
   "codemirror_mode": {
    "name": "ipython",
    "version": 3
   },
   "file_extension": ".py",
   "mimetype": "text/x-python",
   "name": "python",
   "nbconvert_exporter": "python",
   "pygments_lexer": "ipython3",
   "version": "3.8.6"
  }
 },
 "nbformat": 4,
 "nbformat_minor": 4
}
