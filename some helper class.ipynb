{
 "cells": [
  {
   "cell_type": "code",
   "execution_count": 3,
   "metadata": {},
   "outputs": [],
   "source": [
    "import os\n",
    "import numpy as np\n",
    "import pandas as pd"
   ]
  },
  {
   "cell_type": "code",
   "execution_count": 4,
   "metadata": {},
   "outputs": [],
   "source": [
    "data_dir = \"data\"\n",
    "train_data_path = os.path.join(data_dir, \"train.csv\")\n",
    "test_data_path  = os.path.join(data_dir, \"test.csv\")\n",
    "graph_data_path = os.path.join(data_dir, \"graph.csv\")"
   ]
  },
  {
   "cell_type": "code",
   "execution_count": 6,
   "metadata": {},
   "outputs": [],
   "source": [
    "# https://gist.github.com/rogerallen/1583593\n",
    "# ^ Use this in case we need state code translation\n",
    "\n",
    "from sklearn.preprocessing import StandardScaler\n",
    "\n",
    "import math\n",
    "import matplotlib.pyplot as plt\n",
    "class utils:\n",
    "    def __init__(self):\n",
    "        pass\n",
    "    \n",
    "    def split(self, dataframe, test=0.2):\n",
    "        size = dataframe.shape\n",
    "        train_size = size[0] - math.floor(size[0] * test)\n",
    "        return dataframe[:train_size], dataframe[train_size:]\n",
    "    \n",
    "class CoreData(object):\n",
    "    def __init__(self, data_path = None, debug=False):\n",
    "        if not data_path:\n",
    "            raise Exception(\"Input file path!\")\n",
    "        self.data_path = data_path\n",
    "        self.df = None\n",
    "        self.states = []\n",
    "        self.state_df = {}\n",
    "        self.debug = debug\n",
    "        \n",
    "    def load(self, normalize=True):\n",
    "        '''\n",
    "        DataProcessor.load()\n",
    "        Pre-load data state-by-state to a dictionary.\n",
    "        '''\n",
    "        # Change this line to modify dropped data series.\n",
    "        dropped_col = ['Date', 'ID', 'Province_State']\n",
    "        \n",
    "        self.df = pd.read_csv(train_data_path)\n",
    "        self.states = list(np.unique(self.df['Province_State']))\n",
    "        self.state_df = dict.fromkeys(self.states, None)\n",
    "        \n",
    "        for s in self.states:\n",
    "            df_filter = self.df['Province_State'] == s\n",
    "            tmp_state_df = self.df[df_filter]\n",
    "            self.state_df[s] = tmp_state_df.drop(dropped_col, 1)\n",
    "            \n",
    "            # Normalize\n",
    "            if normalize:\n",
    "                mean = self.state_df[s].mean()\n",
    "                std = self.state_df[s].std()\n",
    "                self.state_df[s] = (self.state_df[s] - mean)/std\n",
    "    \n",
    "    def access(self, state=None):\n",
    "        if not state:\n",
    "            raise Exception('Enter state name! i.e. self.access(\"California\")')\n",
    "        elif state not in self.states:\n",
    "            raise Exception('Check your spelling of the state.')\n",
    "        return self.state_df[state]\n",
    "    \n",
    "    def access_split(self, state=None, test_portion=0.2):\n",
    "        df = self.access(state)\n",
    "        return utils().split(dataframe=df, test=test_portion)\n"
   ]
  },
  {
   "cell_type": "code",
   "execution_count": 7,
   "metadata": {},
   "outputs": [],
   "source": [
    "dp = CoreData(train_data_path)"
   ]
  },
  {
   "cell_type": "code",
   "execution_count": 9,
   "metadata": {},
   "outputs": [],
   "source": [
    "dp.load()"
   ]
  },
  {
   "cell_type": "code",
   "execution_count": 51,
   "metadata": {},
   "outputs": [
    {
     "data": {
      "text/html": [
       "<div>\n",
       "<style scoped>\n",
       "    .dataframe tbody tr th:only-of-type {\n",
       "        vertical-align: middle;\n",
       "    }\n",
       "\n",
       "    .dataframe tbody tr th {\n",
       "        vertical-align: top;\n",
       "    }\n",
       "\n",
       "    .dataframe thead th {\n",
       "        text-align: right;\n",
       "    }\n",
       "</style>\n",
       "<table border=\"1\" class=\"dataframe\">\n",
       "  <thead>\n",
       "    <tr style=\"text-align: right;\">\n",
       "      <th></th>\n",
       "      <th>Confirmed</th>\n",
       "      <th>Deaths</th>\n",
       "      <th>Recovered</th>\n",
       "      <th>Active</th>\n",
       "      <th>Incident_Rate</th>\n",
       "      <th>People_Tested</th>\n",
       "      <th>People_Hospitalized</th>\n",
       "      <th>Mortality_Rate</th>\n",
       "      <th>Testing_Rate</th>\n",
       "      <th>Hospitalization_Rate</th>\n",
       "    </tr>\n",
       "  </thead>\n",
       "  <tbody>\n",
       "    <tr>\n",
       "      <th>4</th>\n",
       "      <td>-1.122550</td>\n",
       "      <td>-1.562561</td>\n",
       "      <td>NaN</td>\n",
       "      <td>-1.115248</td>\n",
       "      <td>-1.122531</td>\n",
       "      <td>-1.198505</td>\n",
       "      <td>0.820443</td>\n",
       "      <td>-0.104990</td>\n",
       "      <td>-1.198733</td>\n",
       "      <td>2.194601</td>\n",
       "    </tr>\n",
       "    <tr>\n",
       "      <th>54</th>\n",
       "      <td>-1.117407</td>\n",
       "      <td>-1.541225</td>\n",
       "      <td>NaN</td>\n",
       "      <td>-1.110364</td>\n",
       "      <td>-1.117346</td>\n",
       "      <td>-1.198346</td>\n",
       "      <td>-3.581704</td>\n",
       "      <td>0.089651</td>\n",
       "      <td>-1.198573</td>\n",
       "      <td>-0.666006</td>\n",
       "    </tr>\n",
       "    <tr>\n",
       "      <th>104</th>\n",
       "      <td>-1.110956</td>\n",
       "      <td>-1.525943</td>\n",
       "      <td>NaN</td>\n",
       "      <td>-1.104055</td>\n",
       "      <td>-1.110842</td>\n",
       "      <td>-1.195096</td>\n",
       "      <td>0.679590</td>\n",
       "      <td>0.135186</td>\n",
       "      <td>-1.195297</td>\n",
       "      <td>1.477098</td>\n",
       "    </tr>\n",
       "    <tr>\n",
       "      <th>154</th>\n",
       "      <td>-1.104934</td>\n",
       "      <td>-1.499129</td>\n",
       "      <td>NaN</td>\n",
       "      <td>-1.098367</td>\n",
       "      <td>-1.104772</td>\n",
       "      <td>-1.191000</td>\n",
       "      <td>0.679590</td>\n",
       "      <td>0.353978</td>\n",
       "      <td>-1.191167</td>\n",
       "      <td>1.196952</td>\n",
       "    </tr>\n",
       "    <tr>\n",
       "      <th>204</th>\n",
       "      <td>-1.100447</td>\n",
       "      <td>-1.471449</td>\n",
       "      <td>NaN</td>\n",
       "      <td>-1.094251</td>\n",
       "      <td>-1.100249</td>\n",
       "      <td>-1.182417</td>\n",
       "      <td>0.417723</td>\n",
       "      <td>0.610197</td>\n",
       "      <td>-1.182515</td>\n",
       "      <td>0.874057</td>\n",
       "    </tr>\n",
       "    <tr>\n",
       "      <th>...</th>\n",
       "      <td>...</td>\n",
       "      <td>...</td>\n",
       "      <td>...</td>\n",
       "      <td>...</td>\n",
       "      <td>...</td>\n",
       "      <td>...</td>\n",
       "      <td>...</td>\n",
       "      <td>...</td>\n",
       "      <td>...</td>\n",
       "      <td>...</td>\n",
       "    </tr>\n",
       "    <tr>\n",
       "      <th>6854</th>\n",
       "      <td>1.906439</td>\n",
       "      <td>1.908029</td>\n",
       "      <td>NaN</td>\n",
       "      <td>1.905930</td>\n",
       "      <td>1.906772</td>\n",
       "      <td>1.879640</td>\n",
       "      <td>NaN</td>\n",
       "      <td>-1.189978</td>\n",
       "      <td>1.879924</td>\n",
       "      <td>NaN</td>\n",
       "    </tr>\n",
       "    <tr>\n",
       "      <th>6904</th>\n",
       "      <td>1.931630</td>\n",
       "      <td>1.944935</td>\n",
       "      <td>NaN</td>\n",
       "      <td>1.930928</td>\n",
       "      <td>1.931972</td>\n",
       "      <td>1.906101</td>\n",
       "      <td>NaN</td>\n",
       "      <td>-1.185842</td>\n",
       "      <td>1.906393</td>\n",
       "      <td>NaN</td>\n",
       "    </tr>\n",
       "    <tr>\n",
       "      <th>6954</th>\n",
       "      <td>1.952696</td>\n",
       "      <td>1.970596</td>\n",
       "      <td>NaN</td>\n",
       "      <td>1.951916</td>\n",
       "      <td>1.953046</td>\n",
       "      <td>1.934505</td>\n",
       "      <td>NaN</td>\n",
       "      <td>-1.185279</td>\n",
       "      <td>1.934805</td>\n",
       "      <td>NaN</td>\n",
       "    </tr>\n",
       "    <tr>\n",
       "      <th>7004</th>\n",
       "      <td>1.970412</td>\n",
       "      <td>1.982994</td>\n",
       "      <td>NaN</td>\n",
       "      <td>1.969712</td>\n",
       "      <td>1.970768</td>\n",
       "      <td>1.969566</td>\n",
       "      <td>NaN</td>\n",
       "      <td>-1.189808</td>\n",
       "      <td>1.969878</td>\n",
       "      <td>NaN</td>\n",
       "    </tr>\n",
       "    <tr>\n",
       "      <th>7054</th>\n",
       "      <td>1.999949</td>\n",
       "      <td>2.007502</td>\n",
       "      <td>NaN</td>\n",
       "      <td>1.999322</td>\n",
       "      <td>2.000316</td>\n",
       "      <td>2.010159</td>\n",
       "      <td>NaN</td>\n",
       "      <td>-1.195180</td>\n",
       "      <td>2.010483</td>\n",
       "      <td>NaN</td>\n",
       "    </tr>\n",
       "  </tbody>\n",
       "</table>\n",
       "<p>142 rows × 10 columns</p>\n",
       "</div>"
      ],
      "text/plain": [
       "      Confirmed    Deaths  Recovered    Active  Incident_Rate  People_Tested  \\\n",
       "4     -1.122550 -1.562561        NaN -1.115248      -1.122531      -1.198505   \n",
       "54    -1.117407 -1.541225        NaN -1.110364      -1.117346      -1.198346   \n",
       "104   -1.110956 -1.525943        NaN -1.104055      -1.110842      -1.195096   \n",
       "154   -1.104934 -1.499129        NaN -1.098367      -1.104772      -1.191000   \n",
       "204   -1.100447 -1.471449        NaN -1.094251      -1.100249      -1.182417   \n",
       "...         ...       ...        ...       ...            ...            ...   \n",
       "6854   1.906439  1.908029        NaN  1.905930       1.906772       1.879640   \n",
       "6904   1.931630  1.944935        NaN  1.930928       1.931972       1.906101   \n",
       "6954   1.952696  1.970596        NaN  1.951916       1.953046       1.934505   \n",
       "7004   1.970412  1.982994        NaN  1.969712       1.970768       1.969566   \n",
       "7054   1.999949  2.007502        NaN  1.999322       2.000316       2.010159   \n",
       "\n",
       "      People_Hospitalized  Mortality_Rate  Testing_Rate  Hospitalization_Rate  \n",
       "4                0.820443       -0.104990     -1.198733              2.194601  \n",
       "54              -3.581704        0.089651     -1.198573             -0.666006  \n",
       "104              0.679590        0.135186     -1.195297              1.477098  \n",
       "154              0.679590        0.353978     -1.191167              1.196952  \n",
       "204              0.417723        0.610197     -1.182515              0.874057  \n",
       "...                   ...             ...           ...                   ...  \n",
       "6854                  NaN       -1.189978      1.879924                   NaN  \n",
       "6904                  NaN       -1.185842      1.906393                   NaN  \n",
       "6954                  NaN       -1.185279      1.934805                   NaN  \n",
       "7004                  NaN       -1.189808      1.969878                   NaN  \n",
       "7054                  NaN       -1.195180      2.010483                   NaN  \n",
       "\n",
       "[142 rows x 10 columns]"
      ]
     },
     "execution_count": 51,
     "metadata": {},
     "output_type": "execute_result"
    }
   ],
   "source": [
    "dp.access(\"California\")"
   ]
  },
  {
   "cell_type": "code",
   "execution_count": 52,
   "metadata": {},
   "outputs": [
    {
     "name": "stdout",
     "output_type": "stream",
     "text": [
      "<class 'pandas.core.frame.DataFrame'>\n",
      "<class 'pandas.core.frame.DataFrame'>\n"
     ]
    }
   ],
   "source": [
    "t = dp.access_split('California')"
   ]
  },
  {
   "cell_type": "markdown",
   "metadata": {},
   "source": [
    "# 后面抄的 `notebook.ipynb`"
   ]
  },
  {
   "cell_type": "code",
   "execution_count": 13,
   "metadata": {},
   "outputs": [
    {
     "data": {
      "text/plain": [
       "(73, 14, 10)"
      ]
     },
     "execution_count": 13,
     "metadata": {},
     "output_type": "execute_result"
    }
   ],
   "source": [
    "import tensorflow as tf\n",
    "from tensorflow import keras\n",
    "from tensorflow.keras import layers\n",
    "from tensorflow.keras import Sequential\n",
    "from tensorflow.keras.layers import Dense, LSTM, Dropout\n",
    "\n",
    "state='New York'\n",
    "\n",
    "X_train = []\n",
    "y_train = []\n",
    "\n",
    "window_size = 14\n",
    "forecast_day = 27\n",
    "\n",
    "train_data = dp.access_split(state)[0]\n",
    "train_data = np.array(train_data)\n",
    "\n",
    "for i in range(window_size, train_data.shape[0]-forecast_day):\n",
    "    X_train.append(train_data[i-window_size:i])\n",
    "    y_train.append(train_data[i+forecast_day, 0])\n",
    "\n",
    "X_train, y_train = np.array(X_train), np.array(y_train)\n",
    "X_train.shape"
   ]
  },
  {
   "cell_type": "code",
   "execution_count": 57,
   "metadata": {},
   "outputs": [],
   "source": [
    "model = keras.Sequential()\n",
    "\n",
    "model.add(LSTM(units = 60, activation = 'relu', return_sequences = True, input_shape = (X_train.shape[1], X_train.shape[2])))\n",
    "model.add(Dropout(0.2))\n",
    "\n",
    "model.add(LSTM(units = 80, activation = 'relu', return_sequences = True))\n",
    "model.add(Dropout(0.2))\n",
    "\n",
    "model.add(LSTM(units = 120, activation = 'relu', return_sequences = True))\n",
    "model.add(Dropout(0.2))\n",
    "\n",
    "model.add(LSTM(units = 200, activation = 'relu'))\n",
    "model.add(Dropout(0.2))\n",
    "\n",
    "model.add(Dense(units = 1))"
   ]
  },
  {
   "cell_type": "code",
   "execution_count": 58,
   "metadata": {},
   "outputs": [
    {
     "data": {
      "text/plain": [
       "<tensorflow.python.keras.callbacks.History at 0x7ff96a28ee50>"
      ]
     },
     "execution_count": 58,
     "metadata": {},
     "output_type": "execute_result"
    }
   ],
   "source": [
    "model.compile(optimizer='adam', loss = 'mean_squared_error')\n",
    "model.fit(X_train, y_train, epochs=100, batch_size=32, verbose=0)"
   ]
  },
  {
   "cell_type": "code",
   "execution_count": 60,
   "metadata": {},
   "outputs": [
    {
     "name": "stdout",
     "output_type": "stream",
     "text": [
      "<class 'pandas.core.frame.DataFrame'>\n",
      "<class 'pandas.core.frame.DataFrame'>\n"
     ]
    }
   ],
   "source": [
    "previous_days = dp.access_split(state)[0].tail(window_size+forecast_day)"
   ]
  },
  {
   "cell_type": "code",
   "execution_count": 61,
   "metadata": {},
   "outputs": [],
   "source": [
    "inputs = np.array(previous_days)"
   ]
  },
  {
   "cell_type": "code",
   "execution_count": 62,
   "metadata": {},
   "outputs": [],
   "source": [
    "X_test = []\n",
    "y_test = []\n",
    "\n",
    "for i in range(window_size, inputs.shape[0]):\n",
    "    X_test.append(inputs[i-window_size:i])\n",
    "    y_test.append(inputs[i,0])\n",
    "    \n",
    "X_test, y_test = np.array(X_test), np.array(y_test)"
   ]
  },
  {
   "cell_type": "code",
   "execution_count": 63,
   "metadata": {},
   "outputs": [],
   "source": [
    "y_pred = model.predict(X_test)"
   ]
  },
  {
   "cell_type": "code",
   "execution_count": 64,
   "metadata": {},
   "outputs": [],
   "source": [
    "y_result = y_pred.flatten().tolist()"
   ]
  },
  {
   "cell_type": "code",
   "execution_count": 68,
   "metadata": {},
   "outputs": [
    {
     "name": "stdout",
     "output_type": "stream",
     "text": [
      "<class 'pandas.core.frame.DataFrame'>\n",
      "<class 'pandas.core.frame.DataFrame'>\n",
      "<class 'pandas.core.frame.DataFrame'>\n",
      "<class 'pandas.core.frame.DataFrame'>\n"
     ]
    },
    {
     "data": {
      "text/plain": [
       "<matplotlib.legend.Legend at 0x7ff952bebcd0>"
      ]
     },
     "execution_count": 68,
     "metadata": {},
     "output_type": "execute_result"
    },
    {
     "data": {
      "image/png": "[encoded data removed]",
      "text/plain": [
       "<Figure size 1080x360 with 1 Axes>"
      ]
     },
     "metadata": {
      "needs_background": "light"
     },
     "output_type": "display_data"
    }
   ],
   "source": [
    "import matplotlib.pyplot as plt\n",
    "num_state_train = dp.access_split(state)[0].shape[0]\n",
    "forecast_range = np.arange(num_state_train, num_state_train+forecast_day)\n",
    "\n",
    "plt.figure(figsize=(15, 5))\n",
    "plt.subplot(1,2,1)\n",
    "plt.yscale('linear')\n",
    "plt.plot(dp.access_split(state)[0].Confirmed.values, color='red', label='Train: Comfirmed')\n",
    "plt.plot(forecast_range, y_result, color='blue', label='Forecast: Comfirmed')\n",
    "plt.legend(loc='best')"
   ]
  },
  {
   "cell_type": "code",
   "execution_count": 14,
   "metadata": {},
   "outputs": [
    {
     "name": "stdout",
     "output_type": "stream",
     "text": [
      "Processing 1/50: Alabama...\n",
      "Processing 2/50: Alaska...\n",
      "Processing 3/50: Arizona...\n",
      "Processing 4/50: Arkansas...\n",
      "Processing 5/50: California...\n",
      "Processing 6/50: Colorado...\n",
      "Processing 7/50: Connecticut...\n",
      "Processing 8/50: Delaware...\n",
      "Processing 9/50: Florida...\n",
      "Processing 10/50: Georgia...\n",
      "Processing 11/50: Hawaii...\n",
      "Processing 12/50: Idaho...\n",
      "Processing 13/50: Illinois...\n",
      "Processing 14/50: Indiana...\n",
      "Processing 15/50: Iowa...\n",
      "Processing 16/50: Kansas...\n",
      "Processing 17/50: Kentucky...\n",
      "Processing 18/50: Louisiana...\n",
      "Processing 19/50: Maine...\n",
      "Processing 20/50: Maryland...\n",
      "Processing 21/50: Massachusetts...\n",
      "Processing 22/50: Michigan...\n",
      "Processing 23/50: Minnesota...\n",
      "Processing 24/50: Mississippi...\n",
      "Processing 25/50: Missouri...\n",
      "Processing 26/50: Montana...\n",
      "Processing 27/50: Nebraska...\n",
      "Processing 28/50: Nevada...\n",
      "Processing 29/50: New Hampshire...\n",
      "Processing 30/50: New Jersey...\n",
      "Processing 31/50: New Mexico...\n",
      "Processing 32/50: New York...\n",
      "Processing 33/50: North Carolina...\n",
      "Processing 34/50: North Dakota...\n",
      "Processing 35/50: Ohio...\n",
      "Processing 36/50: Oklahoma...\n",
      "Processing 37/50: Oregon...\n",
      "Processing 38/50: Pennsylvania...\n",
      "Processing 39/50: Rhode Island...\n",
      "Processing 40/50: South Carolina...\n",
      "Processing 41/50: South Dakota...\n",
      "Processing 42/50: Tennessee...\n",
      "Processing 43/50: Texas...\n",
      "Processing 44/50: Utah...\n",
      "Processing 45/50: Vermont...\n",
      "Processing 46/50: Virginia...\n",
      "Processing 47/50: Washington...\n",
      "Processing 48/50: West Virginia...\n",
      "Processing 49/50: Wisconsin...\n",
      "Processing 50/50: Wyoming...\n"
     ]
    }
   ],
   "source": [
    "\n",
    "window_size = 14\n",
    "forecast_day = 27\n",
    "\n",
    "models = {}\n",
    "for c, state in enumerate(dp.states, 1):\n",
    "    print(f\"Processing {c}/{len(dp.states)}: {state}...\")\n",
    "    X_train = []\n",
    "    y_train = []\n",
    "\n",
    "    train_data = dp.access_split(state)[0]\n",
    "    train_data = np.array(train_data)\n",
    "\n",
    "    for i in range(window_size, train_data.shape[0]-forecast_day):\n",
    "        X_train.append(train_data[i-window_size:i])\n",
    "        y_train.append(train_data[i+forecast_day, 0])\n",
    "\n",
    "    X_train, y_train = np.array(X_train), np.array(y_train)\n",
    "    \n",
    "    model = keras.Sequential()\n",
    "\n",
    "    model.add(LSTM(units = 60, activation = 'relu', return_sequences = True, input_shape = (X_train.shape[1], X_train.shape[2])))\n",
    "    model.add(Dropout(0.2))\n",
    "\n",
    "    model.add(LSTM(units = 80, activation = 'relu', return_sequences = True))\n",
    "    model.add(Dropout(0.2))\n",
    "\n",
    "    model.add(LSTM(units = 120, activation = 'relu', return_sequences = True))\n",
    "    model.add(Dropout(0.2))\n",
    "\n",
    "    model.add(LSTM(units = 200, activation = 'relu'))\n",
    "    model.add(Dropout(0.2))\n",
    "\n",
    "    model.add(Dense(units = 1))\n",
    "    \n",
    "    model.compile(optimizer='adam', loss = 'mean_squared_error')\n",
    "    model.fit(X_train, y_train, epochs=100, batch_size=32, verbose=0)\n",
    "    \n",
    "    models[state] = model\n",
    "    \n",
    "    "
   ]
  },
  {
   "cell_type": "code",
   "execution_count": 16,
   "metadata": {},
   "outputs": [
    {
     "name": "stdout",
     "output_type": "stream",
     "text": [
      "Alabama [[nan]\n",
      " [nan]\n",
      " [nan]\n",
      " [nan]\n",
      " [nan]\n",
      " [nan]\n",
      " [nan]\n",
      " [nan]\n",
      " [nan]\n",
      " [nan]\n",
      " [nan]\n",
      " [nan]\n",
      " [nan]\n",
      " [nan]\n",
      " [nan]\n",
      " [nan]\n",
      " [nan]\n",
      " [nan]\n",
      " [nan]\n",
      " [nan]\n",
      " [nan]\n",
      " [nan]\n",
      " [nan]\n",
      " [nan]\n",
      " [nan]\n",
      " [nan]\n",
      " [nan]]\n",
      "[nan, nan, nan, nan, nan, nan, nan, nan, nan, nan, nan, nan, nan, nan, nan, nan, nan, nan, nan, nan, nan, nan, nan, nan, nan, nan, nan]\n"
     ]
    }
   ],
   "source": [
    "for state in dp.states:\n",
    "    \n",
    "    model = models[state]\n",
    "\n",
    "    previous_days = dp.access_split(state)[0].tail(window_size+forecast_day)\n",
    "    inputs = np.array(previous_days)\n",
    "    X_test = []\n",
    "    y_test = []\n",
    "\n",
    "    for i in range(window_size, inputs.shape[0]):\n",
    "        X_test.append(inputs[i-window_size:i])\n",
    "        y_test.append(inputs[i,0])\n",
    "\n",
    "    X_test, y_test = np.array(X_test), np.array(y_test)\n",
    "    \n",
    "    y_pred = model.predict(X_test)\n",
    "    print(state, y_pred)\n",
    "    y_result = y_pred.flatten().tolist()\n",
    "    print(y_result)\n",
    "    break"
   ]
  },
  {
   "cell_type": "code",
   "execution_count": 23,
   "metadata": {},
   "outputs": [
    {
     "name": "stdout",
     "output_type": "stream",
     "text": [
      "New York [[0.8266793 ]\n",
      " [0.8423314 ]\n",
      " [0.8576897 ]\n",
      " [0.87289304]\n",
      " [0.8882656 ]\n",
      " [0.90354747]\n",
      " [0.9179762 ]\n",
      " [0.92874813]\n",
      " [0.9394484 ]\n",
      " [0.94981164]\n",
      " [0.9593652 ]\n",
      " [0.9689189 ]\n",
      " [0.9784492 ]\n",
      " [0.9882381 ]\n",
      " [0.99805623]\n",
      " [1.0078875 ]\n",
      " [1.0176523 ]\n",
      " [1.0271331 ]\n",
      " [1.0366396 ]\n",
      " [1.0463129 ]\n",
      " [1.0558351 ]\n",
      " [1.0651349 ]\n",
      " [1.0742232 ]\n",
      " [1.0831944 ]\n",
      " [1.0920032 ]\n",
      " [1.1007282 ]\n",
      " [1.109491  ]]\n",
      "[0.8266792893409729, 0.8423314094543457, 0.8576896786689758, 0.8728930354118347, 0.8882656097412109, 0.903547465801239, 0.9179762005805969, 0.9287481307983398, 0.9394484162330627, 0.9498116374015808, 0.95936518907547, 0.9689189195632935, 0.9784492254257202, 0.9882380962371826, 0.9980562329292297, 1.0078874826431274, 1.0176522731781006, 1.0271331071853638, 1.0366395711898804, 1.046312928199768, 1.0558351278305054, 1.065134882926941, 1.0742231607437134, 1.083194375038147, 1.0920032262802124, 1.100728154182434, 1.109490990638733]\n"
     ]
    }
   ],
   "source": [
    "state = \"New York\"\n",
    "model = models[state]\n",
    "\n",
    "previous_days = dp.access_split(state)[0].tail(window_size+forecast_day)\n",
    "inputs = np.array(previous_days)\n",
    "X_test = []\n",
    "y_test = []\n",
    "\n",
    "for i in range(window_size, inputs.shape[0]):\n",
    "    X_test.append(inputs[i-window_size:i])\n",
    "    y_test.append(inputs[i,0])\n",
    "\n",
    "\n",
    "X_test, y_test = np.array(X_test), np.array(y_test)\n",
    "    \n",
    "y_pred = model.predict(X_test)\n",
    "print(state, y_pred)\n",
    "y_result = y_pred.flatten().tolist()\n",
    "print(y_result)"
   ]
  },
  {
   "cell_type": "code",
   "execution_count": 25,
   "metadata": {},
   "outputs": [
    {
     "name": "stdout",
     "output_type": "stream",
     "text": [
      "dict_values([<tensorflow.python.keras.engine.sequential.Sequential object at 0x7fc8fa9b9b20>, <tensorflow.python.keras.engine.sequential.Sequential object at 0x7fc8db63e2b0>, <tensorflow.python.keras.engine.sequential.Sequential object at 0x7fc8db0e6100>, <tensorflow.python.keras.engine.sequential.Sequential object at 0x7fc8e0b7b040>, <tensorflow.python.keras.engine.sequential.Sequential object at 0x7fc8cd8c4370>, <tensorflow.python.keras.engine.sequential.Sequential object at 0x7fc8cd69ef10>, <tensorflow.python.keras.engine.sequential.Sequential object at 0x7fc8da107fa0>, <tensorflow.python.keras.engine.sequential.Sequential object at 0x7fc8bf5ddbe0>, <tensorflow.python.keras.engine.sequential.Sequential object at 0x7fc8c4b2cac0>, <tensorflow.python.keras.engine.sequential.Sequential object at 0x7fc8ab3dadc0>, <tensorflow.python.keras.engine.sequential.Sequential object at 0x7fc8ab3cc760>, <tensorflow.python.keras.engine.sequential.Sequential object at 0x7fc8b2c2eee0>, <tensorflow.python.keras.engine.sequential.Sequential object at 0x7fc8b2c14130>, <tensorflow.python.keras.engine.sequential.Sequential object at 0x7fc8ba754940>, <tensorflow.python.keras.engine.sequential.Sequential object at 0x7fc89f73f220>, <tensorflow.python.keras.engine.sequential.Sequential object at 0x7fc88b8c6f70>, <tensorflow.python.keras.engine.sequential.Sequential object at 0x7fc88b8e4040>, <tensorflow.python.keras.engine.sequential.Sequential object at 0x7fc88e048670>, <tensorflow.python.keras.engine.sequential.Sequential object at 0x7fc87b9db3a0>, <tensorflow.python.keras.engine.sequential.Sequential object at 0x7fc87b9e2280>, <tensorflow.python.keras.engine.sequential.Sequential object at 0x7fc881222d00>, <tensorflow.python.keras.engine.sequential.Sequential object at 0x7fc885e25490>, <tensorflow.python.keras.engine.sequential.Sequential object at 0x7fc870e90e20>, <tensorflow.python.keras.engine.sequential.Sequential object at 0x7fc87490deb0>, <tensorflow.python.keras.engine.sequential.Sequential object at 0x7fc8749350d0>, <tensorflow.python.keras.engine.sequential.Sequential object at 0x7fc85f28b430>, <tensorflow.python.keras.engine.sequential.Sequential object at 0x7fc85f292190>, <tensorflow.python.keras.engine.sequential.Sequential object at 0x7fc8664bfbb0>, <tensorflow.python.keras.engine.sequential.Sequential object at 0x7fc84c20f460>, <tensorflow.python.keras.engine.sequential.Sequential object at 0x7fc868ef6940>, <tensorflow.python.keras.engine.sequential.Sequential object at 0x7fc857656250>, <tensorflow.python.keras.engine.sequential.Sequential object at 0x7fc83b6f46a0>, <tensorflow.python.keras.engine.sequential.Sequential object at 0x7fc84436d910>, <tensorflow.python.keras.engine.sequential.Sequential object at 0x7fc84528e880>, <tensorflow.python.keras.engine.sequential.Sequential object at 0x7fc82c24b1f0>, <tensorflow.python.keras.engine.sequential.Sequential object at 0x7fc82f063dc0>, <tensorflow.python.keras.engine.sequential.Sequential object at 0x7fc87b8e03a0>, <tensorflow.python.keras.engine.sequential.Sequential object at 0x7fc87b8e8100>, <tensorflow.python.keras.engine.sequential.Sequential object at 0x7fc8209a69a0>, <tensorflow.python.keras.engine.sequential.Sequential object at 0x7fc82946c310>, <tensorflow.python.keras.engine.sequential.Sequential object at 0x7fc80c263d90>, <tensorflow.python.keras.engine.sequential.Sequential object at 0x7fc811a144c0>, <tensorflow.python.keras.engine.sequential.Sequential object at 0x7fc813f49730>, <tensorflow.python.keras.engine.sequential.Sequential object at 0x7fc7fc06c730>, <tensorflow.python.keras.engine.sequential.Sequential object at 0x7fc801432910>, <tensorflow.python.keras.engine.sequential.Sequential object at 0x7fc8046e02b0>, <tensorflow.python.keras.engine.sequential.Sequential object at 0x7fc7ed9f5370>, <tensorflow.python.keras.engine.sequential.Sequential object at 0x7fc7f8db0310>, <tensorflow.python.keras.engine.sequential.Sequential object at 0x7fc7dcc26850>, <tensorflow.python.keras.engine.sequential.Sequential object at 0x7fc7dbf66f40>])\n"
     ]
    }
   ],
   "source": [
    "print(models.values())"
   ]
  },
  {
   "cell_type": "code",
   "execution_count": null,
   "metadata": {},
   "outputs": [],
   "source": []
  }
 ],
 "metadata": {
  "kernelspec": {
   "display_name": "Python 3",
   "language": "python",
   "name": "python3"
  },
  "language_info": {
   "codemirror_mode": {
    "name": "ipython",
    "version": 3
   },
   "file_extension": ".py",
   "mimetype": "text/x-python",
   "name": "python",
   "nbconvert_exporter": "python",
   "pygments_lexer": "ipython3",
   "version": "3.8.3"
  }
 },
 "nbformat": 4,
 "nbformat_minor": 4
}
